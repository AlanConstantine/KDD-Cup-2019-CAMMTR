{
 "cells": [
  {
   "cell_type": "code",
   "execution_count": 7,
   "metadata": {
    "ExecuteTime": {
     "end_time": "2019-05-02T06:36:02.904187Z",
     "start_time": "2019-05-02T06:36:02.786348Z"
    }
   },
   "outputs": [
    {
     "name": "stdout",
     "output_type": "stream",
     "text": [
      "profiles.csv\n",
      "test_plans.csv\n",
      "test_queries.csv\n",
      "train_clicks.csv\n",
      "train_plans.csv\n",
      "train_queries.csv\n"
     ]
    }
   ],
   "source": [
    "!ls ../Data/data_set_phase1/"
   ]
  },
  {
   "cell_type": "code",
   "execution_count": null,
   "metadata": {},
   "outputs": [],
   "source": []
  },
  {
   "cell_type": "code",
   "execution_count": 8,
   "metadata": {
    "ExecuteTime": {
     "end_time": "2019-05-02T06:36:03.607279Z",
     "start_time": "2019-05-02T06:36:02.912581Z"
    }
   },
   "outputs": [],
   "source": [
    "import matplotlib.pyplot as plt\n",
    "import pandas as pd\n",
    "import numpy as np\n",
    "import seaborn as sns\n",
    "import matplotlib as mpl\n",
    "import warnings\n",
    "import time\n",
    "from collections import Counter\n",
    "warnings.filterwarnings(\"ignore\")\n",
    "\n",
    "plt.style.use(\"fivethirtyeight\")\n",
    "sns.set_style({'font.sans-serif': ['simsun', 'Arial']})\n",
    "sns.set_style('darkgrid', {'font.sans-serif': ['simhei', 'Arial']})\n",
    "%matplotlib inline\n",
    "\n",
    "main_path = r'../Data/data_set_phase1/'"
   ]
  },
  {
   "cell_type": "markdown",
   "metadata": {},
   "source": [
    "# Train data"
   ]
  },
  {
   "cell_type": "markdown",
   "metadata": {},
   "source": [
    "## Train queries"
   ]
  },
  {
   "cell_type": "markdown",
   "metadata": {},
   "source": [
    "### EDA"
   ]
  },
  {
   "cell_type": "code",
   "execution_count": 9,
   "metadata": {
    "ExecuteTime": {
     "end_time": "2019-05-02T06:36:04.179012Z",
     "start_time": "2019-05-02T06:36:03.609610Z"
    }
   },
   "outputs": [],
   "source": [
    "train_queries_df = pd.read_csv(main_path+'train_queries.csv')\n",
    "# train_queries_df = train_queries_df_copy.copy()"
   ]
  },
  {
   "cell_type": "code",
   "execution_count": 10,
   "metadata": {
    "ExecuteTime": {
     "end_time": "2019-05-02T06:36:04.200107Z",
     "start_time": "2019-05-02T06:36:04.183146Z"
    }
   },
   "outputs": [
    {
     "data": {
      "text/html": [
       "<div>\n",
       "<style scoped>\n",
       "    .dataframe tbody tr th:only-of-type {\n",
       "        vertical-align: middle;\n",
       "    }\n",
       "\n",
       "    .dataframe tbody tr th {\n",
       "        vertical-align: top;\n",
       "    }\n",
       "\n",
       "    .dataframe thead th {\n",
       "        text-align: right;\n",
       "    }\n",
       "</style>\n",
       "<table border=\"1\" class=\"dataframe\">\n",
       "  <thead>\n",
       "    <tr style=\"text-align: right;\">\n",
       "      <th></th>\n",
       "      <th>sid</th>\n",
       "      <th>pid</th>\n",
       "      <th>req_time</th>\n",
       "      <th>o</th>\n",
       "      <th>d</th>\n",
       "    </tr>\n",
       "  </thead>\n",
       "  <tbody>\n",
       "    <tr>\n",
       "      <th>0</th>\n",
       "      <td>3000821</td>\n",
       "      <td>NaN</td>\n",
       "      <td>2018-11-02 17:54:30</td>\n",
       "      <td>116.29,39.97</td>\n",
       "      <td>116.32,39.96</td>\n",
       "    </tr>\n",
       "    <tr>\n",
       "      <th>1</th>\n",
       "      <td>3085857</td>\n",
       "      <td>210736.0</td>\n",
       "      <td>2018-11-16 10:53:10</td>\n",
       "      <td>116.39,39.84</td>\n",
       "      <td>116.33,39.79</td>\n",
       "    </tr>\n",
       "    <tr>\n",
       "      <th>2</th>\n",
       "      <td>2944522</td>\n",
       "      <td>NaN</td>\n",
       "      <td>2018-10-06 10:33:58</td>\n",
       "      <td>116.31,39.93</td>\n",
       "      <td>116.27,40.00</td>\n",
       "    </tr>\n",
       "    <tr>\n",
       "      <th>3</th>\n",
       "      <td>559931</td>\n",
       "      <td>202427.0</td>\n",
       "      <td>2018-11-23 14:54:11</td>\n",
       "      <td>116.27,39.88</td>\n",
       "      <td>116.39,39.90</td>\n",
       "    </tr>\n",
       "    <tr>\n",
       "      <th>4</th>\n",
       "      <td>2819352</td>\n",
       "      <td>172251.0</td>\n",
       "      <td>2018-10-30 11:48:41</td>\n",
       "      <td>116.34,39.96</td>\n",
       "      <td>116.37,39.86</td>\n",
       "    </tr>\n",
       "  </tbody>\n",
       "</table>\n",
       "</div>"
      ],
      "text/plain": [
       "       sid       pid             req_time             o             d\n",
       "0  3000821       NaN  2018-11-02 17:54:30  116.29,39.97  116.32,39.96\n",
       "1  3085857  210736.0  2018-11-16 10:53:10  116.39,39.84  116.33,39.79\n",
       "2  2944522       NaN  2018-10-06 10:33:58  116.31,39.93  116.27,40.00\n",
       "3   559931  202427.0  2018-11-23 14:54:11  116.27,39.88  116.39,39.90\n",
       "4  2819352  172251.0  2018-10-30 11:48:41  116.34,39.96  116.37,39.86"
      ]
     },
     "execution_count": 10,
     "metadata": {},
     "output_type": "execute_result"
    }
   ],
   "source": [
    "train_queries_df.head()"
   ]
  },
  {
   "cell_type": "markdown",
   "metadata": {
    "ExecuteTime": {
     "end_time": "2019-04-28T04:22:25.673577Z",
     "start_time": "2019-04-28T04:22:25.664143Z"
    }
   },
   "source": [
    "* sid: session ID [会话id]\n",
    "* pid: profile ID [用户id？]\n",
    "* req_time: request time [查询请求时间]\n",
    "* o: original point [出发地坐标]\n",
    "* d: destination point [目的地坐标]"
   ]
  },
  {
   "cell_type": "code",
   "execution_count": 11,
   "metadata": {
    "ExecuteTime": {
     "end_time": "2019-05-02T06:36:04.391049Z",
     "start_time": "2019-05-02T06:36:04.204393Z"
    }
   },
   "outputs": [
    {
     "data": {
      "text/plain": [
       "sid              0\n",
       "pid         163979\n",
       "req_time         0\n",
       "o                0\n",
       "d                0\n",
       "dtype: int64"
      ]
     },
     "execution_count": 11,
     "metadata": {},
     "output_type": "execute_result"
    }
   ],
   "source": [
    "# check null\n",
    "train_queries_df.isnull().sum()"
   ]
  },
  {
   "cell_type": "code",
   "execution_count": 12,
   "metadata": {
    "ExecuteTime": {
     "end_time": "2019-05-02T06:36:04.402890Z",
     "start_time": "2019-05-02T06:36:04.395352Z"
    }
   },
   "outputs": [
    {
     "data": {
      "text/plain": [
       "0.327958"
      ]
     },
     "execution_count": 12,
     "metadata": {},
     "output_type": "execute_result"
    }
   ],
   "source": [
    "163979/train_queries_df.shape[0]"
   ]
  },
  {
   "cell_type": "code",
   "execution_count": 13,
   "metadata": {
    "ExecuteTime": {
     "end_time": "2019-05-02T06:36:05.000517Z",
     "start_time": "2019-05-02T06:36:04.404595Z"
    }
   },
   "outputs": [
    {
     "data": {
      "text/plain": [
       "sid         1.000000\n",
       "pid         0.092382\n",
       "req_time    0.928422\n",
       "o           0.010920\n",
       "d           0.009846\n",
       "dtype: float64"
      ]
     },
     "execution_count": 13,
     "metadata": {},
     "output_type": "execute_result"
    }
   ],
   "source": [
    "train_queries_df.nunique()/train_queries_df.shape[0]"
   ]
  },
  {
   "cell_type": "code",
   "execution_count": 14,
   "metadata": {
    "ExecuteTime": {
     "end_time": "2019-05-02T06:36:05.053053Z",
     "start_time": "2019-05-02T06:36:05.002907Z"
    }
   },
   "outputs": [
    {
     "data": {
      "text/plain": [
       "116.37,39.86    5993\n",
       "116.32,39.89    5930\n",
       "116.42,39.90    5819\n",
       "116.41,39.91    5616\n",
       "116.37,39.91    5246\n",
       "116.40,39.91    5156\n",
       "116.39,39.90    4366\n",
       "116.35,39.94    3674\n",
       "116.41,39.90    3048\n",
       "116.39,39.91    3048\n",
       "Name: o, dtype: int64"
      ]
     },
     "execution_count": 14,
     "metadata": {},
     "output_type": "execute_result"
    }
   ],
   "source": [
    "train_queries_df['o'].value_counts()[:10]"
   ]
  },
  {
   "cell_type": "code",
   "execution_count": 15,
   "metadata": {
    "ExecuteTime": {
     "end_time": "2019-05-02T06:36:05.186450Z",
     "start_time": "2019-05-02T06:36:05.055539Z"
    }
   },
   "outputs": [
    {
     "data": {
      "text/plain": [
       "116.32,39.89    16503\n",
       "116.37,39.86    13124\n",
       "116.42,39.90    11256\n",
       "116.39,39.90     7575\n",
       "116.39,39.91     7571\n",
       "116.41,39.91     6348\n",
       "116.37,39.91     5665\n",
       "116.45,39.93     5357\n",
       "116.27,40.00     4222\n",
       "116.40,39.93     3782\n",
       "Name: d, dtype: int64"
      ]
     },
     "execution_count": 15,
     "metadata": {},
     "output_type": "execute_result"
    }
   ],
   "source": [
    "train_queries_df['d'].value_counts()[:10]"
   ]
  },
  {
   "cell_type": "markdown",
   "metadata": {},
   "source": [
    "### 小结\n",
    "* pid缺失严重\n",
    "    * 讨论如何填补这个缺失值\n",
    "* sid为唯一值\n",
    "* 同一个出发地坐标或者目的坐标出现的次数多\n",
    "* 后期特征工程中需要看看req_time的时间分布情况，如：早晚高峰，节假日或者周末，周五等等。\n",
    "    * 处理方案是将时间戳划分出星期（标签型 or One-hot？）、小时（标签型 or One-hot？）、是否节假日（binary）等特征\n",
    "* 数据来自北京市用户出行的用户行为，因此在特征工程的时候是否需要考虑出发或者目的坐标的真实地理位置（市中心、商业集中地、景点等等），以此来加入堵车、人流量过高的真实现象。"
   ]
  },
  {
   "cell_type": "markdown",
   "metadata": {},
   "source": [
    "## Train plans"
   ]
  },
  {
   "cell_type": "markdown",
   "metadata": {},
   "source": [
    "### EDA"
   ]
  },
  {
   "cell_type": "code",
   "execution_count": 16,
   "metadata": {
    "ExecuteTime": {
     "end_time": "2019-05-02T06:36:07.511333Z",
     "start_time": "2019-05-02T06:36:05.188753Z"
    }
   },
   "outputs": [],
   "source": [
    "train_plans_df = pd.read_csv(main_path+'train_plans.csv')\n",
    "# train_plans_df = train_plans_df_copy.copy()"
   ]
  },
  {
   "cell_type": "code",
   "execution_count": 17,
   "metadata": {
    "ExecuteTime": {
     "end_time": "2019-05-02T06:36:07.523805Z",
     "start_time": "2019-05-02T06:36:07.513868Z"
    }
   },
   "outputs": [
    {
     "data": {
      "text/html": [
       "<div>\n",
       "<style scoped>\n",
       "    .dataframe tbody tr th:only-of-type {\n",
       "        vertical-align: middle;\n",
       "    }\n",
       "\n",
       "    .dataframe tbody tr th {\n",
       "        vertical-align: top;\n",
       "    }\n",
       "\n",
       "    .dataframe thead th {\n",
       "        text-align: right;\n",
       "    }\n",
       "</style>\n",
       "<table border=\"1\" class=\"dataframe\">\n",
       "  <thead>\n",
       "    <tr style=\"text-align: right;\">\n",
       "      <th></th>\n",
       "      <th>sid</th>\n",
       "      <th>plan_time</th>\n",
       "      <th>plans</th>\n",
       "    </tr>\n",
       "  </thead>\n",
       "  <tbody>\n",
       "    <tr>\n",
       "      <th>0</th>\n",
       "      <td>1709112</td>\n",
       "      <td>2018-11-04 11:45:04</td>\n",
       "      <td>[{\"distance\": 32303, \"price\": 600, \"eta\": 5087...</td>\n",
       "    </tr>\n",
       "    <tr>\n",
       "      <th>1</th>\n",
       "      <td>3327773</td>\n",
       "      <td>2018-10-16 19:09:29</td>\n",
       "      <td>[{\"distance\": 3427, \"price\": 300, \"eta\": 627, ...</td>\n",
       "    </tr>\n",
       "    <tr>\n",
       "      <th>2</th>\n",
       "      <td>3285959</td>\n",
       "      <td>2018-11-25 15:05:22</td>\n",
       "      <td>[{\"distance\": 36234, \"price\": 1100, \"eta\": 931...</td>\n",
       "    </tr>\n",
       "    <tr>\n",
       "      <th>3</th>\n",
       "      <td>1616170</td>\n",
       "      <td>2018-10-03 14:42:40</td>\n",
       "      <td>[{\"distance\": 11450, \"price\": 400, \"eta\": 2801...</td>\n",
       "    </tr>\n",
       "    <tr>\n",
       "      <th>4</th>\n",
       "      <td>351369</td>\n",
       "      <td>2018-10-05 19:52:37</td>\n",
       "      <td>[{\"distance\": 18495, \"price\": 600, \"eta\": 4271...</td>\n",
       "    </tr>\n",
       "  </tbody>\n",
       "</table>\n",
       "</div>"
      ],
      "text/plain": [
       "       sid            plan_time  \\\n",
       "0  1709112  2018-11-04 11:45:04   \n",
       "1  3327773  2018-10-16 19:09:29   \n",
       "2  3285959  2018-11-25 15:05:22   \n",
       "3  1616170  2018-10-03 14:42:40   \n",
       "4   351369  2018-10-05 19:52:37   \n",
       "\n",
       "                                               plans  \n",
       "0  [{\"distance\": 32303, \"price\": 600, \"eta\": 5087...  \n",
       "1  [{\"distance\": 3427, \"price\": 300, \"eta\": 627, ...  \n",
       "2  [{\"distance\": 36234, \"price\": 1100, \"eta\": 931...  \n",
       "3  [{\"distance\": 11450, \"price\": 400, \"eta\": 2801...  \n",
       "4  [{\"distance\": 18495, \"price\": 600, \"eta\": 4271...  "
      ]
     },
     "execution_count": 17,
     "metadata": {},
     "output_type": "execute_result"
    }
   ],
   "source": [
    "train_plans_df.head()"
   ]
  },
  {
   "cell_type": "markdown",
   "metadata": {},
   "source": [
    "* sid: session ID [会话id]\n",
    "* plan_time: timestamp [计划生成的时间？or 预计出行的具体时间？]\n",
    "* plans: list of route plans [计划列表]\n",
    "    * distance: the estimated route distance in meters [估计出行距离（米）]\n",
    "    * price: the estimated price in RMB cent [估计价格（人民币）]\n",
    "    * eta: the estimated time of arrival (ETA) in seconds [估计出行时间（秒）]\n",
    "    * mode: the transport mode [出行方式]"
   ]
  },
  {
   "cell_type": "code",
   "execution_count": 18,
   "metadata": {
    "ExecuteTime": {
     "end_time": "2019-05-02T06:36:07.689459Z",
     "start_time": "2019-05-02T06:36:07.526295Z"
    }
   },
   "outputs": [
    {
     "data": {
      "text/plain": [
       "sid          0\n",
       "plan_time    0\n",
       "plans        0\n",
       "dtype: int64"
      ]
     },
     "execution_count": 18,
     "metadata": {},
     "output_type": "execute_result"
    }
   ],
   "source": [
    "train_plans_df.isnull().sum()"
   ]
  },
  {
   "cell_type": "code",
   "execution_count": 19,
   "metadata": {
    "ExecuteTime": {
     "end_time": "2019-05-02T06:36:08.794074Z",
     "start_time": "2019-05-02T06:36:07.691667Z"
    }
   },
   "outputs": [
    {
     "data": {
      "text/plain": [
       "sid          1.000000\n",
       "plan_time    0.927448\n",
       "plans        0.996964\n",
       "dtype: float64"
      ]
     },
     "execution_count": 19,
     "metadata": {},
     "output_type": "execute_result"
    }
   ],
   "source": [
    "train_plans_df.nunique()/train_plans_df.shape[0]"
   ]
  },
  {
   "cell_type": "markdown",
   "metadata": {},
   "source": [
    "### 小结\n",
    "* 数据无缺失\n",
    "* 数据重复数量也不高\n",
    "* 需要根据sid结合quries表继续探索req_time和plan_time的关系\n",
    "* 时间处理过程中是否加入出行过程中的时间跨度，比如下午16点出行不是晚高峰，但是结合ETA（估计出行时间的特征），可能会在途中遇到晚高峰的情况\n",
    "    * 解决方案可以在plan_time这个特征上加上ETA，计算出到达目的地的具体时间，再做特征工程。前提是弄清楚req_time和plan_time之间的关系\n",
    "* plans得再unstack成新的表，统计每个会话里面的最大（最小、平均）价格、最长（最小、平均）出行时间、出行方式出现次数等等，具体得讨论。"
   ]
  },
  {
   "cell_type": "markdown",
   "metadata": {},
   "source": [
    "## Train clicks\n",
    "这个应该是label"
   ]
  },
  {
   "cell_type": "code",
   "execution_count": 20,
   "metadata": {
    "ExecuteTime": {
     "end_time": "2019-05-02T06:36:09.129341Z",
     "start_time": "2019-05-02T06:36:08.796529Z"
    }
   },
   "outputs": [],
   "source": [
    "train_clicks_df = pd.read_csv(main_path+'train_clicks.csv')\n",
    "# train_clicks_df = train_clicks_df_copy.copy()"
   ]
  },
  {
   "cell_type": "markdown",
   "metadata": {},
   "source": [
    "### EDA"
   ]
  },
  {
   "cell_type": "code",
   "execution_count": 21,
   "metadata": {
    "ExecuteTime": {
     "end_time": "2019-05-02T06:36:09.145046Z",
     "start_time": "2019-05-02T06:36:09.131916Z"
    }
   },
   "outputs": [
    {
     "data": {
      "text/html": [
       "<div>\n",
       "<style scoped>\n",
       "    .dataframe tbody tr th:only-of-type {\n",
       "        vertical-align: middle;\n",
       "    }\n",
       "\n",
       "    .dataframe tbody tr th {\n",
       "        vertical-align: top;\n",
       "    }\n",
       "\n",
       "    .dataframe thead th {\n",
       "        text-align: right;\n",
       "    }\n",
       "</style>\n",
       "<table border=\"1\" class=\"dataframe\">\n",
       "  <thead>\n",
       "    <tr style=\"text-align: right;\">\n",
       "      <th></th>\n",
       "      <th>sid</th>\n",
       "      <th>click_time</th>\n",
       "      <th>click_mode</th>\n",
       "    </tr>\n",
       "  </thead>\n",
       "  <tbody>\n",
       "    <tr>\n",
       "      <th>0</th>\n",
       "      <td>2848914</td>\n",
       "      <td>2018-11-17 18:42:17</td>\n",
       "      <td>1</td>\n",
       "    </tr>\n",
       "    <tr>\n",
       "      <th>1</th>\n",
       "      <td>2629085</td>\n",
       "      <td>2018-10-12 16:28:13</td>\n",
       "      <td>3</td>\n",
       "    </tr>\n",
       "    <tr>\n",
       "      <th>2</th>\n",
       "      <td>602598</td>\n",
       "      <td>2018-11-11 16:38:42</td>\n",
       "      <td>2</td>\n",
       "    </tr>\n",
       "    <tr>\n",
       "      <th>3</th>\n",
       "      <td>2022975</td>\n",
       "      <td>2018-10-14 12:28:11</td>\n",
       "      <td>9</td>\n",
       "    </tr>\n",
       "    <tr>\n",
       "      <th>4</th>\n",
       "      <td>988425</td>\n",
       "      <td>2018-11-12 16:47:30</td>\n",
       "      <td>7</td>\n",
       "    </tr>\n",
       "  </tbody>\n",
       "</table>\n",
       "</div>"
      ],
      "text/plain": [
       "       sid           click_time  click_mode\n",
       "0  2848914  2018-11-17 18:42:17           1\n",
       "1  2629085  2018-10-12 16:28:13           3\n",
       "2   602598  2018-11-11 16:38:42           2\n",
       "3  2022975  2018-10-14 12:28:11           9\n",
       "4   988425  2018-11-12 16:47:30           7"
      ]
     },
     "execution_count": 21,
     "metadata": {},
     "output_type": "execute_result"
    }
   ],
   "source": [
    "train_clicks_df.head()"
   ]
  },
  {
   "cell_type": "markdown",
   "metadata": {},
   "source": [
    "**A click record indicates the user feedback of different recommendations. i.e., a user may click on specific routes displayed to him/her for details.**\n",
    "* sid: session ID [会话时间]\n",
    "* click_time: a timestamp [点击时间戳]\n",
    "* click_mode: the clicked transport mode in the display list [用户选择的出行方式]"
   ]
  },
  {
   "cell_type": "code",
   "execution_count": 22,
   "metadata": {
    "ExecuteTime": {
     "end_time": "2019-05-02T06:36:09.268677Z",
     "start_time": "2019-05-02T06:36:09.147899Z"
    }
   },
   "outputs": [
    {
     "data": {
      "text/plain": [
       "sid           0\n",
       "click_time    0\n",
       "click_mode    0\n",
       "dtype: int64"
      ]
     },
     "execution_count": 22,
     "metadata": {},
     "output_type": "execute_result"
    }
   ],
   "source": [
    "train_clicks_df.isnull().sum()"
   ]
  },
  {
   "cell_type": "code",
   "execution_count": 23,
   "metadata": {
    "ExecuteTime": {
     "end_time": "2019-05-02T06:36:09.679592Z",
     "start_time": "2019-05-02T06:36:09.271760Z"
    }
   },
   "outputs": [
    {
     "data": {
      "text/plain": [
       "sid           1.000000\n",
       "click_time    0.931097\n",
       "click_mode    0.000024\n",
       "dtype: float64"
      ]
     },
     "execution_count": 23,
     "metadata": {},
     "output_type": "execute_result"
    }
   ],
   "source": [
    "train_clicks_df.nunique()/train_clicks_df.shape[0]"
   ]
  },
  {
   "cell_type": "code",
   "execution_count": 24,
   "metadata": {
    "ExecuteTime": {
     "end_time": "2019-05-02T06:36:09.708836Z",
     "start_time": "2019-05-02T06:36:09.688968Z"
    }
   },
   "outputs": [
    {
     "data": {
      "text/html": [
       "<div>\n",
       "<style scoped>\n",
       "    .dataframe tbody tr th:only-of-type {\n",
       "        vertical-align: middle;\n",
       "    }\n",
       "\n",
       "    .dataframe tbody tr th {\n",
       "        vertical-align: top;\n",
       "    }\n",
       "\n",
       "    .dataframe thead th {\n",
       "        text-align: right;\n",
       "    }\n",
       "</style>\n",
       "<table border=\"1\" class=\"dataframe\">\n",
       "  <thead>\n",
       "    <tr style=\"text-align: right;\">\n",
       "      <th></th>\n",
       "      <th>Frequency</th>\n",
       "      <th>Mode</th>\n",
       "    </tr>\n",
       "  </thead>\n",
       "  <tbody>\n",
       "    <tr>\n",
       "      <th>2</th>\n",
       "      <td>136491</td>\n",
       "      <td>2</td>\n",
       "    </tr>\n",
       "    <tr>\n",
       "      <th>7</th>\n",
       "      <td>78209</td>\n",
       "      <td>7</td>\n",
       "    </tr>\n",
       "    <tr>\n",
       "      <th>1</th>\n",
       "      <td>70369</td>\n",
       "      <td>1</td>\n",
       "    </tr>\n",
       "    <tr>\n",
       "      <th>9</th>\n",
       "      <td>48864</td>\n",
       "      <td>9</td>\n",
       "    </tr>\n",
       "    <tr>\n",
       "      <th>5</th>\n",
       "      <td>47480</td>\n",
       "      <td>5</td>\n",
       "    </tr>\n",
       "    <tr>\n",
       "      <th>3</th>\n",
       "      <td>24626</td>\n",
       "      <td>3</td>\n",
       "    </tr>\n",
       "    <tr>\n",
       "      <th>10</th>\n",
       "      <td>14882</td>\n",
       "      <td>10</td>\n",
       "    </tr>\n",
       "    <tr>\n",
       "      <th>4</th>\n",
       "      <td>12606</td>\n",
       "      <td>4</td>\n",
       "    </tr>\n",
       "    <tr>\n",
       "      <th>6</th>\n",
       "      <td>11863</td>\n",
       "      <td>6</td>\n",
       "    </tr>\n",
       "    <tr>\n",
       "      <th>11</th>\n",
       "      <td>6089</td>\n",
       "      <td>11</td>\n",
       "    </tr>\n",
       "    <tr>\n",
       "      <th>8</th>\n",
       "      <td>1857</td>\n",
       "      <td>8</td>\n",
       "    </tr>\n",
       "  </tbody>\n",
       "</table>\n",
       "</div>"
      ],
      "text/plain": [
       "    Frequency  Mode\n",
       "2      136491     2\n",
       "7       78209     7\n",
       "1       70369     1\n",
       "9       48864     9\n",
       "5       47480     5\n",
       "3       24626     3\n",
       "10      14882    10\n",
       "4       12606     4\n",
       "6       11863     6\n",
       "11       6089    11\n",
       "8        1857     8"
      ]
     },
     "execution_count": 24,
     "metadata": {},
     "output_type": "execute_result"
    }
   ],
   "source": [
    "mode_df = pd.DataFrame(train_clicks_df.click_mode.value_counts())\n",
    "mode_df['mode'] = mode_df.index\n",
    "mode_df.columns = ['Frequency', 'Mode']\n",
    "mode_df"
   ]
  },
  {
   "cell_type": "code",
   "execution_count": 25,
   "metadata": {
    "ExecuteTime": {
     "end_time": "2019-05-02T06:36:10.176881Z",
     "start_time": "2019-05-02T06:36:09.716758Z"
    }
   },
   "outputs": [
    {
     "data": {
      "image/png": "[encoded data removed]",
      "text/plain": [
       "<Figure size 1440x1080 with 1 Axes>"
      ]
     },
     "metadata": {},
     "output_type": "display_data"
    }
   ],
   "source": [
    "train_clicks_df.click_mode.value_counts()\n",
    "f, ax = plt.subplots(figsize=(20, 15))\n",
    "g = sns.barplot(x='Mode', y='Frequency', data=mode_df, ax=ax)"
   ]
  },
  {
   "cell_type": "code",
   "execution_count": 26,
   "metadata": {
    "ExecuteTime": {
     "end_time": "2019-05-02T06:36:10.461407Z",
     "start_time": "2019-05-02T06:36:10.179101Z"
    }
   },
   "outputs": [
    {
     "data": {
      "image/png": "[encoded data removed]",
      "text/plain": [
       "<Figure size 1440x1080 with 1 Axes>"
      ]
     },
     "metadata": {},
     "output_type": "display_data"
    }
   ],
   "source": [
    "# Pie chart if labels\n",
    "mpl.rcParams['font.size'] = 20\n",
    "f1, ax1 = plt.subplots(figsize=(20, 15))\n",
    "ax1.pie(mode_df['Frequency'].values,\n",
    "        labels=mode_df['Mode'].values, autopct='%1.1f%%', shadow=True)\n",
    "ax1.axis('equal')\n",
    "plt.show()"
   ]
  },
  {
   "cell_type": "markdown",
   "metadata": {
    "ExecuteTime": {
     "end_time": "2019-04-28T05:10:20.362995Z",
     "start_time": "2019-04-28T05:10:20.354229Z"
    }
   },
   "source": [
    "### 小结\n",
    "* label不平衡\n",
    "    * 后面得想办法处理（加权采样、组合label、模型加权输出等等）"
   ]
  },
  {
   "cell_type": "markdown",
   "metadata": {},
   "source": [
    "# Test Data"
   ]
  },
  {
   "cell_type": "code",
   "execution_count": 27,
   "metadata": {
    "ExecuteTime": {
     "end_time": "2019-05-02T06:36:10.468487Z",
     "start_time": "2019-05-02T06:36:10.463818Z"
    }
   },
   "outputs": [
    {
     "name": "stdout",
     "output_type": "stream",
     "text": [
      "train qureies shape: (500000, 5)\n",
      "train plans shape: (491054, 3)\n",
      "train clicks shape: (453336, 3)\n"
     ]
    }
   ],
   "source": [
    "print('train qureies shape:', train_queries_df.shape)\n",
    "print('train plans shape:', train_plans_df.shape)\n",
    "print('train clicks shape:', train_clicks_df.shape)"
   ]
  },
  {
   "cell_type": "markdown",
   "metadata": {},
   "source": [
    "* 并不是所有的queries都会有对应的plans"
   ]
  },
  {
   "cell_type": "markdown",
   "metadata": {},
   "source": [
    "# Test data"
   ]
  },
  {
   "cell_type": "markdown",
   "metadata": {},
   "source": [
    "## Test queries"
   ]
  },
  {
   "cell_type": "code",
   "execution_count": 28,
   "metadata": {
    "ExecuteTime": {
     "end_time": "2019-05-02T06:36:10.652435Z",
     "start_time": "2019-05-02T06:36:10.475372Z"
    }
   },
   "outputs": [],
   "source": [
    "test_queries_df = pd.read_csv(main_path+'test_queries.csv')"
   ]
  },
  {
   "cell_type": "code",
   "execution_count": 29,
   "metadata": {
    "ExecuteTime": {
     "end_time": "2019-05-02T06:36:10.666122Z",
     "start_time": "2019-05-02T06:36:10.654891Z"
    }
   },
   "outputs": [
    {
     "data": {
      "text/html": [
       "<div>\n",
       "<style scoped>\n",
       "    .dataframe tbody tr th:only-of-type {\n",
       "        vertical-align: middle;\n",
       "    }\n",
       "\n",
       "    .dataframe tbody tr th {\n",
       "        vertical-align: top;\n",
       "    }\n",
       "\n",
       "    .dataframe thead th {\n",
       "        text-align: right;\n",
       "    }\n",
       "</style>\n",
       "<table border=\"1\" class=\"dataframe\">\n",
       "  <thead>\n",
       "    <tr style=\"text-align: right;\">\n",
       "      <th></th>\n",
       "      <th>sid</th>\n",
       "      <th>pid</th>\n",
       "      <th>req_time</th>\n",
       "      <th>o</th>\n",
       "      <th>d</th>\n",
       "    </tr>\n",
       "  </thead>\n",
       "  <tbody>\n",
       "    <tr>\n",
       "      <th>0</th>\n",
       "      <td>1126541</td>\n",
       "      <td>178395.0</td>\n",
       "      <td>2018-12-05 14:51:43</td>\n",
       "      <td>116.41,39.92</td>\n",
       "      <td>116.46,39.95</td>\n",
       "    </tr>\n",
       "    <tr>\n",
       "      <th>1</th>\n",
       "      <td>453685</td>\n",
       "      <td>179178.0</td>\n",
       "      <td>2018-12-01 12:50:33</td>\n",
       "      <td>116.39,39.90</td>\n",
       "      <td>116.41,39.91</td>\n",
       "    </tr>\n",
       "    <tr>\n",
       "      <th>2</th>\n",
       "      <td>2066073</td>\n",
       "      <td>184748.0</td>\n",
       "      <td>2018-12-07 10:17:35</td>\n",
       "      <td>116.37,39.71</td>\n",
       "      <td>116.31,39.89</td>\n",
       "    </tr>\n",
       "    <tr>\n",
       "      <th>3</th>\n",
       "      <td>452746</td>\n",
       "      <td>162795.0</td>\n",
       "      <td>2018-12-01 07:52:44</td>\n",
       "      <td>116.33,39.97</td>\n",
       "      <td>116.31,39.98</td>\n",
       "    </tr>\n",
       "    <tr>\n",
       "      <th>4</th>\n",
       "      <td>1431672</td>\n",
       "      <td>116384.0</td>\n",
       "      <td>2018-12-06 10:36:30</td>\n",
       "      <td>116.51,39.68</td>\n",
       "      <td>116.51,39.68</td>\n",
       "    </tr>\n",
       "  </tbody>\n",
       "</table>\n",
       "</div>"
      ],
      "text/plain": [
       "       sid       pid             req_time             o             d\n",
       "0  1126541  178395.0  2018-12-05 14:51:43  116.41,39.92  116.46,39.95\n",
       "1   453685  179178.0  2018-12-01 12:50:33  116.39,39.90  116.41,39.91\n",
       "2  2066073  184748.0  2018-12-07 10:17:35  116.37,39.71  116.31,39.89\n",
       "3   452746  162795.0  2018-12-01 07:52:44  116.33,39.97  116.31,39.98\n",
       "4  1431672  116384.0  2018-12-06 10:36:30  116.51,39.68  116.51,39.68"
      ]
     },
     "execution_count": 29,
     "metadata": {},
     "output_type": "execute_result"
    }
   ],
   "source": [
    "test_queries_df.head()"
   ]
  },
  {
   "cell_type": "code",
   "execution_count": 30,
   "metadata": {
    "ExecuteTime": {
     "end_time": "2019-05-02T06:36:10.762068Z",
     "start_time": "2019-05-02T06:36:10.668766Z"
    }
   },
   "outputs": [
    {
     "data": {
      "text/plain": [
       "sid             0\n",
       "pid         31447\n",
       "req_time        0\n",
       "o               0\n",
       "d               0\n",
       "dtype: int64"
      ]
     },
     "execution_count": 30,
     "metadata": {},
     "output_type": "execute_result"
    }
   ],
   "source": [
    "# check null\n",
    "test_queries_df.isnull().sum()"
   ]
  },
  {
   "cell_type": "code",
   "execution_count": 31,
   "metadata": {
    "ExecuteTime": {
     "end_time": "2019-05-02T06:36:10.799364Z",
     "start_time": "2019-05-02T06:36:10.766819Z"
    }
   },
   "outputs": [
    {
     "name": "stdout",
     "output_type": "stream",
     "text": [
      "缺失占比： 0.3332732783653744\n"
     ]
    }
   ],
   "source": [
    "print('缺失占比：',31447/test_queries_df.shape[0])"
   ]
  },
  {
   "cell_type": "code",
   "execution_count": 32,
   "metadata": {
    "ExecuteTime": {
     "end_time": "2019-05-02T06:36:10.947244Z",
     "start_time": "2019-05-02T06:36:10.803803Z"
    }
   },
   "outputs": [
    {
     "data": {
      "text/plain": [
       "sid         1.000000\n",
       "pid         0.140942\n",
       "req_time    0.891880\n",
       "o           0.034517\n",
       "d           0.030564\n",
       "dtype: float64"
      ]
     },
     "execution_count": 32,
     "metadata": {},
     "output_type": "execute_result"
    }
   ],
   "source": [
    "test_queries_df.nunique()/test_queries_df.shape[0]"
   ]
  },
  {
   "cell_type": "markdown",
   "metadata": {},
   "source": [
    "### 小结\n",
    "* 和train_queries情况基本一致"
   ]
  },
  {
   "cell_type": "markdown",
   "metadata": {},
   "source": [
    "## test plan"
   ]
  },
  {
   "cell_type": "code",
   "execution_count": 33,
   "metadata": {
    "ExecuteTime": {
     "end_time": "2019-05-02T06:36:11.343837Z",
     "start_time": "2019-05-02T06:36:10.951236Z"
    }
   },
   "outputs": [],
   "source": [
    "test_plans_df = pd.read_csv(main_path+'test_plans.csv')"
   ]
  },
  {
   "cell_type": "code",
   "execution_count": 34,
   "metadata": {
    "ExecuteTime": {
     "end_time": "2019-05-02T06:36:11.356468Z",
     "start_time": "2019-05-02T06:36:11.346338Z"
    }
   },
   "outputs": [
    {
     "data": {
      "text/html": [
       "<div>\n",
       "<style scoped>\n",
       "    .dataframe tbody tr th:only-of-type {\n",
       "        vertical-align: middle;\n",
       "    }\n",
       "\n",
       "    .dataframe tbody tr th {\n",
       "        vertical-align: top;\n",
       "    }\n",
       "\n",
       "    .dataframe thead th {\n",
       "        text-align: right;\n",
       "    }\n",
       "</style>\n",
       "<table border=\"1\" class=\"dataframe\">\n",
       "  <thead>\n",
       "    <tr style=\"text-align: right;\">\n",
       "      <th></th>\n",
       "      <th>sid</th>\n",
       "      <th>plan_time</th>\n",
       "      <th>plans</th>\n",
       "    </tr>\n",
       "  </thead>\n",
       "  <tbody>\n",
       "    <tr>\n",
       "      <th>0</th>\n",
       "      <td>1112456</td>\n",
       "      <td>2018-12-05 17:39:47</td>\n",
       "      <td>[{\"distance\": 465, \"price\": \"\", \"eta\": 418, \"t...</td>\n",
       "    </tr>\n",
       "    <tr>\n",
       "      <th>1</th>\n",
       "      <td>1413458</td>\n",
       "      <td>2018-12-06 17:49:17</td>\n",
       "      <td>[{\"distance\": 28846, \"price\": 600, \"eta\": 4779...</td>\n",
       "    </tr>\n",
       "    <tr>\n",
       "      <th>2</th>\n",
       "      <td>1243160</td>\n",
       "      <td>2018-12-02 14:50:25</td>\n",
       "      <td>[{\"distance\": 24646, \"price\": 600, \"eta\": 3513...</td>\n",
       "    </tr>\n",
       "    <tr>\n",
       "      <th>3</th>\n",
       "      <td>2040494</td>\n",
       "      <td>2018-12-07 09:23:45</td>\n",
       "      <td>[{\"distance\": 32235, \"price\": 600, \"eta\": 4072...</td>\n",
       "    </tr>\n",
       "    <tr>\n",
       "      <th>4</th>\n",
       "      <td>1448779</td>\n",
       "      <td>2018-12-06 18:24:46</td>\n",
       "      <td>[{\"distance\": 13502, \"price\": 400, \"eta\": 3195...</td>\n",
       "    </tr>\n",
       "  </tbody>\n",
       "</table>\n",
       "</div>"
      ],
      "text/plain": [
       "       sid            plan_time  \\\n",
       "0  1112456  2018-12-05 17:39:47   \n",
       "1  1413458  2018-12-06 17:49:17   \n",
       "2  1243160  2018-12-02 14:50:25   \n",
       "3  2040494  2018-12-07 09:23:45   \n",
       "4  1448779  2018-12-06 18:24:46   \n",
       "\n",
       "                                               plans  \n",
       "0  [{\"distance\": 465, \"price\": \"\", \"eta\": 418, \"t...  \n",
       "1  [{\"distance\": 28846, \"price\": 600, \"eta\": 4779...  \n",
       "2  [{\"distance\": 24646, \"price\": 600, \"eta\": 3513...  \n",
       "3  [{\"distance\": 32235, \"price\": 600, \"eta\": 4072...  \n",
       "4  [{\"distance\": 13502, \"price\": 400, \"eta\": 3195...  "
      ]
     },
     "execution_count": 34,
     "metadata": {},
     "output_type": "execute_result"
    }
   ],
   "source": [
    "test_plans_df.head()"
   ]
  },
  {
   "cell_type": "code",
   "execution_count": 35,
   "metadata": {
    "ExecuteTime": {
     "end_time": "2019-05-02T06:36:11.448020Z",
     "start_time": "2019-05-02T06:36:11.359736Z"
    }
   },
   "outputs": [
    {
     "data": {
      "text/plain": [
       "sid          0\n",
       "plan_time    0\n",
       "plans        0\n",
       "dtype: int64"
      ]
     },
     "execution_count": 35,
     "metadata": {},
     "output_type": "execute_result"
    }
   ],
   "source": [
    "test_plans_df.isnull().sum()"
   ]
  },
  {
   "cell_type": "code",
   "execution_count": 36,
   "metadata": {
    "ExecuteTime": {
     "end_time": "2019-05-02T06:36:11.655962Z",
     "start_time": "2019-05-02T06:36:11.453623Z"
    }
   },
   "outputs": [
    {
     "data": {
      "text/plain": [
       "sid          1.000000\n",
       "plan_time    0.890473\n",
       "plans        0.995593\n",
       "dtype: float64"
      ]
     },
     "execution_count": 36,
     "metadata": {},
     "output_type": "execute_result"
    }
   ],
   "source": [
    "test_plans_df.nunique()/test_plans_df.shape[0]"
   ]
  },
  {
   "cell_type": "markdown",
   "metadata": {},
   "source": [
    "### 小结\n",
    "* 同train_plans"
   ]
  },
  {
   "cell_type": "markdown",
   "metadata": {},
   "source": [
    "# profiles"
   ]
  },
  {
   "cell_type": "code",
   "execution_count": 37,
   "metadata": {
    "ExecuteTime": {
     "end_time": "2019-05-02T06:36:12.090235Z",
     "start_time": "2019-05-02T06:36:11.658850Z"
    }
   },
   "outputs": [],
   "source": [
    "profiles_df = pd.read_csv(main_path+'profiles.csv')"
   ]
  },
  {
   "cell_type": "code",
   "execution_count": 38,
   "metadata": {
    "ExecuteTime": {
     "end_time": "2019-05-02T06:36:12.121450Z",
     "start_time": "2019-05-02T06:36:12.092520Z"
    }
   },
   "outputs": [
    {
     "data": {
      "text/html": [
       "<div>\n",
       "<style scoped>\n",
       "    .dataframe tbody tr th:only-of-type {\n",
       "        vertical-align: middle;\n",
       "    }\n",
       "\n",
       "    .dataframe tbody tr th {\n",
       "        vertical-align: top;\n",
       "    }\n",
       "\n",
       "    .dataframe thead th {\n",
       "        text-align: right;\n",
       "    }\n",
       "</style>\n",
       "<table border=\"1\" class=\"dataframe\">\n",
       "  <thead>\n",
       "    <tr style=\"text-align: right;\">\n",
       "      <th></th>\n",
       "      <th>pid</th>\n",
       "      <th>p0</th>\n",
       "      <th>p1</th>\n",
       "      <th>p2</th>\n",
       "      <th>p3</th>\n",
       "      <th>p4</th>\n",
       "      <th>p5</th>\n",
       "      <th>p6</th>\n",
       "      <th>p7</th>\n",
       "      <th>p8</th>\n",
       "      <th>...</th>\n",
       "      <th>p56</th>\n",
       "      <th>p57</th>\n",
       "      <th>p58</th>\n",
       "      <th>p59</th>\n",
       "      <th>p60</th>\n",
       "      <th>p61</th>\n",
       "      <th>p62</th>\n",
       "      <th>p63</th>\n",
       "      <th>p64</th>\n",
       "      <th>p65</th>\n",
       "    </tr>\n",
       "  </thead>\n",
       "  <tbody>\n",
       "    <tr>\n",
       "      <th>0</th>\n",
       "      <td>196356</td>\n",
       "      <td>1.0</td>\n",
       "      <td>0.0</td>\n",
       "      <td>0.0</td>\n",
       "      <td>0.0</td>\n",
       "      <td>0.0</td>\n",
       "      <td>0.0</td>\n",
       "      <td>0.0</td>\n",
       "      <td>0.0</td>\n",
       "      <td>1.0</td>\n",
       "      <td>...</td>\n",
       "      <td>0.0</td>\n",
       "      <td>0.0</td>\n",
       "      <td>0.0</td>\n",
       "      <td>0.0</td>\n",
       "      <td>0.0</td>\n",
       "      <td>0.0</td>\n",
       "      <td>0.0</td>\n",
       "      <td>0.0</td>\n",
       "      <td>0.0</td>\n",
       "      <td>0.0</td>\n",
       "    </tr>\n",
       "    <tr>\n",
       "      <th>1</th>\n",
       "      <td>204083</td>\n",
       "      <td>1.0</td>\n",
       "      <td>0.0</td>\n",
       "      <td>0.0</td>\n",
       "      <td>0.0</td>\n",
       "      <td>0.0</td>\n",
       "      <td>0.0</td>\n",
       "      <td>0.0</td>\n",
       "      <td>1.0</td>\n",
       "      <td>0.0</td>\n",
       "      <td>...</td>\n",
       "      <td>0.0</td>\n",
       "      <td>0.0</td>\n",
       "      <td>0.0</td>\n",
       "      <td>1.0</td>\n",
       "      <td>0.0</td>\n",
       "      <td>0.0</td>\n",
       "      <td>0.0</td>\n",
       "      <td>1.0</td>\n",
       "      <td>0.0</td>\n",
       "      <td>0.0</td>\n",
       "    </tr>\n",
       "    <tr>\n",
       "      <th>2</th>\n",
       "      <td>170667</td>\n",
       "      <td>0.0</td>\n",
       "      <td>0.0</td>\n",
       "      <td>1.0</td>\n",
       "      <td>0.0</td>\n",
       "      <td>0.0</td>\n",
       "      <td>0.0</td>\n",
       "      <td>0.0</td>\n",
       "      <td>1.0</td>\n",
       "      <td>0.0</td>\n",
       "      <td>...</td>\n",
       "      <td>0.0</td>\n",
       "      <td>0.0</td>\n",
       "      <td>0.0</td>\n",
       "      <td>0.0</td>\n",
       "      <td>0.0</td>\n",
       "      <td>0.0</td>\n",
       "      <td>1.0</td>\n",
       "      <td>0.0</td>\n",
       "      <td>0.0</td>\n",
       "      <td>0.0</td>\n",
       "    </tr>\n",
       "    <tr>\n",
       "      <th>3</th>\n",
       "      <td>115511</td>\n",
       "      <td>0.0</td>\n",
       "      <td>0.0</td>\n",
       "      <td>0.0</td>\n",
       "      <td>1.0</td>\n",
       "      <td>0.0</td>\n",
       "      <td>0.0</td>\n",
       "      <td>0.0</td>\n",
       "      <td>0.0</td>\n",
       "      <td>1.0</td>\n",
       "      <td>...</td>\n",
       "      <td>0.0</td>\n",
       "      <td>0.0</td>\n",
       "      <td>0.0</td>\n",
       "      <td>0.0</td>\n",
       "      <td>0.0</td>\n",
       "      <td>0.0</td>\n",
       "      <td>0.0</td>\n",
       "      <td>1.0</td>\n",
       "      <td>0.0</td>\n",
       "      <td>0.0</td>\n",
       "    </tr>\n",
       "    <tr>\n",
       "      <th>4</th>\n",
       "      <td>129719</td>\n",
       "      <td>0.0</td>\n",
       "      <td>0.0</td>\n",
       "      <td>1.0</td>\n",
       "      <td>0.0</td>\n",
       "      <td>0.0</td>\n",
       "      <td>0.0</td>\n",
       "      <td>0.0</td>\n",
       "      <td>0.0</td>\n",
       "      <td>1.0</td>\n",
       "      <td>...</td>\n",
       "      <td>0.0</td>\n",
       "      <td>0.0</td>\n",
       "      <td>0.0</td>\n",
       "      <td>0.0</td>\n",
       "      <td>1.0</td>\n",
       "      <td>0.0</td>\n",
       "      <td>0.0</td>\n",
       "      <td>0.0</td>\n",
       "      <td>0.0</td>\n",
       "      <td>0.0</td>\n",
       "    </tr>\n",
       "  </tbody>\n",
       "</table>\n",
       "<p>5 rows × 67 columns</p>\n",
       "</div>"
      ],
      "text/plain": [
       "      pid   p0   p1   p2   p3   p4   p5   p6   p7   p8 ...   p56  p57  p58  \\\n",
       "0  196356  1.0  0.0  0.0  0.0  0.0  0.0  0.0  0.0  1.0 ...   0.0  0.0  0.0   \n",
       "1  204083  1.0  0.0  0.0  0.0  0.0  0.0  0.0  1.0  0.0 ...   0.0  0.0  0.0   \n",
       "2  170667  0.0  0.0  1.0  0.0  0.0  0.0  0.0  1.0  0.0 ...   0.0  0.0  0.0   \n",
       "3  115511  0.0  0.0  0.0  1.0  0.0  0.0  0.0  0.0  1.0 ...   0.0  0.0  0.0   \n",
       "4  129719  0.0  0.0  1.0  0.0  0.0  0.0  0.0  0.0  1.0 ...   0.0  0.0  0.0   \n",
       "\n",
       "   p59  p60  p61  p62  p63  p64  p65  \n",
       "0  0.0  0.0  0.0  0.0  0.0  0.0  0.0  \n",
       "1  1.0  0.0  0.0  0.0  1.0  0.0  0.0  \n",
       "2  0.0  0.0  0.0  1.0  0.0  0.0  0.0  \n",
       "3  0.0  0.0  0.0  0.0  1.0  0.0  0.0  \n",
       "4  0.0  1.0  0.0  0.0  0.0  0.0  0.0  \n",
       "\n",
       "[5 rows x 67 columns]"
      ]
     },
     "execution_count": 38,
     "metadata": {},
     "output_type": "execute_result"
    }
   ],
   "source": [
    "profiles_df.head()"
   ]
  },
  {
   "cell_type": "code",
   "execution_count": 39,
   "metadata": {
    "ExecuteTime": {
     "end_time": "2019-05-02T06:36:12.283567Z",
     "start_time": "2019-05-02T06:36:12.124255Z"
    }
   },
   "outputs": [
    {
     "name": "stdout",
     "output_type": "stream",
     "text": [
      "<class 'pandas.core.frame.DataFrame'>\n",
      "RangeIndex: 63090 entries, 0 to 63089\n",
      "Data columns (total 67 columns):\n",
      "pid    63090 non-null int64\n",
      "p0     63090 non-null float64\n",
      "p1     63090 non-null float64\n",
      "p2     63090 non-null float64\n",
      "p3     63090 non-null float64\n",
      "p4     63090 non-null float64\n",
      "p5     63090 non-null float64\n",
      "p6     63090 non-null float64\n",
      "p7     63090 non-null float64\n",
      "p8     63090 non-null float64\n",
      "p9     63090 non-null float64\n",
      "p10    63090 non-null float64\n",
      "p11    63090 non-null float64\n",
      "p12    63090 non-null float64\n",
      "p13    63090 non-null float64\n",
      "p14    63090 non-null float64\n",
      "p15    63090 non-null float64\n",
      "p16    63090 non-null float64\n",
      "p17    63090 non-null float64\n",
      "p18    63090 non-null float64\n",
      "p19    63090 non-null float64\n",
      "p20    63090 non-null float64\n",
      "p21    63090 non-null float64\n",
      "p22    63090 non-null float64\n",
      "p23    63090 non-null float64\n",
      "p24    63090 non-null float64\n",
      "p25    63090 non-null float64\n",
      "p26    63090 non-null float64\n",
      "p27    63090 non-null float64\n",
      "p28    63090 non-null float64\n",
      "p29    63090 non-null float64\n",
      "p30    63090 non-null float64\n",
      "p31    63090 non-null float64\n",
      "p32    63090 non-null float64\n",
      "p33    63090 non-null float64\n",
      "p34    63090 non-null float64\n",
      "p35    63090 non-null float64\n",
      "p36    63090 non-null float64\n",
      "p37    63090 non-null float64\n",
      "p38    63090 non-null float64\n",
      "p39    63090 non-null float64\n",
      "p40    63090 non-null float64\n",
      "p41    63090 non-null float64\n",
      "p42    63090 non-null float64\n",
      "p43    63090 non-null float64\n",
      "p44    63090 non-null float64\n",
      "p45    63090 non-null float64\n",
      "p46    63090 non-null float64\n",
      "p47    63090 non-null float64\n",
      "p48    63090 non-null float64\n",
      "p49    63090 non-null float64\n",
      "p50    63090 non-null float64\n",
      "p51    63090 non-null float64\n",
      "p52    63090 non-null float64\n",
      "p53    63090 non-null float64\n",
      "p54    63090 non-null float64\n",
      "p55    63090 non-null float64\n",
      "p56    63090 non-null float64\n",
      "p57    63090 non-null float64\n",
      "p58    63090 non-null float64\n",
      "p59    63090 non-null float64\n",
      "p60    63090 non-null float64\n",
      "p61    63090 non-null float64\n",
      "p62    63090 non-null float64\n",
      "p63    63090 non-null float64\n",
      "p64    63090 non-null float64\n",
      "p65    63090 non-null float64\n",
      "dtypes: float64(66), int64(1)\n",
      "memory usage: 32.2 MB\n"
     ]
    }
   ],
   "source": [
    "profiles_df.info()"
   ]
  },
  {
   "cell_type": "markdown",
   "metadata": {},
   "source": [
    "* 不存在缺失的情况\n",
    "* pid的是唯一的;\n",
    "* p0-p65都是二元的;"
   ]
  },
  {
   "cell_type": "code",
   "execution_count": 40,
   "metadata": {
    "ExecuteTime": {
     "end_time": "2019-05-02T06:36:12.290203Z",
     "start_time": "2019-05-02T06:36:12.285953Z"
    }
   },
   "outputs": [
    {
     "name": "stdout",
     "output_type": "stream",
     "text": [
      "test qureies shape: (94358, 5)\n",
      "test plans shape: (92571, 3)\n",
      "profiles shape: (63090, 67)\n"
     ]
    }
   ],
   "source": [
    "print('test qureies shape:', test_queries_df.shape)\n",
    "print('test plans shape:', test_plans_df.shape)\n",
    "print('profiles shape:', profiles_df.shape)"
   ]
  },
  {
   "cell_type": "markdown",
   "metadata": {},
   "source": [
    "* test_plans和test_queries数据不对等，和train数据情况一致"
   ]
  },
  {
   "cell_type": "code",
   "execution_count": 41,
   "metadata": {
    "ExecuteTime": {
     "end_time": "2019-05-02T06:39:02.424021Z",
     "start_time": "2019-05-02T06:39:02.397339Z"
    }
   },
   "outputs": [
    {
     "data": {
      "text/plain": [
       "167770.0    6094\n",
       "112198.0    4856\n",
       "116844.0    3187\n",
       "203487.0    2818\n",
       "186452.0    2465\n",
       "Name: pid, dtype: int64"
      ]
     },
     "execution_count": 41,
     "metadata": {},
     "output_type": "execute_result"
    }
   ],
   "source": [
    "train_queries_df['pid'].value_counts().head()"
   ]
  },
  {
   "cell_type": "code",
   "execution_count": 42,
   "metadata": {
    "ExecuteTime": {
     "end_time": "2019-05-02T06:39:08.560947Z",
     "start_time": "2019-05-02T06:39:08.542940Z"
    }
   },
   "outputs": [
    {
     "data": {
      "text/plain": [
       "167770.0    1635\n",
       "112198.0    1308\n",
       "203487.0     714\n",
       "116844.0     676\n",
       "202427.0     664\n",
       "Name: pid, dtype: int64"
      ]
     },
     "execution_count": 42,
     "metadata": {},
     "output_type": "execute_result"
    }
   ],
   "source": [
    "test_queries_df['pid'].value_counts().head()"
   ]
  },
  {
   "cell_type": "code",
   "execution_count": 43,
   "metadata": {
    "ExecuteTime": {
     "end_time": "2019-05-02T06:39:34.637296Z",
     "start_time": "2019-05-02T06:39:34.629250Z"
    }
   },
   "outputs": [
    {
     "data": {
      "text/plain": [
       "(63090, 67)"
      ]
     },
     "execution_count": 43,
     "metadata": {},
     "output_type": "execute_result"
    }
   ],
   "source": [
    "profiles_df.shape"
   ]
  },
  {
   "cell_type": "code",
   "execution_count": null,
   "metadata": {},
   "outputs": [],
   "source": []
  }
 ],
 "metadata": {
  "kernelspec": {
   "display_name": "Python 3",
   "language": "python",
   "name": "python3"
  },
  "language_info": {
   "codemirror_mode": {
    "name": "ipython",
    "version": 3
   },
   "file_extension": ".py",
   "mimetype": "text/x-python",
   "name": "python",
   "nbconvert_exporter": "python",
   "pygments_lexer": "ipython3",
   "version": "3.5.2"
  },
  "toc": {
   "base_numbering": 1,
   "nav_menu": {},
   "number_sections": true,
   "sideBar": true,
   "skip_h1_title": false,
   "title_cell": "Table of Contents",
   "title_sidebar": "Contents",
   "toc_cell": false,
   "toc_position": {},
   "toc_section_display": true,
   "toc_window_display": false
  },
  "varInspector": {
   "cols": {
    "lenName": 16,
    "lenType": 16,
    "lenVar": 40
   },
   "kernels_config": {
    "python": {
     "delete_cmd_postfix": "",
     "delete_cmd_prefix": "del ",
     "library": "var_list.py",
     "varRefreshCmd": "print(var_dic_list())"
    },
    "r": {
     "delete_cmd_postfix": ") ",
     "delete_cmd_prefix": "rm(",
     "library": "var_list.r",
     "varRefreshCmd": "cat(var_dic_list()) "
    }
   },
   "types_to_exclude": [
    "module",
    "function",
    "builtin_function_or_method",
    "instance",
    "_Feature"
   ],
   "window_display": false
  }
 },
 "nbformat": 4,
 "nbformat_minor": 2
}
