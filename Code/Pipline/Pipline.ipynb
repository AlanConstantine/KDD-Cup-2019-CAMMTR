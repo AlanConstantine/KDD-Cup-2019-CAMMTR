{
 "cells": [
  {
   "cell_type": "code",
   "execution_count": 0,
   "metadata": {
    "colab": {
     "base_uri": "https://localhost:8080/",
     "height": 52
    },
    "colab_type": "code",
    "executionInfo": {
     "elapsed": 75401,
     "status": "error",
     "timestamp": 1556727122761,
     "user": {
      "displayName": "Alan Lau",
      "photoUrl": "https://lh3.googleusercontent.com/-ZaOsrA7oyQw/AAAAAAAAAAI/AAAAAAAAAAc/PW0qJYFKbUY/s64/photo.jpg",
      "userId": "02808478473948384287"
     },
     "user_tz": -480
    },
    "id": "H4_rgcWjC1wQ",
    "outputId": "4f67fd54-1f4d-4f3d-c880-0db8b5ab9e3e"
   },
   "outputs": [
    {
     "name": "stdout",
     "output_type": "stream",
     "text": [
      "E: Package 'python-software-properties' has no installation candidate\n"
     ]
    }
   ],
   "source": [
    "# import getpass\n",
    "# from oauth2client.client import GoogleCredentials\n",
    "# from google.colab import auth\n",
    "# !apt-get install - y - qq software-properties-common python-software-properties module-init-tools\n",
    "# !add-apt-repository - y ppa: alessandro-strada/ppa 2 > &1 > /dev/null\n",
    "# !apt-get update - qq 2 > &1 > /dev/null\n",
    "# !apt-get - y install - qq google-drive-ocamlfuse fuse\n",
    "# auth.authenticate_user()\n",
    "# creds = GoogleCredentials.get_application_default()\n",
    "# !google-drive-ocamlfuse - headless - id = {creds.client_id} - secret = {creds.client_secret} < /dev/null 2 > &1 | grep URL\n",
    "# vcode = getpass.getpass()\n",
    "# !echo {vcode} | google-drive-ocamlfuse - headless - id = {creds.client_id} - secret = {creds.client_secret}"
   ]
  },
  {
   "cell_type": "code",
   "execution_count": 0,
   "metadata": {
    "colab": {},
    "colab_type": "code",
    "id": "sAEXzMr_DOTo"
   },
   "outputs": [],
   "source": [
    "# !mkdir - p drive\n",
    "# !google-drive-ocamlfuse drive - o nonempty"
   ]
  },
  {
   "cell_type": "code",
   "execution_count": 0,
   "metadata": {
    "colab": {},
    "colab_type": "code",
    "id": "MCDdayZDDVVs"
   },
   "outputs": [],
   "source": [
    "# import os\n",
    "# os.chdir('drive')"
   ]
  },
  {
   "cell_type": "code",
   "execution_count": 0,
   "metadata": {
    "colab": {
     "base_uri": "https://localhost:8080/",
     "height": 34
    },
    "colab_type": "code",
    "executionInfo": {
     "elapsed": 3270,
     "status": "ok",
     "timestamp": 1556727041091,
     "user": {
      "displayName": "Alan Lau",
      "photoUrl": "https://lh3.googleusercontent.com/-ZaOsrA7oyQw/AAAAAAAAAAI/AAAAAAAAAAc/PW0qJYFKbUY/s64/photo.jpg",
      "userId": "02808478473948384287"
     },
     "user_tz": -480
    },
    "id": "6AH8_4oADX8R",
    "outputId": "de369089-fcfc-4d3d-8fbd-17517f9d4a92"
   },
   "outputs": [
    {
     "name": "stdout",
     "output_type": "stream",
     "text": [
      "ls: cannot access 'Competitions/KDD-Cup-2019-CAMMTR/Data': No such file or directory\n"
     ]
    }
   ],
   "source": [
    "# !ls Competitions/KDD-Cup-2019-CAMMTR/Data"
   ]
  },
  {
   "cell_type": "code",
   "execution_count": 1,
   "metadata": {
    "ExecuteTime": {
     "end_time": "2019-05-03T04:19:18.534517Z",
     "start_time": "2019-05-03T04:19:16.886492Z"
    },
    "colab": {},
    "colab_type": "code",
    "id": "OxlyOW7bCvXc"
   },
   "outputs": [
    {
     "name": "stderr",
     "output_type": "stream",
     "text": [
      "/Library/Frameworks/Python.framework/Versions/3.6/lib/python3.6/site-packages/lightgbm/__init__.py:46: UserWarning: Starting from version 2.2.1, the library file in distribution wheels for macOS is built by the Apple Clang (Xcode_8.3.3) compiler.\n",
      "This means that in case of installing LightGBM from PyPI via the ``pip install lightgbm`` command, you don't need to install the gcc compiler anymore.\n",
      "Instead of that, you need to install the OpenMP library, which is required for running LightGBM on the system with the Apple Clang compiler.\n",
      "You can install the OpenMP library by the following command: ``brew install libomp``.\n",
      "  \"You can install the OpenMP library by the following command: ``brew install libomp``.\", UserWarning)\n"
     ]
    }
   ],
   "source": [
    "import ast\n",
    "from itertools import product\n",
    "\n",
    "from sklearn.decomposition import TruncatedSVD\n",
    "from sklearn.feature_extraction.text import TfidfVectorizer\n",
    "from sklearn.model_selection import StratifiedKFold\n",
    "from sklearn.metrics import f1_score\n",
    "from sklearn.metrics import accuracy_score, recall_score, precision_score\n",
    "from sklearn.metrics import accuracy_score\n",
    "\n",
    "import json\n",
    "from tqdm import tqdm\n",
    "import warnings\n",
    "import numpy as np\n",
    "import pandas as pd\n",
    "import lightgbm as lgb\n",
    "import os\n",
    "\n",
    "import seaborn as sns\n",
    "import matplotlib.pyplot as plt\n",
    "%matplotlib inline\n",
    "\n",
    "warnings.filterwarnings(\"ignore\")\n",
    "\n",
    "# project_path='./Competitions/KDD-Cup-2019-CAMMTR/'\n",
    "project_path = '../../'\n",
    "\n",
    "holidays = pd.Series(\n",
    "    json.load(open(project_path+r'Data/Holidays.json'))['holidays'])\n",
    "subwayinfo = pd.read_csv(project_path+r'Data/BeijingSubway.csv')"
   ]
  },
  {
   "cell_type": "markdown",
   "metadata": {
    "colab_type": "text",
    "id": "AJFW6SL_CvXf"
   },
   "source": [
    "# Feature engineering"
   ]
  },
  {
   "cell_type": "code",
   "execution_count": 2,
   "metadata": {
    "ExecuteTime": {
     "end_time": "2019-05-03T04:19:29.412046Z",
     "start_time": "2019-05-03T04:19:29.406916Z"
    },
    "colab": {},
    "colab_type": "code",
    "id": "kCAkXW4fCvXg"
   },
   "outputs": [],
   "source": [
    "def load_data(mainpath):\n",
    "    train_queries = pd.read_csv(\n",
    "        mainpath + 'train_queries.csv', parse_dates=['req_time'])\n",
    "    train_plans = pd.read_csv(mainpath + 'train_plans.csv',\n",
    "                              parse_dates=['plan_time'])\n",
    "    train_clicks = pd.read_csv(mainpath + 'train_clicks.csv')\n",
    "    profiles = pd.read_csv(mainpath + 'profiles.csv')\n",
    "    test_queries = pd.read_csv(\n",
    "        mainpath + 'test_queries.csv', parse_dates=['req_time'])\n",
    "    test_plans = pd.read_csv(mainpath + 'test_plans.csv',\n",
    "                             parse_dates=['plan_time'])\n",
    "    return train_queries, train_plans, train_clicks, profiles, test_queries, test_plans"
   ]
  },
  {
   "cell_type": "code",
   "execution_count": 3,
   "metadata": {
    "ExecuteTime": {
     "end_time": "2019-05-03T04:19:30.316490Z",
     "start_time": "2019-05-03T04:19:30.311374Z"
    },
    "colab": {},
    "colab_type": "code",
    "id": "iUQcoS3ACvXi"
   },
   "outputs": [],
   "source": [
    "def merge(train_queries, train_plans, train_clicks, profiles, test_queries, test_plans):\n",
    "    train = train_queries.merge(train_plans, 'left', ['sid'])\n",
    "    test = test_queries.merge(test_plans, 'left', ['sid'])\n",
    "    train = train.merge(train_clicks, 'left', ['sid'])\n",
    "    train['click_mode'] = train['click_mode'].fillna(0).astype(int)\n",
    "    data = pd.concat([train, test], ignore_index=True)\n",
    "    data = data.merge(profiles, 'left', ['pid'])\n",
    "    return train, test, data"
   ]
  },
  {
   "cell_type": "code",
   "execution_count": 4,
   "metadata": {
    "ExecuteTime": {
     "end_time": "2019-05-03T04:19:34.578891Z",
     "start_time": "2019-05-03T04:19:34.555288Z"
    },
    "colab": {},
    "colab_type": "code",
    "id": "ezvgAZ46CvXj"
   },
   "outputs": [],
   "source": [
    "def gen_plan_feas(data):\n",
    "    n = data.shape[0]\n",
    "    mode_list_feas = np.zeros((n, 12))\n",
    "    max_dist, min_dist, mean_dist, std_dist = np.zeros(\n",
    "        (n,)), np.zeros((n,)), np.zeros((n,)), np.zeros((n,))\n",
    "\n",
    "    max_price, min_price, mean_price, std_price = np.zeros(\n",
    "        (n,)), np.zeros((n,)), np.zeros((n,)), np.zeros((n,))\n",
    "\n",
    "    max_eta, min_eta, mean_eta, std_eta = np.zeros(\n",
    "        (n,)), np.zeros((n,)), np.zeros((n,)), np.zeros((n,))\n",
    "\n",
    "    min_dist_mode, max_dist_mode, min_price_mode, max_price_mode, min_eta_mode, max_eta_mode, first_mode = \\\n",
    "        np.zeros((n,)), np.zeros((n,)), np.zeros((n,)), np.zeros(\n",
    "            (n,)), np.zeros((n,)), np.zeros((n,)), np.zeros((n,))\n",
    "\n",
    "    mode_texts = []\n",
    "    for i, plan in tqdm(enumerate(data['plans_json'].values)):\n",
    "        if len(plan) == 0:\n",
    "            cur_plan_list = []\n",
    "        else:\n",
    "            cur_plan_list = plan\n",
    "        if len(cur_plan_list) == 0:\n",
    "            mode_list_feas[i, 0] = 1\n",
    "            first_mode[i] = 0\n",
    "            max_dist[i] = -1\n",
    "            min_dist[i] = -1\n",
    "            mean_dist[i] = -1\n",
    "            std_dist[i] = -1\n",
    "            max_price[i] = -1\n",
    "            min_price[i] = -1\n",
    "            mean_price[i] = -1\n",
    "            std_price[i] = -1\n",
    "            max_eta[i] = -1\n",
    "            min_eta[i] = -1\n",
    "            mean_eta[i] = -1\n",
    "            std_eta[i] = -1\n",
    "            min_dist_mode[i] = -1\n",
    "            max_dist_mode[i] = -1\n",
    "            min_price_mode[i] = -1\n",
    "            max_price_mode[i] = -1\n",
    "            min_eta_mode[i] = -1\n",
    "            max_eta_mode[i] = -1\n",
    "            mode_texts.append('word_null')\n",
    "        else:\n",
    "            distance_list = []\n",
    "            price_list = []\n",
    "            eta_list = []\n",
    "            mode_list = []\n",
    "            for tmp_dit in cur_plan_list:\n",
    "                distance_list.append(int(tmp_dit['distance']))\n",
    "                if tmp_dit['price'] == '':\n",
    "                    price_list.append(0)\n",
    "                else:\n",
    "                    price_list.append(int(tmp_dit['price']))\n",
    "                eta_list.append(int(tmp_dit['eta']))\n",
    "                mode_list.append(int(tmp_dit['transport_mode']))\n",
    "            mode_texts.append(\n",
    "                ' '.join(['word_{}'.format(mode) for mode in mode_list]))\n",
    "            distance_list = np.array(distance_list)\n",
    "            price_list = np.array(price_list)\n",
    "            eta_list = np.array(eta_list)\n",
    "            mode_list = np.array(mode_list, dtype='int')\n",
    "            mode_list_feas[i, mode_list] = 1\n",
    "            distance_sort_idx = np.argsort(distance_list)\n",
    "            price_sort_idx = np.argsort(price_list)\n",
    "            eta_sort_idx = np.argsort(eta_list)\n",
    "            max_dist[i] = distance_list[distance_sort_idx[-1]]\n",
    "            min_dist[i] = distance_list[distance_sort_idx[0]]\n",
    "            mean_dist[i] = np.mean(distance_list)\n",
    "            std_dist[i] = np.std(distance_list)\n",
    "            max_price[i] = price_list[price_sort_idx[-1]]\n",
    "            min_price[i] = price_list[price_sort_idx[0]]\n",
    "            mean_price[i] = np.mean(price_list)\n",
    "            std_price[i] = np.std(price_list)\n",
    "            max_eta[i] = eta_list[eta_sort_idx[-1]]\n",
    "            min_eta[i] = eta_list[eta_sort_idx[0]]\n",
    "            mean_eta[i] = np.mean(eta_list)\n",
    "            std_eta[i] = np.std(eta_list)\n",
    "            first_mode[i] = mode_list[0]\n",
    "            max_dist_mode[i] = mode_list[distance_sort_idx[-1]]\n",
    "            min_dist_mode[i] = mode_list[distance_sort_idx[0]]\n",
    "            max_price_mode[i] = mode_list[price_sort_idx[-1]]\n",
    "            min_price_mode[i] = mode_list[price_sort_idx[0]]\n",
    "            max_eta_mode[i] = mode_list[eta_sort_idx[-1]]\n",
    "            min_eta_mode[i] = mode_list[eta_sort_idx[0]]\n",
    "    feature_data = pd.DataFrame(mode_list_feas)\n",
    "    feature_data.columns = ['mode_feas_{}'.format(i) for i in range(12)]\n",
    "    feature_data['max_dist'] = max_dist\n",
    "    feature_data['min_dist'] = min_dist\n",
    "    feature_data['mean_dist'] = mean_dist\n",
    "    feature_data['std_dist'] = std_dist\n",
    "    feature_data['max_price'] = max_price\n",
    "    feature_data['min_price'] = min_price\n",
    "    feature_data['mean_price'] = mean_price\n",
    "    feature_data['std_price'] = std_price\n",
    "    feature_data['max_eta'] = max_eta\n",
    "    feature_data['min_eta'] = min_eta\n",
    "    feature_data['mean_eta'] = mean_eta\n",
    "    feature_data['std_eta'] = std_eta\n",
    "    feature_data['max_dist_mode'] = max_dist_mode\n",
    "    feature_data['min_dist_mode'] = min_dist_mode\n",
    "    feature_data['max_price_mode'] = max_price_mode\n",
    "    feature_data['min_price_mode'] = min_price_mode\n",
    "    feature_data['max_eta_mode'] = max_eta_mode\n",
    "    feature_data['min_eta_mode'] = min_eta_mode\n",
    "    feature_data['first_mode'] = first_mode\n",
    "    print('mode tfidf...')\n",
    "    tfidf_enc = TfidfVectorizer(ngram_range=(1, 2))\n",
    "    tfidf_vec = tfidf_enc.fit_transform(mode_texts)\n",
    "    svd_enc = TruncatedSVD(n_components=10, n_iter=20, random_state=2019)\n",
    "    mode_svd = svd_enc.fit_transform(tfidf_vec)\n",
    "    mode_svd = pd.DataFrame(mode_svd)\n",
    "    mode_svd.columns = ['svd_mode_{}'.format(i) for i in range(10)]\n",
    "    plan_fea = pd.concat([feature_data, mode_svd], axis=1)\n",
    "    plan_fea['sid'] = data['sid'].values\n",
    "\n",
    "    return plan_fea"
   ]
  },
  {
   "cell_type": "code",
   "execution_count": 5,
   "metadata": {
    "ExecuteTime": {
     "end_time": "2019-05-03T04:19:36.427331Z",
     "start_time": "2019-05-03T04:19:36.424363Z"
    },
    "colab": {},
    "colab_type": "code",
    "id": "rM7o4e5JCvXn"
   },
   "outputs": [],
   "source": [
    "mainpath = project_path + r'Data/data_set_phase1/'"
   ]
  },
  {
   "cell_type": "code",
   "execution_count": 6,
   "metadata": {
    "ExecuteTime": {
     "end_time": "2019-05-03T04:19:43.469982Z",
     "start_time": "2019-05-03T04:19:38.913691Z"
    },
    "colab": {},
    "colab_type": "code",
    "id": "HxBaCBRxCvXo"
   },
   "outputs": [],
   "source": [
    "train_queries, train_plans, train_clicks, profiles, test_queries, test_plans = load_data(\n",
    "    mainpath)"
   ]
  },
  {
   "cell_type": "code",
   "execution_count": 7,
   "metadata": {
    "ExecuteTime": {
     "end_time": "2019-05-03T04:19:45.348226Z",
     "start_time": "2019-05-03T04:19:43.568694Z"
    },
    "colab": {},
    "colab_type": "code",
    "id": "wfxInGIJCvXq"
   },
   "outputs": [],
   "source": [
    "train, test, data = merge(train_queries, train_plans,\n",
    "                          train_clicks, profiles, test_queries, test_plans)"
   ]
  },
  {
   "cell_type": "code",
   "execution_count": 8,
   "metadata": {
    "ExecuteTime": {
     "end_time": "2019-05-03T04:19:46.833986Z",
     "start_time": "2019-05-03T04:19:46.821630Z"
    },
    "colab": {},
    "colab_type": "code",
    "id": "1QIdrjCiCvXw"
   },
   "outputs": [],
   "source": [
    "def feature_engineering(df):\n",
    "    df['time_diff'] = df['plan_time'].astype(\n",
    "        int) - df['req_time'].astype(int)\n",
    "\n",
    "    df['plans_json'] = data['plans'].fillna(\n",
    "        '[]').apply(lambda x: json.loads(x))\n",
    "    df_plans = gen_plan_feas(df)\n",
    "    plan_features = [col for col in df_plans.columns if col not in ['sid']]\n",
    "    df = df.merge(df_plans, on='sid', how='left')\n",
    "\n",
    "    df['req_time'] = pd.to_datetime(df['req_time'])\n",
    "    df['day_of_week'] = df['req_time'].dt.day_name()\n",
    "    df['req_date'] = df['req_time'].dt.strftime('%m-%d')\n",
    "    df['req_hour'] = df['req_time'].dt.hour\n",
    "    df['req_minute'] = df['req_time'].dt.minute\n",
    "    df['if_holiday'] = (df['req_date'].isin(holidays)).astype(int)\n",
    "\n",
    "    # Week day\n",
    "    current_c = list(df.columns.values)\n",
    "    weekdays = ['Monday', 'Tuesday', 'Wednesday',\n",
    "                'Thursday', 'Friday', 'Saturday', 'Sunday']\n",
    "    current_c.extend(weekdays)\n",
    "    df = df.reindex(columns=current_c, fill_value=0)\n",
    "    for day_name in weekdays:\n",
    "        df.loc[(df['day_of_week'] == day_name), [day_name]] = 1\n",
    "    print('week day Done.')\n",
    "\n",
    "    # Hour\n",
    "    current_c = list(df.columns.values)\n",
    "    oclock = [str(i)+'_oclock' for i in range(0, 24)]\n",
    "    current_c.extend(oclock)\n",
    "    df = df.reindex(columns=current_c, fill_value=0)\n",
    "    for h in oclock:\n",
    "        df.loc[(df['req_hour'] == int(h.split('_')[0])), [h]] = 1\n",
    "\n",
    "    print('Hour Done.')\n",
    "\n",
    "    df.drop(columns=['day_of_week', 'req_date', 'req_hour'], inplace=True)\n",
    "\n",
    "    df['o_lng'] = df['o'].apply(lambda x: float(x.split(',')[0]))\n",
    "    df['o_lat'] = df['o'].apply(lambda x: float(x.split(',')[1]))\n",
    "    df['d_lng'] = df['d'].apply(lambda x: float(x.split(',')[0]))\n",
    "    df['d_lat'] = df['d'].apply(lambda x: float(x.split(',')[1]))\n",
    "    df['od_manhattan_distance'] = abs(\n",
    "        df['o_lng']-df['d_lng'])+abs(df['o_lat']-df['d_lat'])\n",
    "\n",
    "    print('OD distance done.')\n",
    "\n",
    "    return df, weekdays, oclock, plan_features"
   ]
  },
  {
   "cell_type": "code",
   "execution_count": 9,
   "metadata": {
    "ExecuteTime": {
     "end_time": "2019-05-03T04:21:59.929084Z",
     "start_time": "2019-05-03T04:19:50.303266Z"
    },
    "colab": {
     "base_uri": "https://localhost:8080/",
     "height": 164
    },
    "colab_type": "code",
    "executionInfo": {
     "elapsed": 2393,
     "status": "error",
     "timestamp": 1556727019156,
     "user": {
      "displayName": "Alan Lau",
      "photoUrl": "https://lh3.googleusercontent.com/-ZaOsrA7oyQw/AAAAAAAAAAI/AAAAAAAAAAc/PW0qJYFKbUY/s64/photo.jpg",
      "userId": "02808478473948384287"
     },
     "user_tz": -480
    },
    "id": "BplV1S9vCvXy",
    "outputId": "064ba387-36cc-4067-b32b-de7f2c86fa75"
   },
   "outputs": [
    {
     "name": "stderr",
     "output_type": "stream",
     "text": [
      "594358it [01:35, 6227.89it/s]\n"
     ]
    },
    {
     "name": "stdout",
     "output_type": "stream",
     "text": [
      "mode tfidf...\n",
      "week day Done.\n",
      "Hour Done.\n",
      "OD distance done.\n"
     ]
    }
   ],
   "source": [
    "data, weekdays, oclock, plan_features = feature_engineering(data)"
   ]
  },
  {
   "cell_type": "markdown",
   "metadata": {},
   "source": [
    "# Reduce memory"
   ]
  },
  {
   "cell_type": "code",
   "execution_count": 10,
   "metadata": {
    "ExecuteTime": {
     "end_time": "2019-05-03T04:22:00.359646Z",
     "start_time": "2019-05-03T04:22:00.354389Z"
    }
   },
   "outputs": [],
   "source": [
    "def mem_usage(pandas_obj):\n",
    "    if isinstance(pandas_obj, pd.DataFrame):\n",
    "        usage_b = pandas_obj.memory_usage(deep=True).sum()\n",
    "    else:  # 我们假设这不是一个df，而是一个 Series\n",
    "        usage_b = pandas_obj.memory_usage(deep=True)\n",
    "    usage_mb = usage_b / 1024 ** 2  # 将 bytes 转化成 megabytes\n",
    "    return \"{:03.2f} MB\".format(usage_mb)"
   ]
  },
  {
   "cell_type": "code",
   "execution_count": 11,
   "metadata": {
    "ExecuteTime": {
     "end_time": "2019-05-03T04:22:31.421044Z",
     "start_time": "2019-05-03T04:22:00.751885Z"
    }
   },
   "outputs": [
    {
     "name": "stdout",
     "output_type": "stream",
     "text": [
      "521.48 MB\n",
      "263.01 MB\n",
      "1068.29 MB\n",
      "809.82 MB\n"
     ]
    }
   ],
   "source": [
    "data_float = data.select_dtypes(include=['float'])\n",
    "converted_float = data_float.apply(pd.to_numeric, downcast='float')\n",
    "\n",
    "print(mem_usage(data_float))\n",
    "print(mem_usage(converted_float))\n",
    "\n",
    "optimized_data = data.copy()\n",
    "\n",
    "optimized_data[converted_float.columns] = converted_float\n",
    "\n",
    "print(mem_usage(data))\n",
    "print(mem_usage(optimized_data))\n",
    "data = optimized_data"
   ]
  },
  {
   "cell_type": "markdown",
   "metadata": {
    "ExecuteTime": {
     "end_time": "2019-05-03T04:22:32.301017Z",
     "start_time": "2019-05-03T04:22:32.296715Z"
    }
   },
   "source": [
    "# Add Centroid distance"
   ]
  },
  {
   "cell_type": "code",
   "execution_count": 16,
   "metadata": {
    "ExecuteTime": {
     "end_time": "2019-05-03T04:29:11.810233Z",
     "start_time": "2019-05-03T04:29:11.662039Z"
    }
   },
   "outputs": [
    {
     "data": {
      "text/plain": [
       "(6525, 1)"
      ]
     },
     "execution_count": 16,
     "metadata": {},
     "output_type": "execute_result"
    }
   ],
   "source": [
    "o_co = data[['o']]\n",
    "d_co = data[['d']]\n",
    "\n",
    "o_co.columns=['co']\n",
    "d_co.columns=['co']\n",
    "\n",
    "all_co = pd.concat([d_co,o_co]).drop_duplicates()\n",
    "all_co.shape"
   ]
  },
  {
   "cell_type": "code",
   "execution_count": 18,
   "metadata": {
    "ExecuteTime": {
     "end_time": "2019-05-03T04:30:48.480235Z",
     "start_time": "2019-05-03T04:30:47.785435Z"
    }
   },
   "outputs": [],
   "source": [
    "all_co['lng'] = all_co['co'].apply(lambda x: float(x.split(',')[0]))\n",
    "all_co['lat'] = all_co['co'].apply(lambda x: float(x.split(',')[1]))"
   ]
  },
  {
   "cell_type": "code",
   "execution_count": 19,
   "metadata": {
    "ExecuteTime": {
     "end_time": "2019-05-03T04:30:50.485819Z",
     "start_time": "2019-05-03T04:30:50.474911Z"
    }
   },
   "outputs": [
    {
     "data": {
      "text/html": [
       "<div>\n",
       "<style scoped>\n",
       "    .dataframe tbody tr th:only-of-type {\n",
       "        vertical-align: middle;\n",
       "    }\n",
       "\n",
       "    .dataframe tbody tr th {\n",
       "        vertical-align: top;\n",
       "    }\n",
       "\n",
       "    .dataframe thead th {\n",
       "        text-align: right;\n",
       "    }\n",
       "</style>\n",
       "<table border=\"1\" class=\"dataframe\">\n",
       "  <thead>\n",
       "    <tr style=\"text-align: right;\">\n",
       "      <th></th>\n",
       "      <th>co</th>\n",
       "      <th>lng</th>\n",
       "      <th>lat</th>\n",
       "    </tr>\n",
       "  </thead>\n",
       "  <tbody>\n",
       "    <tr>\n",
       "      <th>0</th>\n",
       "      <td>116.32,39.96</td>\n",
       "      <td>116.32</td>\n",
       "      <td>39.96</td>\n",
       "    </tr>\n",
       "    <tr>\n",
       "      <th>1</th>\n",
       "      <td>116.33,39.79</td>\n",
       "      <td>116.33</td>\n",
       "      <td>39.79</td>\n",
       "    </tr>\n",
       "    <tr>\n",
       "      <th>2</th>\n",
       "      <td>116.27,40.00</td>\n",
       "      <td>116.27</td>\n",
       "      <td>40.00</td>\n",
       "    </tr>\n",
       "    <tr>\n",
       "      <th>3</th>\n",
       "      <td>116.39,39.90</td>\n",
       "      <td>116.39</td>\n",
       "      <td>39.90</td>\n",
       "    </tr>\n",
       "    <tr>\n",
       "      <th>4</th>\n",
       "      <td>116.37,39.86</td>\n",
       "      <td>116.37</td>\n",
       "      <td>39.86</td>\n",
       "    </tr>\n",
       "  </tbody>\n",
       "</table>\n",
       "</div>"
      ],
      "text/plain": [
       "             co     lng    lat\n",
       "0  116.32,39.96  116.32  39.96\n",
       "1  116.33,39.79  116.33  39.79\n",
       "2  116.27,40.00  116.27  40.00\n",
       "3  116.39,39.90  116.39  39.90\n",
       "4  116.37,39.86  116.37  39.86"
      ]
     },
     "execution_count": 19,
     "metadata": {},
     "output_type": "execute_result"
    }
   ],
   "source": [
    "all_co.head()"
   ]
  },
  {
   "cell_type": "markdown",
   "metadata": {
    "ExecuteTime": {
     "start_time": "2019-05-01T16:46:57.236Z"
    }
   },
   "source": [
    "# Add station distance feature"
   ]
  },
  {
   "cell_type": "code",
   "execution_count": 12,
   "metadata": {
    "ExecuteTime": {
     "end_time": "2019-05-01T20:12:30.358782Z",
     "start_time": "2019-05-01T20:05:28.738093Z"
    }
   },
   "outputs": [
    {
     "name": "stderr",
     "output_type": "stream",
     "text": [
      "100%|██████████| 5649/5649 [03:41<00:00, 25.46it/s]\n",
      "100%|██████████| 5101/5101 [03:19<00:00, 25.58it/s]\n"
     ]
    }
   ],
   "source": [
    "data['o_nearest_dis'] = np.nan\n",
    "data['d_nearest_dis'] = np.nan\n",
    "\n",
    "for co in tqdm(data['o'].unique()):\n",
    "    lg, la = co.split(',')\n",
    "    min_dis = (abs(subwayinfo['station_longitude']-float(lg)) +\n",
    "               abs(subwayinfo['station_latitude']-float(la))).min()\n",
    "    data.loc[(data['o'] == co), 'o_nearest_dis'] = min_dis\n",
    "\n",
    "\n",
    "for co in tqdm(data['d'].unique()):\n",
    "    lg, la = co.split(',')\n",
    "    min_dis = (abs(subwayinfo['station_longitude']-float(lg)) +\n",
    "               abs(subwayinfo['station_latitude']-float(la))).min()\n",
    "    data.loc[(data['d'] == co), 'd_nearest_dis'] = min_dis"
   ]
  },
  {
   "cell_type": "code",
   "execution_count": 13,
   "metadata": {
    "ExecuteTime": {
     "end_time": "2019-05-01T20:12:30.971933Z",
     "start_time": "2019-05-01T20:12:30.964632Z"
    }
   },
   "outputs": [
    {
     "data": {
      "text/plain": [
       "array(['click_mode', 'click_time', 'd', 'o', 'pid', 'plan_time', 'plans',\n",
       "       'req_time', 'sid', 'p0', 'p1', 'p2', 'p3', 'p4', 'p5', 'p6', 'p7',\n",
       "       'p8', 'p9', 'p10', 'p11', 'p12', 'p13', 'p14', 'p15', 'p16', 'p17',\n",
       "       'p18', 'p19', 'p20', 'p21', 'p22', 'p23', 'p24', 'p25', 'p26',\n",
       "       'p27', 'p28', 'p29', 'p30', 'p31', 'p32', 'p33', 'p34', 'p35',\n",
       "       'p36', 'p37', 'p38', 'p39', 'p40', 'p41', 'p42', 'p43', 'p44',\n",
       "       'p45', 'p46', 'p47', 'p48', 'p49', 'p50', 'p51', 'p52', 'p53',\n",
       "       'p54', 'p55', 'p56', 'p57', 'p58', 'p59', 'p60', 'p61', 'p62',\n",
       "       'p63', 'p64', 'p65', 'time_diff', 'plans_json', 'mode_feas_0',\n",
       "       'mode_feas_1', 'mode_feas_2', 'mode_feas_3', 'mode_feas_4',\n",
       "       'mode_feas_5', 'mode_feas_6', 'mode_feas_7', 'mode_feas_8',\n",
       "       'mode_feas_9', 'mode_feas_10', 'mode_feas_11', 'max_dist',\n",
       "       'min_dist', 'mean_dist', 'std_dist', 'max_price', 'min_price',\n",
       "       'mean_price', 'std_price', 'max_eta', 'min_eta', 'mean_eta',\n",
       "       'std_eta', 'max_dist_mode', 'min_dist_mode', 'max_price_mode',\n",
       "       'min_price_mode', 'max_eta_mode', 'min_eta_mode', 'first_mode',\n",
       "       'svd_mode_0', 'svd_mode_1', 'svd_mode_2', 'svd_mode_3',\n",
       "       'svd_mode_4', 'svd_mode_5', 'svd_mode_6', 'svd_mode_7',\n",
       "       'svd_mode_8', 'svd_mode_9', 'req_minute', 'if_holiday', 'Monday',\n",
       "       'Tuesday', 'Wednesday', 'Thursday', 'Friday', 'Saturday', 'Sunday',\n",
       "       '0_oclock', '1_oclock', '2_oclock', '3_oclock', '4_oclock',\n",
       "       '5_oclock', '6_oclock', '7_oclock', '8_oclock', '9_oclock',\n",
       "       '10_oclock', '11_oclock', '12_oclock', '13_oclock', '14_oclock',\n",
       "       '15_oclock', '16_oclock', '17_oclock', '18_oclock', '19_oclock',\n",
       "       '20_oclock', '21_oclock', '22_oclock', '23_oclock', 'o_lng',\n",
       "       'o_lat', 'd_lng', 'd_lat', 'od_manhattan_distance',\n",
       "       'o_nearest_dis', 'd_nearest_dis'], dtype=object)"
      ]
     },
     "execution_count": 13,
     "metadata": {},
     "output_type": "execute_result"
    }
   ],
   "source": [
    "data.columns.values"
   ]
  },
  {
   "cell_type": "code",
   "execution_count": 31,
   "metadata": {
    "ExecuteTime": {
     "end_time": "2019-05-02T02:04:58.151874Z",
     "start_time": "2019-05-02T02:04:58.142444Z"
    },
    "colab": {},
    "colab_type": "code",
    "id": "rsLlF6-UCvXz"
   },
   "outputs": [
    {
     "name": "stdout",
     "output_type": "stream",
     "text": [
      "Got 147 features\n"
     ]
    }
   ],
   "source": [
    "profile_feature = ['p' + str(i) for i in range(66)]\n",
    "origin_num_feature = ['o_lng', 'o_lat', 'd_lng', 'd_lat',\n",
    "                      'od_manhattan_distance', 'o_nearest_dis', 'd_nearest_dis'] + profile_feature\n",
    "cate_feature = ['pid']\n",
    "time_feature = weekdays + oclock + ['if_holiday']\n",
    "feature = origin_num_feature + plan_features + time_feature+cate_feature\n",
    "print('Got %s features' % str(len(feature)))"
   ]
  },
  {
   "cell_type": "markdown",
   "metadata": {},
   "source": [
    "# Fill nan"
   ]
  },
  {
   "cell_type": "code",
   "execution_count": 15,
   "metadata": {
    "ExecuteTime": {
     "end_time": "2019-05-01T20:12:32.138020Z",
     "start_time": "2019-05-01T20:12:32.135612Z"
    }
   },
   "outputs": [],
   "source": [
    "# for p in profile_feature:\n",
    "#     data[p].fillna(data[p].mode()[0], inplace=True)"
   ]
  },
  {
   "cell_type": "markdown",
   "metadata": {
    "colab_type": "text",
    "id": "kYh6IcyBCvX1"
   },
   "source": [
    "# Data split"
   ]
  },
  {
   "cell_type": "code",
   "execution_count": 32,
   "metadata": {
    "ExecuteTime": {
     "end_time": "2019-05-02T02:05:04.842552Z",
     "start_time": "2019-05-02T02:05:04.223863Z"
    },
    "colab": {},
    "colab_type": "code",
    "id": "e_GiAJWUCvX1"
   },
   "outputs": [],
   "source": [
    "train_index = (data.req_time < '2018-11-23')\n",
    "train_x = data[train_index][feature].reset_index(drop=True)\n",
    "train_y = data[train_index].click_mode.reset_index(drop=True)\n",
    "\n",
    "valid_index = (data.req_time > '2018-11-23') & (data.req_time < '2018-12-01')\n",
    "valid_x = data[valid_index][feature].reset_index(drop=True)\n",
    "valid_y = data[valid_index].click_mode.reset_index(drop=True)\n",
    "\n",
    "test_index = (data.req_time > '2018-12-01')\n",
    "test_x = data[test_index][feature].reset_index(drop=True)"
   ]
  },
  {
   "cell_type": "markdown",
   "metadata": {
    "colab_type": "text",
    "id": "J7lCjcXYCvX3"
   },
   "source": [
    "# Train"
   ]
  },
  {
   "cell_type": "code",
   "execution_count": 17,
   "metadata": {
    "ExecuteTime": {
     "end_time": "2019-05-01T20:13:12.119841Z",
     "start_time": "2019-05-01T20:13:12.112160Z"
    },
    "colab": {},
    "colab_type": "code",
    "id": "dmVtqDJHCvXl"
   },
   "outputs": [],
   "source": [
    "def f1_weighted(labels, preds):\n",
    "    preds = np.argmax(preds.reshape(12, -1), axis=0)\n",
    "    score = f1_score(y_true=labels, y_pred=preds, average='weighted')\n",
    "    return 'f1_weighted', score, True"
   ]
  },
  {
   "cell_type": "code",
   "execution_count": 33,
   "metadata": {
    "ExecuteTime": {
     "end_time": "2019-05-02T02:05:18.853795Z",
     "start_time": "2019-05-02T02:05:18.839180Z"
    },
    "colab": {},
    "colab_type": "code",
    "id": "IaN5aeUZCvX4"
   },
   "outputs": [],
   "source": [
    "lgb_model = lgb.LGBMClassifier(boosting_type=\"gbdt\",\n",
    "                               num_leaves=61,\n",
    "                               reg_alpha=0,\n",
    "                               reg_lambda=0.01,\n",
    "                               max_depth=-1,\n",
    "                               n_estimators=2000,\n",
    "                               objective='multiclass',\n",
    "                               subsample=0.8,\n",
    "                               colsample_bytree=0.8,\n",
    "                               subsample_freq=1,\n",
    "                               min_child_samples=50,\n",
    "                               learning_rate=0.05,\n",
    "                               random_state=2019,\n",
    "                               metric=\"None\",\n",
    "                               n_jobs=-1)"
   ]
  },
  {
   "cell_type": "code",
   "execution_count": 34,
   "metadata": {
    "ExecuteTime": {
     "end_time": "2019-05-02T02:15:40.336894Z",
     "start_time": "2019-05-02T02:05:24.568972Z"
    }
   },
   "outputs": [
    {
     "name": "stdout",
     "output_type": "stream",
     "text": [
      "Training until validation scores don't improve for 100 rounds.\n",
      "[10]\tvalid_0's f1_weighted: 0.627979\n",
      "[20]\tvalid_0's f1_weighted: 0.675342\n",
      "[30]\tvalid_0's f1_weighted: 0.682087\n",
      "[40]\tvalid_0's f1_weighted: 0.683813\n",
      "[50]\tvalid_0's f1_weighted: 0.684914\n",
      "[60]\tvalid_0's f1_weighted: 0.685669\n",
      "[70]\tvalid_0's f1_weighted: 0.685968\n",
      "[80]\tvalid_0's f1_weighted: 0.68633\n",
      "[90]\tvalid_0's f1_weighted: 0.68679\n",
      "[100]\tvalid_0's f1_weighted: 0.687192\n",
      "[110]\tvalid_0's f1_weighted: 0.68769\n",
      "[120]\tvalid_0's f1_weighted: 0.687683\n",
      "[130]\tvalid_0's f1_weighted: 0.687656\n",
      "[140]\tvalid_0's f1_weighted: 0.687713\n",
      "[150]\tvalid_0's f1_weighted: 0.687599\n",
      "[160]\tvalid_0's f1_weighted: 0.687501\n",
      "[170]\tvalid_0's f1_weighted: 0.687622\n",
      "[180]\tvalid_0's f1_weighted: 0.687743\n",
      "[190]\tvalid_0's f1_weighted: 0.687902\n",
      "[200]\tvalid_0's f1_weighted: 0.687801\n",
      "[210]\tvalid_0's f1_weighted: 0.687455\n",
      "[220]\tvalid_0's f1_weighted: 0.687585\n",
      "[230]\tvalid_0's f1_weighted: 0.687412\n",
      "[240]\tvalid_0's f1_weighted: 0.687305\n",
      "[250]\tvalid_0's f1_weighted: 0.687271\n",
      "[260]\tvalid_0's f1_weighted: 0.687101\n",
      "[270]\tvalid_0's f1_weighted: 0.687005\n",
      "[280]\tvalid_0's f1_weighted: 0.686873\n",
      "[290]\tvalid_0's f1_weighted: 0.686688\n",
      "Early stopping, best iteration is:\n",
      "[191]\tvalid_0's f1_weighted: 0.687966\n"
     ]
    },
    {
     "data": {
      "text/plain": [
       "LGBMClassifier(boosting_type='gbdt', class_weight=None, colsample_bytree=0.8,\n",
       "        importance_type='split', learning_rate=0.05, max_depth=-1,\n",
       "        metric='None', min_child_samples=50, min_child_weight=0.001,\n",
       "        min_split_gain=0.0, n_estimators=2000, n_jobs=-1, num_leaves=61,\n",
       "        objective='multiclass', random_state=2019, reg_alpha=0,\n",
       "        reg_lambda=0.01, silent=True, subsample=0.8,\n",
       "        subsample_for_bin=200000, subsample_freq=1)"
      ]
     },
     "execution_count": 34,
     "metadata": {},
     "output_type": "execute_result"
    }
   ],
   "source": [
    "eval_set = [(valid_x, valid_y)]\n",
    "lgb_model.fit(train_x, train_y, eval_set=eval_set, eval_metric=f1_weighted,\n",
    "              categorical_feature=cate_feature, verbose=10, early_stopping_rounds=100)"
   ]
  },
  {
   "cell_type": "markdown",
   "metadata": {
    "colab_type": "text",
    "id": "sDIviFYVCvX6"
   },
   "source": [
    "# Feature importance"
   ]
  },
  {
   "cell_type": "code",
   "execution_count": 35,
   "metadata": {
    "ExecuteTime": {
     "end_time": "2019-05-02T02:15:41.178614Z",
     "start_time": "2019-05-02T02:15:41.149840Z"
    },
    "colab": {},
    "colab_type": "code",
    "id": "vXy7U40ECvX7"
   },
   "outputs": [
    {
     "data": {
      "text/html": [
       "<div>\n",
       "<style scoped>\n",
       "    .dataframe tbody tr th:only-of-type {\n",
       "        vertical-align: middle;\n",
       "    }\n",
       "\n",
       "    .dataframe tbody tr th {\n",
       "        vertical-align: top;\n",
       "    }\n",
       "\n",
       "    .dataframe thead th {\n",
       "        text-align: right;\n",
       "    }\n",
       "</style>\n",
       "<table border=\"1\" class=\"dataframe\">\n",
       "  <thead>\n",
       "    <tr style=\"text-align: right;\">\n",
       "      <th></th>\n",
       "      <th>features</th>\n",
       "      <th>importance</th>\n",
       "    </tr>\n",
       "  </thead>\n",
       "  <tbody>\n",
       "    <tr>\n",
       "      <th>146</th>\n",
       "      <td>pid</td>\n",
       "      <td>33207</td>\n",
       "    </tr>\n",
       "    <tr>\n",
       "      <th>5</th>\n",
       "      <td>o_nearest_dis</td>\n",
       "      <td>4849</td>\n",
       "    </tr>\n",
       "    <tr>\n",
       "      <th>96</th>\n",
       "      <td>std_eta</td>\n",
       "      <td>4729</td>\n",
       "    </tr>\n",
       "    <tr>\n",
       "      <th>6</th>\n",
       "      <td>d_nearest_dis</td>\n",
       "      <td>4318</td>\n",
       "    </tr>\n",
       "    <tr>\n",
       "      <th>88</th>\n",
       "      <td>std_dist</td>\n",
       "      <td>4085</td>\n",
       "    </tr>\n",
       "    <tr>\n",
       "      <th>0</th>\n",
       "      <td>o_lng</td>\n",
       "      <td>3601</td>\n",
       "    </tr>\n",
       "    <tr>\n",
       "      <th>1</th>\n",
       "      <td>o_lat</td>\n",
       "      <td>3477</td>\n",
       "    </tr>\n",
       "    <tr>\n",
       "      <th>2</th>\n",
       "      <td>d_lng</td>\n",
       "      <td>3469</td>\n",
       "    </tr>\n",
       "    <tr>\n",
       "      <th>94</th>\n",
       "      <td>min_eta</td>\n",
       "      <td>3341</td>\n",
       "    </tr>\n",
       "    <tr>\n",
       "      <th>106</th>\n",
       "      <td>svd_mode_2</td>\n",
       "      <td>3236</td>\n",
       "    </tr>\n",
       "    <tr>\n",
       "      <th>3</th>\n",
       "      <td>d_lat</td>\n",
       "      <td>3194</td>\n",
       "    </tr>\n",
       "    <tr>\n",
       "      <th>93</th>\n",
       "      <td>max_eta</td>\n",
       "      <td>2941</td>\n",
       "    </tr>\n",
       "    <tr>\n",
       "      <th>113</th>\n",
       "      <td>svd_mode_9</td>\n",
       "      <td>2785</td>\n",
       "    </tr>\n",
       "    <tr>\n",
       "      <th>104</th>\n",
       "      <td>svd_mode_0</td>\n",
       "      <td>2734</td>\n",
       "    </tr>\n",
       "    <tr>\n",
       "      <th>86</th>\n",
       "      <td>min_dist</td>\n",
       "      <td>2706</td>\n",
       "    </tr>\n",
       "    <tr>\n",
       "      <th>109</th>\n",
       "      <td>svd_mode_5</td>\n",
       "      <td>2596</td>\n",
       "    </tr>\n",
       "    <tr>\n",
       "      <th>103</th>\n",
       "      <td>first_mode</td>\n",
       "      <td>2463</td>\n",
       "    </tr>\n",
       "    <tr>\n",
       "      <th>95</th>\n",
       "      <td>mean_eta</td>\n",
       "      <td>2411</td>\n",
       "    </tr>\n",
       "    <tr>\n",
       "      <th>107</th>\n",
       "      <td>svd_mode_3</td>\n",
       "      <td>2397</td>\n",
       "    </tr>\n",
       "    <tr>\n",
       "      <th>108</th>\n",
       "      <td>svd_mode_4</td>\n",
       "      <td>2327</td>\n",
       "    </tr>\n",
       "    <tr>\n",
       "      <th>105</th>\n",
       "      <td>svd_mode_1</td>\n",
       "      <td>2304</td>\n",
       "    </tr>\n",
       "    <tr>\n",
       "      <th>111</th>\n",
       "      <td>svd_mode_7</td>\n",
       "      <td>2273</td>\n",
       "    </tr>\n",
       "    <tr>\n",
       "      <th>112</th>\n",
       "      <td>svd_mode_8</td>\n",
       "      <td>2247</td>\n",
       "    </tr>\n",
       "    <tr>\n",
       "      <th>91</th>\n",
       "      <td>mean_price</td>\n",
       "      <td>2183</td>\n",
       "    </tr>\n",
       "    <tr>\n",
       "      <th>110</th>\n",
       "      <td>svd_mode_6</td>\n",
       "      <td>2057</td>\n",
       "    </tr>\n",
       "    <tr>\n",
       "      <th>85</th>\n",
       "      <td>max_dist</td>\n",
       "      <td>2033</td>\n",
       "    </tr>\n",
       "    <tr>\n",
       "      <th>92</th>\n",
       "      <td>std_price</td>\n",
       "      <td>1969</td>\n",
       "    </tr>\n",
       "    <tr>\n",
       "      <th>4</th>\n",
       "      <td>od_manhattan_distance</td>\n",
       "      <td>1768</td>\n",
       "    </tr>\n",
       "    <tr>\n",
       "      <th>87</th>\n",
       "      <td>mean_dist</td>\n",
       "      <td>1748</td>\n",
       "    </tr>\n",
       "    <tr>\n",
       "      <th>89</th>\n",
       "      <td>max_price</td>\n",
       "      <td>1566</td>\n",
       "    </tr>\n",
       "    <tr>\n",
       "      <th>...</th>\n",
       "      <td>...</td>\n",
       "      <td>...</td>\n",
       "    </tr>\n",
       "    <tr>\n",
       "      <th>62</th>\n",
       "      <td>p55</td>\n",
       "      <td>57</td>\n",
       "    </tr>\n",
       "    <tr>\n",
       "      <th>50</th>\n",
       "      <td>p43</td>\n",
       "      <td>56</td>\n",
       "    </tr>\n",
       "    <tr>\n",
       "      <th>71</th>\n",
       "      <td>p64</td>\n",
       "      <td>53</td>\n",
       "    </tr>\n",
       "    <tr>\n",
       "      <th>66</th>\n",
       "      <td>p59</td>\n",
       "      <td>52</td>\n",
       "    </tr>\n",
       "    <tr>\n",
       "      <th>126</th>\n",
       "      <td>5_oclock</td>\n",
       "      <td>51</td>\n",
       "    </tr>\n",
       "    <tr>\n",
       "      <th>13</th>\n",
       "      <td>p6</td>\n",
       "      <td>49</td>\n",
       "    </tr>\n",
       "    <tr>\n",
       "      <th>32</th>\n",
       "      <td>p25</td>\n",
       "      <td>48</td>\n",
       "    </tr>\n",
       "    <tr>\n",
       "      <th>8</th>\n",
       "      <td>p1</td>\n",
       "      <td>48</td>\n",
       "    </tr>\n",
       "    <tr>\n",
       "      <th>29</th>\n",
       "      <td>p22</td>\n",
       "      <td>44</td>\n",
       "    </tr>\n",
       "    <tr>\n",
       "      <th>52</th>\n",
       "      <td>p45</td>\n",
       "      <td>43</td>\n",
       "    </tr>\n",
       "    <tr>\n",
       "      <th>25</th>\n",
       "      <td>p18</td>\n",
       "      <td>40</td>\n",
       "    </tr>\n",
       "    <tr>\n",
       "      <th>125</th>\n",
       "      <td>4_oclock</td>\n",
       "      <td>35</td>\n",
       "    </tr>\n",
       "    <tr>\n",
       "      <th>58</th>\n",
       "      <td>p51</td>\n",
       "      <td>32</td>\n",
       "    </tr>\n",
       "    <tr>\n",
       "      <th>51</th>\n",
       "      <td>p44</td>\n",
       "      <td>32</td>\n",
       "    </tr>\n",
       "    <tr>\n",
       "      <th>26</th>\n",
       "      <td>p19</td>\n",
       "      <td>27</td>\n",
       "    </tr>\n",
       "    <tr>\n",
       "      <th>22</th>\n",
       "      <td>p15</td>\n",
       "      <td>25</td>\n",
       "    </tr>\n",
       "    <tr>\n",
       "      <th>59</th>\n",
       "      <td>p52</td>\n",
       "      <td>22</td>\n",
       "    </tr>\n",
       "    <tr>\n",
       "      <th>60</th>\n",
       "      <td>p53</td>\n",
       "      <td>21</td>\n",
       "    </tr>\n",
       "    <tr>\n",
       "      <th>23</th>\n",
       "      <td>p16</td>\n",
       "      <td>20</td>\n",
       "    </tr>\n",
       "    <tr>\n",
       "      <th>123</th>\n",
       "      <td>2_oclock</td>\n",
       "      <td>17</td>\n",
       "    </tr>\n",
       "    <tr>\n",
       "      <th>124</th>\n",
       "      <td>3_oclock</td>\n",
       "      <td>15</td>\n",
       "    </tr>\n",
       "    <tr>\n",
       "      <th>65</th>\n",
       "      <td>p58</td>\n",
       "      <td>13</td>\n",
       "    </tr>\n",
       "    <tr>\n",
       "      <th>72</th>\n",
       "      <td>p65</td>\n",
       "      <td>13</td>\n",
       "    </tr>\n",
       "    <tr>\n",
       "      <th>30</th>\n",
       "      <td>p23</td>\n",
       "      <td>10</td>\n",
       "    </tr>\n",
       "    <tr>\n",
       "      <th>48</th>\n",
       "      <td>p41</td>\n",
       "      <td>9</td>\n",
       "    </tr>\n",
       "    <tr>\n",
       "      <th>21</th>\n",
       "      <td>p14</td>\n",
       "      <td>8</td>\n",
       "    </tr>\n",
       "    <tr>\n",
       "      <th>27</th>\n",
       "      <td>p20</td>\n",
       "      <td>8</td>\n",
       "    </tr>\n",
       "    <tr>\n",
       "      <th>18</th>\n",
       "      <td>p11</td>\n",
       "      <td>7</td>\n",
       "    </tr>\n",
       "    <tr>\n",
       "      <th>31</th>\n",
       "      <td>p24</td>\n",
       "      <td>0</td>\n",
       "    </tr>\n",
       "    <tr>\n",
       "      <th>19</th>\n",
       "      <td>p12</td>\n",
       "      <td>0</td>\n",
       "    </tr>\n",
       "  </tbody>\n",
       "</table>\n",
       "<p>147 rows × 2 columns</p>\n",
       "</div>"
      ],
      "text/plain": [
       "                  features  importance\n",
       "146                    pid       33207\n",
       "5            o_nearest_dis        4849\n",
       "96                 std_eta        4729\n",
       "6            d_nearest_dis        4318\n",
       "88                std_dist        4085\n",
       "0                    o_lng        3601\n",
       "1                    o_lat        3477\n",
       "2                    d_lng        3469\n",
       "94                 min_eta        3341\n",
       "106             svd_mode_2        3236\n",
       "3                    d_lat        3194\n",
       "93                 max_eta        2941\n",
       "113             svd_mode_9        2785\n",
       "104             svd_mode_0        2734\n",
       "86                min_dist        2706\n",
       "109             svd_mode_5        2596\n",
       "103             first_mode        2463\n",
       "95                mean_eta        2411\n",
       "107             svd_mode_3        2397\n",
       "108             svd_mode_4        2327\n",
       "105             svd_mode_1        2304\n",
       "111             svd_mode_7        2273\n",
       "112             svd_mode_8        2247\n",
       "91              mean_price        2183\n",
       "110             svd_mode_6        2057\n",
       "85                max_dist        2033\n",
       "92               std_price        1969\n",
       "4    od_manhattan_distance        1768\n",
       "87               mean_dist        1748\n",
       "89               max_price        1566\n",
       "..                     ...         ...\n",
       "62                     p55          57\n",
       "50                     p43          56\n",
       "71                     p64          53\n",
       "66                     p59          52\n",
       "126               5_oclock          51\n",
       "13                      p6          49\n",
       "32                     p25          48\n",
       "8                       p1          48\n",
       "29                     p22          44\n",
       "52                     p45          43\n",
       "25                     p18          40\n",
       "125               4_oclock          35\n",
       "58                     p51          32\n",
       "51                     p44          32\n",
       "26                     p19          27\n",
       "22                     p15          25\n",
       "59                     p52          22\n",
       "60                     p53          21\n",
       "23                     p16          20\n",
       "123               2_oclock          17\n",
       "124               3_oclock          15\n",
       "65                     p58          13\n",
       "72                     p65          13\n",
       "30                     p23          10\n",
       "48                     p41           9\n",
       "21                     p14           8\n",
       "27                     p20           8\n",
       "18                     p11           7\n",
       "31                     p24           0\n",
       "19                     p12           0\n",
       "\n",
       "[147 rows x 2 columns]"
      ]
     },
     "execution_count": 35,
     "metadata": {},
     "output_type": "execute_result"
    }
   ],
   "source": [
    "imp = pd.DataFrame()\n",
    "imp['features'] = feature\n",
    "imp['importance'] = lgb_model.feature_importances_\n",
    "imp = imp.sort_values('importance', ascending=False)\n",
    "imp"
   ]
  },
  {
   "cell_type": "code",
   "execution_count": 36,
   "metadata": {
    "ExecuteTime": {
     "end_time": "2019-05-02T02:15:46.310684Z",
     "start_time": "2019-05-02T02:15:41.952939Z"
    }
   },
   "outputs": [
    {
     "data": {
      "image/png": "[encoded data removed]",
      "text/plain": [
       "<Figure size 1440x7200 with 1 Axes>"
      ]
     },
     "metadata": {
      "needs_background": "light"
     },
     "output_type": "display_data"
    }
   ],
   "source": [
    "plt.figure(figsize=(20, 100))\n",
    "sns.barplot(x=\"importance\",\n",
    "            y=\"features\",\n",
    "            data=imp)\n",
    "plt.title('LightGBM Features (avg over folds)')\n",
    "plt.tight_layout()"
   ]
  },
  {
   "cell_type": "markdown",
   "metadata": {
    "colab_type": "text",
    "id": "8UAV2I0HCvX8"
   },
   "source": [
    "# Predict"
   ]
  },
  {
   "cell_type": "code",
   "execution_count": 42,
   "metadata": {
    "ExecuteTime": {
     "end_time": "2019-05-02T06:40:51.147420Z",
     "start_time": "2019-05-02T06:40:31.905735Z"
    },
    "colab": {},
    "colab_type": "code",
    "id": "6FQLgnBzCvX9"
   },
   "outputs": [
    {
     "name": "stdout",
     "output_type": "stream",
     "text": [
      "0.7095882458513125\n"
     ]
    },
    {
     "data": {
      "text/html": [
       "<div>\n",
       "<style scoped>\n",
       "    .dataframe tbody tr th:only-of-type {\n",
       "        vertical-align: middle;\n",
       "    }\n",
       "\n",
       "    .dataframe tbody tr th {\n",
       "        vertical-align: top;\n",
       "    }\n",
       "\n",
       "    .dataframe thead th {\n",
       "        text-align: right;\n",
       "    }\n",
       "</style>\n",
       "<table border=\"1\" class=\"dataframe\">\n",
       "  <thead>\n",
       "    <tr style=\"text-align: right;\">\n",
       "      <th></th>\n",
       "      <th>class_id</th>\n",
       "      <th>counts*f1_score</th>\n",
       "      <th>f1_score</th>\n",
       "      <th>precision</th>\n",
       "      <th>recall</th>\n",
       "    </tr>\n",
       "  </thead>\n",
       "  <tbody>\n",
       "    <tr>\n",
       "      <th>0</th>\n",
       "      <td>0.0</td>\n",
       "      <td>0.087414</td>\n",
       "      <td>0.366483</td>\n",
       "      <td>0.931466</td>\n",
       "      <td>0.228118</td>\n",
       "    </tr>\n",
       "    <tr>\n",
       "      <th>1</th>\n",
       "      <td>1.0</td>\n",
       "      <td>0.144617</td>\n",
       "      <td>0.706743</td>\n",
       "      <td>0.639357</td>\n",
       "      <td>0.790008</td>\n",
       "    </tr>\n",
       "    <tr>\n",
       "      <th>2</th>\n",
       "      <td>2.0</td>\n",
       "      <td>0.313324</td>\n",
       "      <td>0.905709</td>\n",
       "      <td>0.854343</td>\n",
       "      <td>0.963647</td>\n",
       "    </tr>\n",
       "    <tr>\n",
       "      <th>3</th>\n",
       "      <td>3.0</td>\n",
       "      <td>0.044598</td>\n",
       "      <td>0.154035</td>\n",
       "      <td>0.581019</td>\n",
       "      <td>0.088787</td>\n",
       "    </tr>\n",
       "    <tr>\n",
       "      <th>4</th>\n",
       "      <td>4.0</td>\n",
       "      <td>0.024453</td>\n",
       "      <td>0.066626</td>\n",
       "      <td>0.760563</td>\n",
       "      <td>0.034839</td>\n",
       "    </tr>\n",
       "    <tr>\n",
       "      <th>5</th>\n",
       "      <td>5.0</td>\n",
       "      <td>0.097574</td>\n",
       "      <td>0.850544</td>\n",
       "      <td>0.784407</td>\n",
       "      <td>0.928860</td>\n",
       "    </tr>\n",
       "    <tr>\n",
       "      <th>6</th>\n",
       "      <td>6.0</td>\n",
       "      <td>0.019893</td>\n",
       "      <td>0.250435</td>\n",
       "      <td>0.465517</td>\n",
       "      <td>0.171293</td>\n",
       "    </tr>\n",
       "    <tr>\n",
       "      <th>7</th>\n",
       "      <td>7.0</td>\n",
       "      <td>0.177920</td>\n",
       "      <td>0.800391</td>\n",
       "      <td>0.716327</td>\n",
       "      <td>0.906810</td>\n",
       "    </tr>\n",
       "    <tr>\n",
       "      <th>8</th>\n",
       "      <td>8.0</td>\n",
       "      <td>0.004559</td>\n",
       "      <td>0.771171</td>\n",
       "      <td>0.804511</td>\n",
       "      <td>0.740484</td>\n",
       "    </tr>\n",
       "    <tr>\n",
       "      <th>9</th>\n",
       "      <td>9.0</td>\n",
       "      <td>0.049931</td>\n",
       "      <td>0.555919</td>\n",
       "      <td>0.611448</td>\n",
       "      <td>0.509637</td>\n",
       "    </tr>\n",
       "    <tr>\n",
       "      <th>10</th>\n",
       "      <td>10.0</td>\n",
       "      <td>0.028475</td>\n",
       "      <td>0.596080</td>\n",
       "      <td>0.524170</td>\n",
       "      <td>0.690859</td>\n",
       "    </tr>\n",
       "    <tr>\n",
       "      <th>11</th>\n",
       "      <td>11.0</td>\n",
       "      <td>0.007241</td>\n",
       "      <td>0.613187</td>\n",
       "      <td>0.618625</td>\n",
       "      <td>0.607843</td>\n",
       "    </tr>\n",
       "  </tbody>\n",
       "</table>\n",
       "</div>"
      ],
      "text/plain": [
       "    class_id  counts*f1_score  f1_score  precision    recall\n",
       "0        0.0         0.087414  0.366483   0.931466  0.228118\n",
       "1        1.0         0.144617  0.706743   0.639357  0.790008\n",
       "2        2.0         0.313324  0.905709   0.854343  0.963647\n",
       "3        3.0         0.044598  0.154035   0.581019  0.088787\n",
       "4        4.0         0.024453  0.066626   0.760563  0.034839\n",
       "5        5.0         0.097574  0.850544   0.784407  0.928860\n",
       "6        6.0         0.019893  0.250435   0.465517  0.171293\n",
       "7        7.0         0.177920  0.800391   0.716327  0.906810\n",
       "8        8.0         0.004559  0.771171   0.804511  0.740484\n",
       "9        9.0         0.049931  0.555919   0.611448  0.509637\n",
       "10      10.0         0.028475  0.596080   0.524170  0.690859\n",
       "11      11.0         0.007241  0.613187   0.618625  0.607843"
      ]
     },
     "execution_count": 42,
     "metadata": {},
     "output_type": "execute_result"
    }
   ],
   "source": [
    "pred = lgb_model.predict(valid_x)\n",
    "df_analysis = pd.DataFrame()\n",
    "df_analysis['sid'] = data[valid_index]['sid']\n",
    "df_analysis['label'] = valid_y.values\n",
    "df_analysis['pred'] = pred\n",
    "df_analysis['label'] = df_analysis['label'].astype(int)\n",
    "dic_ = df_analysis['label'].value_counts(normalize=True)\n",
    "\n",
    "score_df = pd.DataFrame(\n",
    "    columns=['class_id', 'counts*f1_score','f1_score', 'precision', 'recall'])\n",
    "\n",
    "\n",
    "def get_weighted_fscore(y_pred, y_true):\n",
    "    f_score = 0\n",
    "    for i in range(12):\n",
    "        yt = y_true == i\n",
    "        yp = y_pred == i\n",
    "        f_score += dic_[i] * f1_score(y_true=yt, y_pred=yp)\n",
    "        score_df.loc[i] = [i, dic_[i], f1_score(y_true=yt, y_pred=yp), precision_score(\n",
    "            y_true=yt, y_pred=yp), recall_score(y_true=yt, y_pred=yp)]\n",
    "    print(f_score)\n",
    "    return score_df\n",
    "\n",
    "\n",
    "score_df = get_weighted_fscore(\n",
    "    y_true=df_analysis['label'], y_pred=df_analysis['pred'])\n",
    "score_df"
   ]
  },
  {
   "cell_type": "code",
   "execution_count": 43,
   "metadata": {
    "ExecuteTime": {
     "end_time": "2019-05-02T06:41:37.071686Z",
     "start_time": "2019-05-02T06:41:37.067006Z"
    }
   },
   "outputs": [
    {
     "data": {
      "text/plain": [
       "1.0"
      ]
     },
     "execution_count": 43,
     "metadata": {},
     "output_type": "execute_result"
    }
   ],
   "source": [
    "score_df['counts*f1_score'].sum()"
   ]
  },
  {
   "cell_type": "code",
   "execution_count": 38,
   "metadata": {
    "ExecuteTime": {
     "end_time": "2019-05-02T02:25:17.953271Z",
     "start_time": "2019-05-02T02:16:50.089716Z"
    },
    "colab": {},
    "colab_type": "code",
    "id": "xVhOpSZeCvX_"
   },
   "outputs": [
    {
     "name": "stdout",
     "output_type": "stream",
     "text": [
      "191\n",
      "fit over\n",
      "94358\n",
      "2     34118\n",
      "7     22334\n",
      "1     17817\n",
      "5     10874\n",
      "10     3413\n",
      "0      2115\n",
      "9      1981\n",
      "3       512\n",
      "6       404\n",
      "11      384\n",
      "8       330\n",
      "4        76\n",
      "Name: recommend_mode, dtype: int64\n"
     ]
    }
   ],
   "source": [
    "all_train_x = data[data.req_time <\n",
    "                   '2018-12-01'][feature].reset_index(drop=True)\n",
    "all_train_y = data[data.req_time <\n",
    "                   '2018-12-01'].click_mode.reset_index(drop=True)\n",
    "print(lgb_model.best_iteration_)\n",
    "lgb_model.n_estimators = lgb_model.best_iteration_\n",
    "lgb_model.fit(all_train_x, all_train_y, categorical_feature=cate_feature)\n",
    "print('fit over')\n",
    "result = pd.DataFrame()\n",
    "result['sid'] = data[test_index]['sid']\n",
    "result['recommend_mode'] = lgb_model.predict(test_x)\n",
    "result['recommend_mode'] = result['recommend_mode'].astype(int)\n",
    "print(len(result))\n",
    "print(result['recommend_mode'].value_counts())"
   ]
  },
  {
   "cell_type": "code",
   "execution_count": 39,
   "metadata": {
    "ExecuteTime": {
     "end_time": "2019-05-02T02:28:42.722979Z",
     "start_time": "2019-05-02T02:28:42.422575Z"
    },
    "colab": {},
    "colab_type": "code",
    "id": "XfZbGMgHCvYC"
   },
   "outputs": [],
   "source": [
    "result[['sid', 'recommend_mode']].to_csv(\n",
    "    project_path + 'Data/long_legs.csv', index=False)"
   ]
  },
  {
   "cell_type": "code",
   "execution_count": null,
   "metadata": {},
   "outputs": [],
   "source": []
  }
 ],
 "metadata": {
  "colab": {
   "collapsed_sections": [],
   "name": "Pipline.ipynb",
   "provenance": [],
   "version": "0.3.2"
  },
  "kernelspec": {
   "display_name": "Python 3",
   "language": "python",
   "name": "python3"
  },
  "language_info": {
   "codemirror_mode": {
    "name": "ipython",
    "version": 3
   },
   "file_extension": ".py",
   "mimetype": "text/x-python",
   "name": "python",
   "nbconvert_exporter": "python",
   "pygments_lexer": "ipython3",
   "version": "3.6.2"
  },
  "toc": {
   "base_numbering": 1,
   "nav_menu": {},
   "number_sections": true,
   "sideBar": true,
   "skip_h1_title": false,
   "title_cell": "Table of Contents",
   "title_sidebar": "Contents",
   "toc_cell": false,
   "toc_position": {},
   "toc_section_display": true,
   "toc_window_display": false
  },
  "varInspector": {
   "cols": {
    "lenName": 16,
    "lenType": 16,
    "lenVar": 40
   },
   "kernels_config": {
    "python": {
     "delete_cmd_postfix": "",
     "delete_cmd_prefix": "del ",
     "library": "var_list.py",
     "varRefreshCmd": "print(var_dic_list())"
    },
    "r": {
     "delete_cmd_postfix": ") ",
     "delete_cmd_prefix": "rm(",
     "library": "var_list.r",
     "varRefreshCmd": "cat(var_dic_list()) "
    }
   },
   "types_to_exclude": [
    "module",
    "function",
    "builtin_function_or_method",
    "instance",
    "_Feature"
   ],
   "window_display": false
  }
 },
 "nbformat": 4,
 "nbformat_minor": 1
}
