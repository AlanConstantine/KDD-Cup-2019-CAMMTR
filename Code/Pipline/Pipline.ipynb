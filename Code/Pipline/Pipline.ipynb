{
 "cells": [
  {
   "cell_type": "code",
   "execution_count": 1,
   "metadata": {
    "ExecuteTime": {
     "end_time": "2019-05-03T19:11:26.205320Z",
     "start_time": "2019-05-03T19:11:26.202770Z"
    },
    "colab": {
     "base_uri": "https://localhost:8080/",
     "height": 52
    },
    "colab_type": "code",
    "executionInfo": {
     "elapsed": 75401,
     "status": "error",
     "timestamp": 1556727122761,
     "user": {
      "displayName": "Alan Lau",
      "photoUrl": "https://lh3.googleusercontent.com/-ZaOsrA7oyQw/AAAAAAAAAAI/AAAAAAAAAAc/PW0qJYFKbUY/s64/photo.jpg",
      "userId": "02808478473948384287"
     },
     "user_tz": -480
    },
    "id": "H4_rgcWjC1wQ",
    "outputId": "4f67fd54-1f4d-4f3d-c880-0db8b5ab9e3e"
   },
   "outputs": [],
   "source": [
    "# import getpass\n",
    "# from oauth2client.client import GoogleCredentials\n",
    "# from google.colab import auth\n",
    "# !apt-get install - y - qq software-properties-common python-software-properties module-init-tools\n",
    "# !add-apt-repository - y ppa: alessandro-strada/ppa 2 > &1 > /dev/null\n",
    "# !apt-get update - qq 2 > &1 > /dev/null\n",
    "# !apt-get - y install - qq google-drive-ocamlfuse fuse\n",
    "# auth.authenticate_user()\n",
    "# creds = GoogleCredentials.get_application_default()\n",
    "# !google-drive-ocamlfuse - headless - id = {creds.client_id} - secret = {creds.client_secret} < /dev/null 2 > &1 | grep URL\n",
    "# vcode = getpass.getpass()\n",
    "# !echo {vcode} | google-drive-ocamlfuse - headless - id = {creds.client_id} - secret = {creds.client_secret}"
   ]
  },
  {
   "cell_type": "code",
   "execution_count": 2,
   "metadata": {
    "ExecuteTime": {
     "end_time": "2019-05-03T19:11:26.210992Z",
     "start_time": "2019-05-03T19:11:26.208365Z"
    },
    "colab": {},
    "colab_type": "code",
    "id": "sAEXzMr_DOTo"
   },
   "outputs": [],
   "source": [
    "# !mkdir - p drive\n",
    "# !google-drive-ocamlfuse drive - o nonempty"
   ]
  },
  {
   "cell_type": "code",
   "execution_count": 3,
   "metadata": {
    "ExecuteTime": {
     "end_time": "2019-05-03T19:11:26.215698Z",
     "start_time": "2019-05-03T19:11:26.213315Z"
    },
    "colab": {},
    "colab_type": "code",
    "id": "MCDdayZDDVVs"
   },
   "outputs": [],
   "source": [
    "# import os\n",
    "# os.chdir('drive')"
   ]
  },
  {
   "cell_type": "code",
   "execution_count": 4,
   "metadata": {
    "ExecuteTime": {
     "end_time": "2019-05-03T19:11:26.221614Z",
     "start_time": "2019-05-03T19:11:26.218969Z"
    },
    "colab": {
     "base_uri": "https://localhost:8080/",
     "height": 34
    },
    "colab_type": "code",
    "executionInfo": {
     "elapsed": 3270,
     "status": "ok",
     "timestamp": 1556727041091,
     "user": {
      "displayName": "Alan Lau",
      "photoUrl": "https://lh3.googleusercontent.com/-ZaOsrA7oyQw/AAAAAAAAAAI/AAAAAAAAAAc/PW0qJYFKbUY/s64/photo.jpg",
      "userId": "02808478473948384287"
     },
     "user_tz": -480
    },
    "id": "6AH8_4oADX8R",
    "outputId": "de369089-fcfc-4d3d-8fbd-17517f9d4a92"
   },
   "outputs": [],
   "source": [
    "# !ls Competitions/KDD-Cup-2019-CAMMTR/Data"
   ]
  },
  {
   "cell_type": "code",
   "execution_count": 5,
   "metadata": {
    "ExecuteTime": {
     "end_time": "2019-05-03T19:11:27.925366Z",
     "start_time": "2019-05-03T19:11:26.224317Z"
    },
    "colab": {},
    "colab_type": "code",
    "id": "OxlyOW7bCvXc"
   },
   "outputs": [
    {
     "name": "stderr",
     "output_type": "stream",
     "text": [
      "/Library/Frameworks/Python.framework/Versions/3.6/lib/python3.6/site-packages/lightgbm/__init__.py:46: UserWarning: Starting from version 2.2.1, the library file in distribution wheels for macOS is built by the Apple Clang (Xcode_8.3.3) compiler.\n",
      "This means that in case of installing LightGBM from PyPI via the ``pip install lightgbm`` command, you don't need to install the gcc compiler anymore.\n",
      "Instead of that, you need to install the OpenMP library, which is required for running LightGBM on the system with the Apple Clang compiler.\n",
      "You can install the OpenMP library by the following command: ``brew install libomp``.\n",
      "  \"You can install the OpenMP library by the following command: ``brew install libomp``.\", UserWarning)\n"
     ]
    }
   ],
   "source": [
    "import ast\n",
    "from itertools import product\n",
    "\n",
    "from sklearn.decomposition import TruncatedSVD\n",
    "from sklearn.feature_extraction.text import TfidfVectorizer\n",
    "from sklearn.model_selection import StratifiedKFold\n",
    "from sklearn.metrics import f1_score\n",
    "from sklearn.metrics import accuracy_score, recall_score, precision_score\n",
    "from sklearn.metrics import accuracy_score\n",
    "\n",
    "import json\n",
    "from tqdm import tqdm\n",
    "import warnings\n",
    "import numpy as np\n",
    "import pandas as pd\n",
    "import lightgbm as lgb\n",
    "import os\n",
    "\n",
    "import seaborn as sns\n",
    "import matplotlib.pyplot as plt\n",
    "%matplotlib inline\n",
    "\n",
    "warnings.filterwarnings(\"ignore\")\n",
    "\n",
    "# project_path='./Competitions/KDD-Cup-2019-CAMMTR/'\n",
    "project_path = '../../'\n",
    "\n",
    "holidays = pd.Series(\n",
    "    json.load(open(project_path+r'Data/Holidays.json'))['holidays'])\n",
    "subwayinfo = pd.read_csv(project_path+r'Data/BeijingSubway.csv')"
   ]
  },
  {
   "cell_type": "markdown",
   "metadata": {
    "colab_type": "text",
    "id": "AJFW6SL_CvXf"
   },
   "source": [
    "# Feature engineering"
   ]
  },
  {
   "cell_type": "code",
   "execution_count": 6,
   "metadata": {
    "ExecuteTime": {
     "end_time": "2019-05-03T19:11:27.932885Z",
     "start_time": "2019-05-03T19:11:27.927498Z"
    },
    "colab": {},
    "colab_type": "code",
    "id": "kCAkXW4fCvXg"
   },
   "outputs": [],
   "source": [
    "def load_data(mainpath):\n",
    "    train_queries = pd.read_csv(\n",
    "        mainpath + 'train_queries.csv', parse_dates=['req_time'])\n",
    "    train_plans = pd.read_csv(mainpath + 'train_plans.csv',\n",
    "                              parse_dates=['plan_time'])\n",
    "    train_clicks = pd.read_csv(mainpath + 'train_clicks.csv')\n",
    "    profiles = pd.read_csv(mainpath + 'profiles.csv')\n",
    "    test_queries = pd.read_csv(\n",
    "        mainpath + 'test_queries.csv', parse_dates=['req_time'])\n",
    "    test_plans = pd.read_csv(mainpath + 'test_plans.csv',\n",
    "                             parse_dates=['plan_time'])\n",
    "    return train_queries, train_plans, train_clicks, profiles, test_queries, test_plans"
   ]
  },
  {
   "cell_type": "code",
   "execution_count": 7,
   "metadata": {
    "ExecuteTime": {
     "end_time": "2019-05-03T19:11:27.941822Z",
     "start_time": "2019-05-03T19:11:27.936704Z"
    },
    "colab": {},
    "colab_type": "code",
    "id": "iUQcoS3ACvXi"
   },
   "outputs": [],
   "source": [
    "def merge(train_queries, train_plans, train_clicks, profiles, test_queries, test_plans):\n",
    "    train = train_queries.merge(train_plans, 'left', ['sid'])\n",
    "    test = test_queries.merge(test_plans, 'left', ['sid'])\n",
    "    train = train.merge(train_clicks, 'left', ['sid'])\n",
    "    train['click_mode'] = train['click_mode'].fillna(0).astype(int)\n",
    "    data = pd.concat([train, test], ignore_index=True)\n",
    "    data = data.merge(profiles, 'left', ['pid'])\n",
    "    return train, test, data"
   ]
  },
  {
   "cell_type": "code",
   "execution_count": 8,
   "metadata": {
    "ExecuteTime": {
     "end_time": "2019-05-03T19:11:27.967576Z",
     "start_time": "2019-05-03T19:11:27.945370Z"
    },
    "colab": {},
    "colab_type": "code",
    "id": "ezvgAZ46CvXj"
   },
   "outputs": [],
   "source": [
    "def gen_plan_feas(data):\n",
    "    n = data.shape[0]\n",
    "    mode_list_feas = np.zeros((n, 12))\n",
    "    max_dist, min_dist, mean_dist, std_dist = np.zeros(\n",
    "        (n,)), np.zeros((n,)), np.zeros((n,)), np.zeros((n,))\n",
    "\n",
    "    max_price, min_price, mean_price, std_price = np.zeros(\n",
    "        (n,)), np.zeros((n,)), np.zeros((n,)), np.zeros((n,))\n",
    "\n",
    "    max_eta, min_eta, mean_eta, std_eta = np.zeros(\n",
    "        (n,)), np.zeros((n,)), np.zeros((n,)), np.zeros((n,))\n",
    "\n",
    "    min_dist_mode, max_dist_mode, min_price_mode, max_price_mode, min_eta_mode, max_eta_mode, first_mode = \\\n",
    "        np.zeros((n,)), np.zeros((n,)), np.zeros((n,)), np.zeros(\n",
    "            (n,)), np.zeros((n,)), np.zeros((n,)), np.zeros((n,))\n",
    "\n",
    "    mode_texts = []\n",
    "    for i, plan in tqdm(enumerate(data['plans_json'].values)):\n",
    "        if len(plan) == 0:\n",
    "            cur_plan_list = []\n",
    "        else:\n",
    "            cur_plan_list = plan\n",
    "        if len(cur_plan_list) == 0:\n",
    "            mode_list_feas[i, 0] = 1\n",
    "            first_mode[i] = 0\n",
    "            max_dist[i] = -1\n",
    "            min_dist[i] = -1\n",
    "            mean_dist[i] = -1\n",
    "            std_dist[i] = -1\n",
    "            max_price[i] = -1\n",
    "            min_price[i] = -1\n",
    "            mean_price[i] = -1\n",
    "            std_price[i] = -1\n",
    "            max_eta[i] = -1\n",
    "            min_eta[i] = -1\n",
    "            mean_eta[i] = -1\n",
    "            std_eta[i] = -1\n",
    "            min_dist_mode[i] = -1\n",
    "            max_dist_mode[i] = -1\n",
    "            min_price_mode[i] = -1\n",
    "            max_price_mode[i] = -1\n",
    "            min_eta_mode[i] = -1\n",
    "            max_eta_mode[i] = -1\n",
    "            mode_texts.append('word_null')\n",
    "        else:\n",
    "            distance_list = []\n",
    "            price_list = []\n",
    "            eta_list = []\n",
    "            mode_list = []\n",
    "            for tmp_dit in cur_plan_list:\n",
    "                distance_list.append(int(tmp_dit['distance']))\n",
    "                if tmp_dit['price'] == '':\n",
    "                    price_list.append(0)\n",
    "                else:\n",
    "                    price_list.append(int(tmp_dit['price']))\n",
    "                eta_list.append(int(tmp_dit['eta']))\n",
    "                mode_list.append(int(tmp_dit['transport_mode']))\n",
    "            mode_texts.append(\n",
    "                ' '.join(['word_{}'.format(mode) for mode in mode_list]))\n",
    "            distance_list = np.array(distance_list)\n",
    "            price_list = np.array(price_list)\n",
    "            eta_list = np.array(eta_list)\n",
    "            mode_list = np.array(mode_list, dtype='int')\n",
    "            mode_list_feas[i, mode_list] = 1\n",
    "            distance_sort_idx = np.argsort(distance_list)\n",
    "            price_sort_idx = np.argsort(price_list)\n",
    "            eta_sort_idx = np.argsort(eta_list)\n",
    "            max_dist[i] = distance_list[distance_sort_idx[-1]]\n",
    "            min_dist[i] = distance_list[distance_sort_idx[0]]\n",
    "            mean_dist[i] = np.mean(distance_list)\n",
    "            std_dist[i] = np.std(distance_list)\n",
    "            max_price[i] = price_list[price_sort_idx[-1]]\n",
    "            min_price[i] = price_list[price_sort_idx[0]]\n",
    "            mean_price[i] = np.mean(price_list)\n",
    "            std_price[i] = np.std(price_list)\n",
    "            max_eta[i] = eta_list[eta_sort_idx[-1]]\n",
    "            min_eta[i] = eta_list[eta_sort_idx[0]]\n",
    "            mean_eta[i] = np.mean(eta_list)\n",
    "            std_eta[i] = np.std(eta_list)\n",
    "            first_mode[i] = mode_list[0]\n",
    "            max_dist_mode[i] = mode_list[distance_sort_idx[-1]]\n",
    "            min_dist_mode[i] = mode_list[distance_sort_idx[0]]\n",
    "            max_price_mode[i] = mode_list[price_sort_idx[-1]]\n",
    "            min_price_mode[i] = mode_list[price_sort_idx[0]]\n",
    "            max_eta_mode[i] = mode_list[eta_sort_idx[-1]]\n",
    "            min_eta_mode[i] = mode_list[eta_sort_idx[0]]\n",
    "    feature_data = pd.DataFrame(mode_list_feas)\n",
    "    feature_data.columns = ['mode_feas_{}'.format(i) for i in range(12)]\n",
    "    feature_data['max_dist'] = max_dist\n",
    "    feature_data['min_dist'] = min_dist\n",
    "    feature_data['mean_dist'] = mean_dist\n",
    "    feature_data['std_dist'] = std_dist\n",
    "    feature_data['max_price'] = max_price\n",
    "    feature_data['min_price'] = min_price\n",
    "    feature_data['mean_price'] = mean_price\n",
    "    feature_data['std_price'] = std_price\n",
    "    feature_data['max_eta'] = max_eta\n",
    "    feature_data['min_eta'] = min_eta\n",
    "    feature_data['mean_eta'] = mean_eta\n",
    "    feature_data['std_eta'] = std_eta\n",
    "    feature_data['max_dist_mode'] = max_dist_mode\n",
    "    feature_data['min_dist_mode'] = min_dist_mode\n",
    "    feature_data['max_price_mode'] = max_price_mode\n",
    "    feature_data['min_price_mode'] = min_price_mode\n",
    "    feature_data['max_eta_mode'] = max_eta_mode\n",
    "    feature_data['min_eta_mode'] = min_eta_mode\n",
    "    feature_data['first_mode'] = first_mode\n",
    "    print('mode tfidf...')\n",
    "    tfidf_enc = TfidfVectorizer(ngram_range=(1, 2))\n",
    "    tfidf_vec = tfidf_enc.fit_transform(mode_texts)\n",
    "    svd_enc = TruncatedSVD(n_components=10, n_iter=20, random_state=2019)\n",
    "    mode_svd = svd_enc.fit_transform(tfidf_vec)\n",
    "    mode_svd = pd.DataFrame(mode_svd)\n",
    "    mode_svd.columns = ['svd_mode_{}'.format(i) for i in range(10)]\n",
    "    plan_fea = pd.concat([feature_data, mode_svd], axis=1)\n",
    "    plan_fea['sid'] = data['sid'].values\n",
    "\n",
    "    return plan_fea"
   ]
  },
  {
   "cell_type": "code",
   "execution_count": 9,
   "metadata": {
    "ExecuteTime": {
     "end_time": "2019-05-03T19:11:27.971860Z",
     "start_time": "2019-05-03T19:11:27.969789Z"
    },
    "colab": {},
    "colab_type": "code",
    "id": "rM7o4e5JCvXn"
   },
   "outputs": [],
   "source": [
    "mainpath = project_path + r'Data/data_set_phase1/'"
   ]
  },
  {
   "cell_type": "code",
   "execution_count": 10,
   "metadata": {
    "ExecuteTime": {
     "end_time": "2019-05-03T19:11:32.662936Z",
     "start_time": "2019-05-03T19:11:27.973949Z"
    },
    "colab": {},
    "colab_type": "code",
    "id": "HxBaCBRxCvXo"
   },
   "outputs": [],
   "source": [
    "train_queries, train_plans, train_clicks, profiles, test_queries, test_plans = load_data(\n",
    "    mainpath)"
   ]
  },
  {
   "cell_type": "code",
   "execution_count": 11,
   "metadata": {
    "ExecuteTime": {
     "end_time": "2019-05-03T19:11:34.432913Z",
     "start_time": "2019-05-03T19:11:32.666124Z"
    },
    "colab": {},
    "colab_type": "code",
    "id": "wfxInGIJCvXq"
   },
   "outputs": [],
   "source": [
    "train, test, data = merge(train_queries, train_plans,\n",
    "                          train_clicks, profiles, test_queries, test_plans)"
   ]
  },
  {
   "cell_type": "code",
   "execution_count": 12,
   "metadata": {
    "ExecuteTime": {
     "end_time": "2019-05-03T19:11:34.447888Z",
     "start_time": "2019-05-03T19:11:34.435375Z"
    },
    "colab": {},
    "colab_type": "code",
    "id": "1QIdrjCiCvXw"
   },
   "outputs": [],
   "source": [
    "def feature_engineering(df):\n",
    "    df['time_diff'] = df['plan_time'].astype(\n",
    "        int) - df['req_time'].astype(int)\n",
    "\n",
    "    df['plans_json'] = data['plans'].fillna(\n",
    "        '[]').apply(lambda x: json.loads(x))\n",
    "    df_plans = gen_plan_feas(df)\n",
    "    plan_features = [col for col in df_plans.columns if col not in ['sid']]\n",
    "    df = df.merge(df_plans, on='sid', how='left')\n",
    "\n",
    "    df['req_time'] = pd.to_datetime(df['req_time'])\n",
    "    df['day_of_week'] = df['req_time'].dt.day_name()\n",
    "    df['req_date'] = df['req_time'].dt.strftime('%m-%d')\n",
    "    df['req_hour'] = df['req_time'].dt.hour\n",
    "    df['req_minute'] = df['req_time'].dt.minute\n",
    "    df['if_holiday'] = (df['req_date'].isin(holidays)).astype(int)\n",
    "\n",
    "    # Week day\n",
    "    current_c = list(df.columns.values)\n",
    "    weekdays = ['Monday', 'Tuesday', 'Wednesday',\n",
    "                'Thursday', 'Friday', 'Saturday', 'Sunday']\n",
    "    current_c.extend(weekdays)\n",
    "    df = df.reindex(columns=current_c, fill_value=0)\n",
    "    for day_name in weekdays:\n",
    "        df.loc[(df['day_of_week'] == day_name), [day_name]] = 1\n",
    "    print('week day Done.')\n",
    "\n",
    "    # Hour\n",
    "    current_c = list(df.columns.values)\n",
    "    oclock = [str(i)+'_oclock' for i in range(0, 24)]\n",
    "    current_c.extend(oclock)\n",
    "    df = df.reindex(columns=current_c, fill_value=0)\n",
    "    for h in oclock:\n",
    "        df.loc[(df['req_hour'] == int(h.split('_')[0])), [h]] = 1\n",
    "\n",
    "    print('Hour Done.')\n",
    "\n",
    "    df.drop(columns=['day_of_week', 'req_date', 'req_hour'], inplace=True)\n",
    "\n",
    "    df['o_lng'] = df['o'].apply(lambda x: float(x.split(',')[0]))\n",
    "    df['o_lat'] = df['o'].apply(lambda x: float(x.split(',')[1]))\n",
    "    df['d_lng'] = df['d'].apply(lambda x: float(x.split(',')[0]))\n",
    "    df['d_lat'] = df['d'].apply(lambda x: float(x.split(',')[1]))\n",
    "    df['od_manhattan_distance'] = abs(\n",
    "        df['o_lng']-df['d_lng'])+abs(df['o_lat']-df['d_lat'])\n",
    "\n",
    "    print('OD distance done.')\n",
    "\n",
    "    return df, weekdays, oclock, plan_features"
   ]
  },
  {
   "cell_type": "code",
   "execution_count": 13,
   "metadata": {
    "ExecuteTime": {
     "end_time": "2019-05-03T19:13:44.256693Z",
     "start_time": "2019-05-03T19:11:34.450648Z"
    },
    "colab": {
     "base_uri": "https://localhost:8080/",
     "height": 164
    },
    "colab_type": "code",
    "executionInfo": {
     "elapsed": 2393,
     "status": "error",
     "timestamp": 1556727019156,
     "user": {
      "displayName": "Alan Lau",
      "photoUrl": "https://lh3.googleusercontent.com/-ZaOsrA7oyQw/AAAAAAAAAAI/AAAAAAAAAAc/PW0qJYFKbUY/s64/photo.jpg",
      "userId": "02808478473948384287"
     },
     "user_tz": -480
    },
    "id": "BplV1S9vCvXy",
    "outputId": "064ba387-36cc-4067-b32b-de7f2c86fa75"
   },
   "outputs": [
    {
     "name": "stderr",
     "output_type": "stream",
     "text": [
      "594358it [01:35, 6194.40it/s]\n"
     ]
    },
    {
     "name": "stdout",
     "output_type": "stream",
     "text": [
      "mode tfidf...\n",
      "week day Done.\n",
      "Hour Done.\n",
      "OD distance done.\n"
     ]
    }
   ],
   "source": [
    "data, weekdays, oclock, plan_features = feature_engineering(data)"
   ]
  },
  {
   "cell_type": "markdown",
   "metadata": {},
   "source": [
    "# Reduce memory"
   ]
  },
  {
   "cell_type": "code",
   "execution_count": 14,
   "metadata": {
    "ExecuteTime": {
     "end_time": "2019-05-03T19:13:44.268231Z",
     "start_time": "2019-05-03T19:13:44.260291Z"
    }
   },
   "outputs": [],
   "source": [
    "def mem_usage(pandas_obj):\n",
    "    if isinstance(pandas_obj, pd.DataFrame):\n",
    "        usage_b = pandas_obj.memory_usage(deep=True).sum()\n",
    "    else:  # 我们假设这不是一个df，而是一个 Series\n",
    "        usage_b = pandas_obj.memory_usage(deep=True)\n",
    "    usage_mb = usage_b / 1024 ** 2  # 将 bytes 转化成 megabytes\n",
    "    return \"{:03.2f} MB\".format(usage_mb)"
   ]
  },
  {
   "cell_type": "code",
   "execution_count": 15,
   "metadata": {
    "ExecuteTime": {
     "end_time": "2019-05-03T19:14:15.226747Z",
     "start_time": "2019-05-03T19:13:44.271487Z"
    }
   },
   "outputs": [
    {
     "name": "stdout",
     "output_type": "stream",
     "text": [
      "521.48 MB\n",
      "263.01 MB\n",
      "1068.29 MB\n",
      "809.82 MB\n"
     ]
    }
   ],
   "source": [
    "data_float = data.select_dtypes(include=['float'])\n",
    "converted_float = data_float.apply(pd.to_numeric, downcast='float')\n",
    "\n",
    "print(mem_usage(data_float))\n",
    "print(mem_usage(converted_float))\n",
    "\n",
    "optimized_data = data.copy()\n",
    "\n",
    "optimized_data[converted_float.columns] = converted_float\n",
    "\n",
    "print(mem_usage(data))\n",
    "print(mem_usage(optimized_data))\n",
    "data = optimized_data"
   ]
  },
  {
   "cell_type": "markdown",
   "metadata": {
    "ExecuteTime": {
     "end_time": "2019-05-03T04:22:32.301017Z",
     "start_time": "2019-05-03T04:22:32.296715Z"
    }
   },
   "source": [
    "# Add Centroid distance"
   ]
  },
  {
   "cell_type": "code",
   "execution_count": 16,
   "metadata": {
    "ExecuteTime": {
     "end_time": "2019-05-03T19:14:15.855926Z",
     "start_time": "2019-05-03T19:14:15.229278Z"
    }
   },
   "outputs": [
    {
     "data": {
      "text/plain": [
       "(6525, 1)"
      ]
     },
     "execution_count": 16,
     "metadata": {},
     "output_type": "execute_result"
    }
   ],
   "source": [
    "o_co = data[['o']]\n",
    "d_co = data[['d']]\n",
    "\n",
    "o_co.columns = ['co']\n",
    "d_co.columns = ['co']\n",
    "\n",
    "all_co = pd.concat([d_co, o_co]).drop_duplicates()\n",
    "all_co.shape"
   ]
  },
  {
   "cell_type": "code",
   "execution_count": 17,
   "metadata": {
    "ExecuteTime": {
     "end_time": "2019-05-03T19:14:16.292255Z",
     "start_time": "2019-05-03T19:14:15.857949Z"
    }
   },
   "outputs": [],
   "source": [
    "all_co['lng'] = all_co['co'].apply(lambda x: float(x.split(',')[0]))\n",
    "all_co['lat'] = all_co['co'].apply(lambda x: float(x.split(',')[1]))"
   ]
  },
  {
   "cell_type": "code",
   "execution_count": 18,
   "metadata": {
    "ExecuteTime": {
     "end_time": "2019-05-03T19:14:16.308976Z",
     "start_time": "2019-05-03T19:14:16.295109Z"
    }
   },
   "outputs": [
    {
     "data": {
      "text/html": [
       "<div>\n",
       "<style scoped>\n",
       "    .dataframe tbody tr th:only-of-type {\n",
       "        vertical-align: middle;\n",
       "    }\n",
       "\n",
       "    .dataframe tbody tr th {\n",
       "        vertical-align: top;\n",
       "    }\n",
       "\n",
       "    .dataframe thead th {\n",
       "        text-align: right;\n",
       "    }\n",
       "</style>\n",
       "<table border=\"1\" class=\"dataframe\">\n",
       "  <thead>\n",
       "    <tr style=\"text-align: right;\">\n",
       "      <th></th>\n",
       "      <th>co</th>\n",
       "      <th>lng</th>\n",
       "      <th>lat</th>\n",
       "    </tr>\n",
       "  </thead>\n",
       "  <tbody>\n",
       "    <tr>\n",
       "      <th>0</th>\n",
       "      <td>116.32,39.96</td>\n",
       "      <td>116.32</td>\n",
       "      <td>39.96</td>\n",
       "    </tr>\n",
       "    <tr>\n",
       "      <th>1</th>\n",
       "      <td>116.33,39.79</td>\n",
       "      <td>116.33</td>\n",
       "      <td>39.79</td>\n",
       "    </tr>\n",
       "    <tr>\n",
       "      <th>2</th>\n",
       "      <td>116.27,40.00</td>\n",
       "      <td>116.27</td>\n",
       "      <td>40.00</td>\n",
       "    </tr>\n",
       "    <tr>\n",
       "      <th>3</th>\n",
       "      <td>116.39,39.90</td>\n",
       "      <td>116.39</td>\n",
       "      <td>39.90</td>\n",
       "    </tr>\n",
       "    <tr>\n",
       "      <th>4</th>\n",
       "      <td>116.37,39.86</td>\n",
       "      <td>116.37</td>\n",
       "      <td>39.86</td>\n",
       "    </tr>\n",
       "  </tbody>\n",
       "</table>\n",
       "</div>"
      ],
      "text/plain": [
       "             co     lng    lat\n",
       "0  116.32,39.96  116.32  39.96\n",
       "1  116.33,39.79  116.33  39.79\n",
       "2  116.27,40.00  116.27  40.00\n",
       "3  116.39,39.90  116.39  39.90\n",
       "4  116.37,39.86  116.37  39.86"
      ]
     },
     "execution_count": 18,
     "metadata": {},
     "output_type": "execute_result"
    }
   ],
   "source": [
    "all_co.head()"
   ]
  },
  {
   "cell_type": "code",
   "execution_count": 19,
   "metadata": {
    "ExecuteTime": {
     "end_time": "2019-05-03T19:14:16.321165Z",
     "start_time": "2019-05-03T19:14:16.311811Z"
    }
   },
   "outputs": [],
   "source": [
    "lng_mean = all_co['lng'].mean()\n",
    "lat_mean = all_co['lat'].mean()\n",
    "\n",
    "lng_mode = all_co['lng'].mode()[0]\n",
    "lat_mode = all_co['lat'].mode()[0]"
   ]
  },
  {
   "cell_type": "code",
   "execution_count": 21,
   "metadata": {
    "ExecuteTime": {
     "end_time": "2019-05-03T19:14:22.229329Z",
     "start_time": "2019-05-03T19:14:22.206626Z"
    }
   },
   "outputs": [],
   "source": [
    "data['o_main_centroid_mean_dis'] = abs(\n",
    "    data['o_lng']-lng_mean)+abs(data['o_lat']-lat_mean)\n",
    "data['d_main_centroid_mean_dis'] = abs(\n",
    "    data['d_lng']-lng_mean)+abs(data['d_lat']-lat_mean)\n",
    "\n",
    "data['o_main_centroid_mode_dis'] = abs(\n",
    "    data['o_lng']-lng_mean)+abs(data['o_lat']-lat_mean)\n",
    "data['d_main_centroid_mode_dis'] = abs(\n",
    "    data['d_lng']-lng_mode)+abs(data['d_lat']-lat_mode)"
   ]
  },
  {
   "cell_type": "markdown",
   "metadata": {
    "ExecuteTime": {
     "start_time": "2019-05-01T16:46:57.236Z"
    }
   },
   "source": [
    "# Add station distance feature"
   ]
  },
  {
   "cell_type": "code",
   "execution_count": 22,
   "metadata": {
    "ExecuteTime": {
     "end_time": "2019-05-03T19:20:16.950398Z",
     "start_time": "2019-05-03T19:14:24.620936Z"
    }
   },
   "outputs": [
    {
     "name": "stderr",
     "output_type": "stream",
     "text": [
      "100%|██████████| 5649/5649 [03:06<00:00, 30.29it/s]\n",
      "100%|██████████| 5101/5101 [02:45<00:00, 30.77it/s]\n"
     ]
    }
   ],
   "source": [
    "data['o_nearest_dis'] = np.nan\n",
    "data['d_nearest_dis'] = np.nan\n",
    "\n",
    "for co in tqdm(data['o'].unique()):\n",
    "    lg, la = co.split(',')\n",
    "    min_dis = (abs(subwayinfo['station_longitude']-float(lg)) +\n",
    "               abs(subwayinfo['station_latitude']-float(la))).min()\n",
    "    data.loc[(data['o'] == co), 'o_nearest_dis'] = min_dis\n",
    "\n",
    "\n",
    "for co in tqdm(data['d'].unique()):\n",
    "    lg, la = co.split(',')\n",
    "    min_dis = (abs(subwayinfo['station_longitude']-float(lg)) +\n",
    "               abs(subwayinfo['station_latitude']-float(la))).min()\n",
    "    data.loc[(data['d'] == co), 'd_nearest_dis'] = min_dis"
   ]
  },
  {
   "cell_type": "code",
   "execution_count": 23,
   "metadata": {
    "ExecuteTime": {
     "end_time": "2019-05-03T19:20:18.399577Z",
     "start_time": "2019-05-03T19:20:18.394220Z"
    }
   },
   "outputs": [
    {
     "data": {
      "text/plain": [
       "array(['click_mode', 'click_time', 'd', 'o', 'pid', 'plan_time', 'plans',\n",
       "       'req_time', 'sid', 'p0', 'p1', 'p2', 'p3', 'p4', 'p5', 'p6', 'p7',\n",
       "       'p8', 'p9', 'p10', 'p11', 'p12', 'p13', 'p14', 'p15', 'p16', 'p17',\n",
       "       'p18', 'p19', 'p20', 'p21', 'p22', 'p23', 'p24', 'p25', 'p26',\n",
       "       'p27', 'p28', 'p29', 'p30', 'p31', 'p32', 'p33', 'p34', 'p35',\n",
       "       'p36', 'p37', 'p38', 'p39', 'p40', 'p41', 'p42', 'p43', 'p44',\n",
       "       'p45', 'p46', 'p47', 'p48', 'p49', 'p50', 'p51', 'p52', 'p53',\n",
       "       'p54', 'p55', 'p56', 'p57', 'p58', 'p59', 'p60', 'p61', 'p62',\n",
       "       'p63', 'p64', 'p65', 'time_diff', 'plans_json', 'mode_feas_0',\n",
       "       'mode_feas_1', 'mode_feas_2', 'mode_feas_3', 'mode_feas_4',\n",
       "       'mode_feas_5', 'mode_feas_6', 'mode_feas_7', 'mode_feas_8',\n",
       "       'mode_feas_9', 'mode_feas_10', 'mode_feas_11', 'max_dist',\n",
       "       'min_dist', 'mean_dist', 'std_dist', 'max_price', 'min_price',\n",
       "       'mean_price', 'std_price', 'max_eta', 'min_eta', 'mean_eta',\n",
       "       'std_eta', 'max_dist_mode', 'min_dist_mode', 'max_price_mode',\n",
       "       'min_price_mode', 'max_eta_mode', 'min_eta_mode', 'first_mode',\n",
       "       'svd_mode_0', 'svd_mode_1', 'svd_mode_2', 'svd_mode_3',\n",
       "       'svd_mode_4', 'svd_mode_5', 'svd_mode_6', 'svd_mode_7',\n",
       "       'svd_mode_8', 'svd_mode_9', 'req_minute', 'if_holiday', 'Monday',\n",
       "       'Tuesday', 'Wednesday', 'Thursday', 'Friday', 'Saturday', 'Sunday',\n",
       "       '0_oclock', '1_oclock', '2_oclock', '3_oclock', '4_oclock',\n",
       "       '5_oclock', '6_oclock', '7_oclock', '8_oclock', '9_oclock',\n",
       "       '10_oclock', '11_oclock', '12_oclock', '13_oclock', '14_oclock',\n",
       "       '15_oclock', '16_oclock', '17_oclock', '18_oclock', '19_oclock',\n",
       "       '20_oclock', '21_oclock', '22_oclock', '23_oclock', 'o_lng',\n",
       "       'o_lat', 'd_lng', 'd_lat', 'od_manhattan_distance',\n",
       "       'o_main_centroid_mean_dis', 'd_main_centroid_mean_dis',\n",
       "       'o_main_centroid_mode_dis', 'd_main_centroid_mode_dis',\n",
       "       'o_nearest_dis', 'd_nearest_dis'], dtype=object)"
      ]
     },
     "execution_count": 23,
     "metadata": {},
     "output_type": "execute_result"
    }
   ],
   "source": [
    "data.columns.values"
   ]
  },
  {
   "cell_type": "code",
   "execution_count": 24,
   "metadata": {
    "ExecuteTime": {
     "end_time": "2019-05-03T19:20:19.817760Z",
     "start_time": "2019-05-03T19:20:19.813020Z"
    },
    "colab": {},
    "colab_type": "code",
    "id": "rsLlF6-UCvXz"
   },
   "outputs": [
    {
     "name": "stdout",
     "output_type": "stream",
     "text": [
      "Got 151 features\n"
     ]
    }
   ],
   "source": [
    "profile_feature = ['p' + str(i) for i in range(66)]\n",
    "origin_num_feature = ['o_lng', 'o_lat', 'd_lng', 'd_lat', 'o_main_centroid_mean_dis',\n",
    "                      'd_main_centroid_mean_dis', 'o_main_centroid_mode_dis', 'd_main_centroid_mode_dis',\n",
    "                      'od_manhattan_distance', 'o_nearest_dis', 'd_nearest_dis'] + profile_feature\n",
    "cate_feature = ['pid']\n",
    "time_feature = weekdays + oclock + ['if_holiday']\n",
    "feature = origin_num_feature + plan_features + time_feature+cate_feature\n",
    "print('Got %s features' % str(len(feature)))"
   ]
  },
  {
   "cell_type": "markdown",
   "metadata": {},
   "source": [
    "# Fill nan"
   ]
  },
  {
   "cell_type": "code",
   "execution_count": null,
   "metadata": {
    "ExecuteTime": {
     "end_time": "2019-05-03T19:14:16.560271Z",
     "start_time": "2019-05-03T19:11:26.265Z"
    }
   },
   "outputs": [],
   "source": [
    "# for p in profile_feature:\n",
    "#     data[p].fillna(data[p].mode()[0], inplace=True)"
   ]
  },
  {
   "cell_type": "markdown",
   "metadata": {
    "colab_type": "text",
    "id": "kYh6IcyBCvX1"
   },
   "source": [
    "# Data split"
   ]
  },
  {
   "cell_type": "code",
   "execution_count": 25,
   "metadata": {
    "ExecuteTime": {
     "end_time": "2019-05-03T19:20:22.834712Z",
     "start_time": "2019-05-03T19:20:21.225973Z"
    },
    "colab": {},
    "colab_type": "code",
    "id": "e_GiAJWUCvX1"
   },
   "outputs": [],
   "source": [
    "train_index = (data.req_time < '2018-11-23')\n",
    "train_x = data[train_index][feature].reset_index(drop=True)\n",
    "train_y = data[train_index].click_mode.reset_index(drop=True)\n",
    "\n",
    "valid_index = (data.req_time > '2018-11-23') & (data.req_time < '2018-12-01')\n",
    "valid_x = data[valid_index][feature].reset_index(drop=True)\n",
    "valid_y = data[valid_index].click_mode.reset_index(drop=True)\n",
    "\n",
    "test_index = (data.req_time > '2018-12-01')\n",
    "test_x = data[test_index][feature].reset_index(drop=True)"
   ]
  },
  {
   "cell_type": "markdown",
   "metadata": {
    "colab_type": "text",
    "id": "J7lCjcXYCvX3"
   },
   "source": [
    "# Train"
   ]
  },
  {
   "cell_type": "code",
   "execution_count": 26,
   "metadata": {
    "ExecuteTime": {
     "end_time": "2019-05-03T19:20:24.547077Z",
     "start_time": "2019-05-03T19:20:24.543402Z"
    },
    "colab": {},
    "colab_type": "code",
    "id": "dmVtqDJHCvXl"
   },
   "outputs": [],
   "source": [
    "def f1_weighted(labels, preds):\n",
    "    preds = np.argmax(preds.reshape(12, -1), axis=0)\n",
    "    score = f1_score(y_true=labels, y_pred=preds, average='weighted')\n",
    "    return 'f1_weighted', score, True"
   ]
  },
  {
   "cell_type": "code",
   "execution_count": 27,
   "metadata": {
    "ExecuteTime": {
     "end_time": "2019-05-03T19:20:26.221105Z",
     "start_time": "2019-05-03T19:20:26.217665Z"
    },
    "colab": {},
    "colab_type": "code",
    "id": "IaN5aeUZCvX4"
   },
   "outputs": [],
   "source": [
    "lgb_model = lgb.LGBMClassifier(boosting_type=\"gbdt\",\n",
    "                               num_leaves=61,\n",
    "                               reg_alpha=0,\n",
    "                               reg_lambda=0.01,\n",
    "                               max_depth=-1,\n",
    "                               n_estimators=2000,\n",
    "                               objective='multiclass',\n",
    "                               subsample=0.8,\n",
    "                               colsample_bytree=0.8,\n",
    "                               subsample_freq=1,\n",
    "                               min_child_samples=50,\n",
    "                               learning_rate=0.05,\n",
    "                               random_state=2019,\n",
    "                               metric=\"None\",\n",
    "                               n_jobs=-1)\n",
    "# 2: 0.687966\n",
    "# 3: 0.687585"
   ]
  },
  {
   "cell_type": "code",
   "execution_count": 28,
   "metadata": {
    "ExecuteTime": {
     "end_time": "2019-05-03T19:23:35.346994Z",
     "start_time": "2019-05-03T19:20:27.904076Z"
    }
   },
   "outputs": [
    {
     "name": "stdout",
     "output_type": "stream",
     "text": [
      "Training until validation scores don't improve for 100 rounds.\n",
      "[10]\tvalid_0's f1_weighted: 0.628983\n",
      "[20]\tvalid_0's f1_weighted: 0.675361\n",
      "[30]\tvalid_0's f1_weighted: 0.682348\n",
      "[40]\tvalid_0's f1_weighted: 0.684756\n",
      "[50]\tvalid_0's f1_weighted: 0.685578\n",
      "[60]\tvalid_0's f1_weighted: 0.686471\n",
      "[70]\tvalid_0's f1_weighted: 0.686799\n",
      "[80]\tvalid_0's f1_weighted: 0.68734\n",
      "[90]\tvalid_0's f1_weighted: 0.687554\n",
      "[100]\tvalid_0's f1_weighted: 0.68782\n",
      "[110]\tvalid_0's f1_weighted: 0.687785\n",
      "[120]\tvalid_0's f1_weighted: 0.687911\n",
      "[130]\tvalid_0's f1_weighted: 0.687905\n",
      "[140]\tvalid_0's f1_weighted: 0.687733\n",
      "[150]\tvalid_0's f1_weighted: 0.687605\n",
      "[160]\tvalid_0's f1_weighted: 0.687717\n",
      "[170]\tvalid_0's f1_weighted: 0.68753\n",
      "[180]\tvalid_0's f1_weighted: 0.687438\n",
      "[190]\tvalid_0's f1_weighted: 0.687585\n",
      "[200]\tvalid_0's f1_weighted: 0.687311\n",
      "[210]\tvalid_0's f1_weighted: 0.687292\n",
      "[220]\tvalid_0's f1_weighted: 0.687133\n",
      "Early stopping, best iteration is:\n",
      "[123]\tvalid_0's f1_weighted: 0.688112\n"
     ]
    },
    {
     "data": {
      "text/plain": [
       "LGBMClassifier(boosting_type='gbdt', class_weight=None, colsample_bytree=0.8,\n",
       "        importance_type='split', learning_rate=0.05, max_depth=-1,\n",
       "        metric='None', min_child_samples=50, min_child_weight=0.001,\n",
       "        min_split_gain=0.0, n_estimators=2000, n_jobs=-1, num_leaves=61,\n",
       "        objective='multiclass', random_state=2019, reg_alpha=0,\n",
       "        reg_lambda=0.01, silent=True, subsample=0.8,\n",
       "        subsample_for_bin=200000, subsample_freq=1)"
      ]
     },
     "execution_count": 28,
     "metadata": {},
     "output_type": "execute_result"
    }
   ],
   "source": [
    "eval_set = [(valid_x, valid_y)]\n",
    "lgb_model.fit(train_x, train_y, eval_set=eval_set, eval_metric=f1_weighted,\n",
    "              categorical_feature=cate_feature, verbose=10, early_stopping_rounds=100)"
   ]
  },
  {
   "cell_type": "markdown",
   "metadata": {
    "colab_type": "text",
    "id": "sDIviFYVCvX6"
   },
   "source": [
    "# Feature importance"
   ]
  },
  {
   "cell_type": "code",
   "execution_count": 29,
   "metadata": {
    "ExecuteTime": {
     "end_time": "2019-05-03T19:23:37.933047Z",
     "start_time": "2019-05-03T19:23:37.914176Z"
    },
    "colab": {},
    "colab_type": "code",
    "id": "vXy7U40ECvX7"
   },
   "outputs": [
    {
     "data": {
      "text/html": [
       "<div>\n",
       "<style scoped>\n",
       "    .dataframe tbody tr th:only-of-type {\n",
       "        vertical-align: middle;\n",
       "    }\n",
       "\n",
       "    .dataframe tbody tr th {\n",
       "        vertical-align: top;\n",
       "    }\n",
       "\n",
       "    .dataframe thead th {\n",
       "        text-align: right;\n",
       "    }\n",
       "</style>\n",
       "<table border=\"1\" class=\"dataframe\">\n",
       "  <thead>\n",
       "    <tr style=\"text-align: right;\">\n",
       "      <th></th>\n",
       "      <th>features</th>\n",
       "      <th>importance</th>\n",
       "    </tr>\n",
       "  </thead>\n",
       "  <tbody>\n",
       "    <tr>\n",
       "      <th>150</th>\n",
       "      <td>pid</td>\n",
       "      <td>19283</td>\n",
       "    </tr>\n",
       "    <tr>\n",
       "      <th>9</th>\n",
       "      <td>o_nearest_dis</td>\n",
       "      <td>2807</td>\n",
       "    </tr>\n",
       "    <tr>\n",
       "      <th>100</th>\n",
       "      <td>std_eta</td>\n",
       "      <td>2724</td>\n",
       "    </tr>\n",
       "    <tr>\n",
       "      <th>92</th>\n",
       "      <td>std_dist</td>\n",
       "      <td>2233</td>\n",
       "    </tr>\n",
       "    <tr>\n",
       "      <th>4</th>\n",
       "      <td>o_main_centroid_mean_dis</td>\n",
       "      <td>2232</td>\n",
       "    </tr>\n",
       "    <tr>\n",
       "      <th>110</th>\n",
       "      <td>svd_mode_2</td>\n",
       "      <td>2227</td>\n",
       "    </tr>\n",
       "    <tr>\n",
       "      <th>10</th>\n",
       "      <td>d_nearest_dis</td>\n",
       "      <td>2209</td>\n",
       "    </tr>\n",
       "    <tr>\n",
       "      <th>107</th>\n",
       "      <td>first_mode</td>\n",
       "      <td>2118</td>\n",
       "    </tr>\n",
       "    <tr>\n",
       "      <th>7</th>\n",
       "      <td>d_main_centroid_mode_dis</td>\n",
       "      <td>2038</td>\n",
       "    </tr>\n",
       "    <tr>\n",
       "      <th>98</th>\n",
       "      <td>min_eta</td>\n",
       "      <td>1991</td>\n",
       "    </tr>\n",
       "    <tr>\n",
       "      <th>5</th>\n",
       "      <td>d_main_centroid_mean_dis</td>\n",
       "      <td>1936</td>\n",
       "    </tr>\n",
       "    <tr>\n",
       "      <th>90</th>\n",
       "      <td>min_dist</td>\n",
       "      <td>1803</td>\n",
       "    </tr>\n",
       "    <tr>\n",
       "      <th>97</th>\n",
       "      <td>max_eta</td>\n",
       "      <td>1739</td>\n",
       "    </tr>\n",
       "    <tr>\n",
       "      <th>117</th>\n",
       "      <td>svd_mode_9</td>\n",
       "      <td>1723</td>\n",
       "    </tr>\n",
       "    <tr>\n",
       "      <th>1</th>\n",
       "      <td>o_lat</td>\n",
       "      <td>1675</td>\n",
       "    </tr>\n",
       "    <tr>\n",
       "      <th>108</th>\n",
       "      <td>svd_mode_0</td>\n",
       "      <td>1669</td>\n",
       "    </tr>\n",
       "    <tr>\n",
       "      <th>0</th>\n",
       "      <td>o_lng</td>\n",
       "      <td>1666</td>\n",
       "    </tr>\n",
       "    <tr>\n",
       "      <th>109</th>\n",
       "      <td>svd_mode_1</td>\n",
       "      <td>1617</td>\n",
       "    </tr>\n",
       "    <tr>\n",
       "      <th>113</th>\n",
       "      <td>svd_mode_5</td>\n",
       "      <td>1585</td>\n",
       "    </tr>\n",
       "    <tr>\n",
       "      <th>111</th>\n",
       "      <td>svd_mode_3</td>\n",
       "      <td>1543</td>\n",
       "    </tr>\n",
       "    <tr>\n",
       "      <th>112</th>\n",
       "      <td>svd_mode_4</td>\n",
       "      <td>1541</td>\n",
       "    </tr>\n",
       "    <tr>\n",
       "      <th>2</th>\n",
       "      <td>d_lng</td>\n",
       "      <td>1509</td>\n",
       "    </tr>\n",
       "    <tr>\n",
       "      <th>3</th>\n",
       "      <td>d_lat</td>\n",
       "      <td>1467</td>\n",
       "    </tr>\n",
       "    <tr>\n",
       "      <th>116</th>\n",
       "      <td>svd_mode_8</td>\n",
       "      <td>1436</td>\n",
       "    </tr>\n",
       "    <tr>\n",
       "      <th>99</th>\n",
       "      <td>mean_eta</td>\n",
       "      <td>1335</td>\n",
       "    </tr>\n",
       "    <tr>\n",
       "      <th>115</th>\n",
       "      <td>svd_mode_7</td>\n",
       "      <td>1306</td>\n",
       "    </tr>\n",
       "    <tr>\n",
       "      <th>114</th>\n",
       "      <td>svd_mode_6</td>\n",
       "      <td>1282</td>\n",
       "    </tr>\n",
       "    <tr>\n",
       "      <th>95</th>\n",
       "      <td>mean_price</td>\n",
       "      <td>1265</td>\n",
       "    </tr>\n",
       "    <tr>\n",
       "      <th>96</th>\n",
       "      <td>std_price</td>\n",
       "      <td>1067</td>\n",
       "    </tr>\n",
       "    <tr>\n",
       "      <th>8</th>\n",
       "      <td>od_manhattan_distance</td>\n",
       "      <td>1057</td>\n",
       "    </tr>\n",
       "    <tr>\n",
       "      <th>...</th>\n",
       "      <td>...</td>\n",
       "      <td>...</td>\n",
       "    </tr>\n",
       "    <tr>\n",
       "      <th>131</th>\n",
       "      <td>6_oclock</td>\n",
       "      <td>27</td>\n",
       "    </tr>\n",
       "    <tr>\n",
       "      <th>130</th>\n",
       "      <td>5_oclock</td>\n",
       "      <td>26</td>\n",
       "    </tr>\n",
       "    <tr>\n",
       "      <th>66</th>\n",
       "      <td>p55</td>\n",
       "      <td>24</td>\n",
       "    </tr>\n",
       "    <tr>\n",
       "      <th>12</th>\n",
       "      <td>p1</td>\n",
       "      <td>23</td>\n",
       "    </tr>\n",
       "    <tr>\n",
       "      <th>70</th>\n",
       "      <td>p59</td>\n",
       "      <td>22</td>\n",
       "    </tr>\n",
       "    <tr>\n",
       "      <th>29</th>\n",
       "      <td>p18</td>\n",
       "      <td>22</td>\n",
       "    </tr>\n",
       "    <tr>\n",
       "      <th>33</th>\n",
       "      <td>p22</td>\n",
       "      <td>22</td>\n",
       "    </tr>\n",
       "    <tr>\n",
       "      <th>62</th>\n",
       "      <td>p51</td>\n",
       "      <td>20</td>\n",
       "    </tr>\n",
       "    <tr>\n",
       "      <th>56</th>\n",
       "      <td>p45</td>\n",
       "      <td>20</td>\n",
       "    </tr>\n",
       "    <tr>\n",
       "      <th>129</th>\n",
       "      <td>4_oclock</td>\n",
       "      <td>20</td>\n",
       "    </tr>\n",
       "    <tr>\n",
       "      <th>54</th>\n",
       "      <td>p43</td>\n",
       "      <td>19</td>\n",
       "    </tr>\n",
       "    <tr>\n",
       "      <th>55</th>\n",
       "      <td>p44</td>\n",
       "      <td>19</td>\n",
       "    </tr>\n",
       "    <tr>\n",
       "      <th>17</th>\n",
       "      <td>p6</td>\n",
       "      <td>15</td>\n",
       "    </tr>\n",
       "    <tr>\n",
       "      <th>64</th>\n",
       "      <td>p53</td>\n",
       "      <td>15</td>\n",
       "    </tr>\n",
       "    <tr>\n",
       "      <th>27</th>\n",
       "      <td>p16</td>\n",
       "      <td>14</td>\n",
       "    </tr>\n",
       "    <tr>\n",
       "      <th>26</th>\n",
       "      <td>p15</td>\n",
       "      <td>13</td>\n",
       "    </tr>\n",
       "    <tr>\n",
       "      <th>63</th>\n",
       "      <td>p52</td>\n",
       "      <td>11</td>\n",
       "    </tr>\n",
       "    <tr>\n",
       "      <th>128</th>\n",
       "      <td>3_oclock</td>\n",
       "      <td>11</td>\n",
       "    </tr>\n",
       "    <tr>\n",
       "      <th>36</th>\n",
       "      <td>p25</td>\n",
       "      <td>11</td>\n",
       "    </tr>\n",
       "    <tr>\n",
       "      <th>76</th>\n",
       "      <td>p65</td>\n",
       "      <td>10</td>\n",
       "    </tr>\n",
       "    <tr>\n",
       "      <th>127</th>\n",
       "      <td>2_oclock</td>\n",
       "      <td>10</td>\n",
       "    </tr>\n",
       "    <tr>\n",
       "      <th>31</th>\n",
       "      <td>p20</td>\n",
       "      <td>7</td>\n",
       "    </tr>\n",
       "    <tr>\n",
       "      <th>30</th>\n",
       "      <td>p19</td>\n",
       "      <td>6</td>\n",
       "    </tr>\n",
       "    <tr>\n",
       "      <th>34</th>\n",
       "      <td>p23</td>\n",
       "      <td>5</td>\n",
       "    </tr>\n",
       "    <tr>\n",
       "      <th>52</th>\n",
       "      <td>p41</td>\n",
       "      <td>4</td>\n",
       "    </tr>\n",
       "    <tr>\n",
       "      <th>22</th>\n",
       "      <td>p11</td>\n",
       "      <td>4</td>\n",
       "    </tr>\n",
       "    <tr>\n",
       "      <th>69</th>\n",
       "      <td>p58</td>\n",
       "      <td>2</td>\n",
       "    </tr>\n",
       "    <tr>\n",
       "      <th>25</th>\n",
       "      <td>p14</td>\n",
       "      <td>1</td>\n",
       "    </tr>\n",
       "    <tr>\n",
       "      <th>35</th>\n",
       "      <td>p24</td>\n",
       "      <td>0</td>\n",
       "    </tr>\n",
       "    <tr>\n",
       "      <th>23</th>\n",
       "      <td>p12</td>\n",
       "      <td>0</td>\n",
       "    </tr>\n",
       "  </tbody>\n",
       "</table>\n",
       "<p>151 rows × 2 columns</p>\n",
       "</div>"
      ],
      "text/plain": [
       "                     features  importance\n",
       "150                       pid       19283\n",
       "9               o_nearest_dis        2807\n",
       "100                   std_eta        2724\n",
       "92                   std_dist        2233\n",
       "4    o_main_centroid_mean_dis        2232\n",
       "110                svd_mode_2        2227\n",
       "10              d_nearest_dis        2209\n",
       "107                first_mode        2118\n",
       "7    d_main_centroid_mode_dis        2038\n",
       "98                    min_eta        1991\n",
       "5    d_main_centroid_mean_dis        1936\n",
       "90                   min_dist        1803\n",
       "97                    max_eta        1739\n",
       "117                svd_mode_9        1723\n",
       "1                       o_lat        1675\n",
       "108                svd_mode_0        1669\n",
       "0                       o_lng        1666\n",
       "109                svd_mode_1        1617\n",
       "113                svd_mode_5        1585\n",
       "111                svd_mode_3        1543\n",
       "112                svd_mode_4        1541\n",
       "2                       d_lng        1509\n",
       "3                       d_lat        1467\n",
       "116                svd_mode_8        1436\n",
       "99                   mean_eta        1335\n",
       "115                svd_mode_7        1306\n",
       "114                svd_mode_6        1282\n",
       "95                 mean_price        1265\n",
       "96                  std_price        1067\n",
       "8       od_manhattan_distance        1057\n",
       "..                        ...         ...\n",
       "131                  6_oclock          27\n",
       "130                  5_oclock          26\n",
       "66                        p55          24\n",
       "12                         p1          23\n",
       "70                        p59          22\n",
       "29                        p18          22\n",
       "33                        p22          22\n",
       "62                        p51          20\n",
       "56                        p45          20\n",
       "129                  4_oclock          20\n",
       "54                        p43          19\n",
       "55                        p44          19\n",
       "17                         p6          15\n",
       "64                        p53          15\n",
       "27                        p16          14\n",
       "26                        p15          13\n",
       "63                        p52          11\n",
       "128                  3_oclock          11\n",
       "36                        p25          11\n",
       "76                        p65          10\n",
       "127                  2_oclock          10\n",
       "31                        p20           7\n",
       "30                        p19           6\n",
       "34                        p23           5\n",
       "52                        p41           4\n",
       "22                        p11           4\n",
       "69                        p58           2\n",
       "25                        p14           1\n",
       "35                        p24           0\n",
       "23                        p12           0\n",
       "\n",
       "[151 rows x 2 columns]"
      ]
     },
     "execution_count": 29,
     "metadata": {},
     "output_type": "execute_result"
    }
   ],
   "source": [
    "imp = pd.DataFrame()\n",
    "imp['features'] = feature\n",
    "imp['importance'] = lgb_model.feature_importances_\n",
    "imp = imp.sort_values('importance', ascending=False)\n",
    "imp"
   ]
  },
  {
   "cell_type": "code",
   "execution_count": 30,
   "metadata": {
    "ExecuteTime": {
     "end_time": "2019-05-03T19:23:44.853482Z",
     "start_time": "2019-05-03T19:23:39.751564Z"
    }
   },
   "outputs": [
    {
     "data": {
      "image/png": "[encoded data removed]",
      "text/plain": [
       "<Figure size 1440x7200 with 1 Axes>"
      ]
     },
     "metadata": {
      "needs_background": "light"
     },
     "output_type": "display_data"
    }
   ],
   "source": [
    "plt.figure(figsize=(20, 100))\n",
    "sns.barplot(x=\"importance\",\n",
    "            y=\"features\",\n",
    "            data=imp)\n",
    "plt.title('LightGBM Features (avg over folds)')\n",
    "plt.tight_layout()"
   ]
  },
  {
   "cell_type": "markdown",
   "metadata": {
    "colab_type": "text",
    "id": "8UAV2I0HCvX8"
   },
   "source": [
    "# Predict"
   ]
  },
  {
   "cell_type": "code",
   "execution_count": 31,
   "metadata": {
    "ExecuteTime": {
     "end_time": "2019-05-03T19:23:51.840441Z",
     "start_time": "2019-05-03T19:23:46.713641Z"
    },
    "colab": {},
    "colab_type": "code",
    "id": "6FQLgnBzCvX9"
   },
   "outputs": [
    {
     "name": "stdout",
     "output_type": "stream",
     "text": [
      "0.6881122981481186\n"
     ]
    },
    {
     "data": {
      "text/html": [
       "<div>\n",
       "<style scoped>\n",
       "    .dataframe tbody tr th:only-of-type {\n",
       "        vertical-align: middle;\n",
       "    }\n",
       "\n",
       "    .dataframe tbody tr th {\n",
       "        vertical-align: top;\n",
       "    }\n",
       "\n",
       "    .dataframe thead th {\n",
       "        text-align: right;\n",
       "    }\n",
       "</style>\n",
       "<table border=\"1\" class=\"dataframe\">\n",
       "  <thead>\n",
       "    <tr style=\"text-align: right;\">\n",
       "      <th></th>\n",
       "      <th>class_id</th>\n",
       "      <th>counts*f1_score</th>\n",
       "      <th>f1_score</th>\n",
       "      <th>precision</th>\n",
       "      <th>recall</th>\n",
       "    </tr>\n",
       "  </thead>\n",
       "  <tbody>\n",
       "    <tr>\n",
       "      <th>0</th>\n",
       "      <td>0.0</td>\n",
       "      <td>0.087414</td>\n",
       "      <td>0.345465</td>\n",
       "      <td>0.924588</td>\n",
       "      <td>0.212417</td>\n",
       "    </tr>\n",
       "    <tr>\n",
       "      <th>1</th>\n",
       "      <td>1.0</td>\n",
       "      <td>0.144617</td>\n",
       "      <td>0.684086</td>\n",
       "      <td>0.612020</td>\n",
       "      <td>0.775390</td>\n",
       "    </tr>\n",
       "    <tr>\n",
       "      <th>2</th>\n",
       "      <td>2.0</td>\n",
       "      <td>0.313324</td>\n",
       "      <td>0.901476</td>\n",
       "      <td>0.851244</td>\n",
       "      <td>0.958008</td>\n",
       "    </tr>\n",
       "    <tr>\n",
       "      <th>3</th>\n",
       "      <td>3.0</td>\n",
       "      <td>0.044598</td>\n",
       "      <td>0.095449</td>\n",
       "      <td>0.448071</td>\n",
       "      <td>0.053414</td>\n",
       "    </tr>\n",
       "    <tr>\n",
       "      <th>4</th>\n",
       "      <td>4.0</td>\n",
       "      <td>0.024453</td>\n",
       "      <td>0.015132</td>\n",
       "      <td>0.333333</td>\n",
       "      <td>0.007742</td>\n",
       "    </tr>\n",
       "    <tr>\n",
       "      <th>5</th>\n",
       "      <td>5.0</td>\n",
       "      <td>0.097574</td>\n",
       "      <td>0.841825</td>\n",
       "      <td>0.775688</td>\n",
       "      <td>0.920291</td>\n",
       "    </tr>\n",
       "    <tr>\n",
       "      <th>6</th>\n",
       "      <td>6.0</td>\n",
       "      <td>0.019893</td>\n",
       "      <td>0.167260</td>\n",
       "      <td>0.331765</td>\n",
       "      <td>0.111816</td>\n",
       "    </tr>\n",
       "    <tr>\n",
       "      <th>7</th>\n",
       "      <td>7.0</td>\n",
       "      <td>0.177920</td>\n",
       "      <td>0.788118</td>\n",
       "      <td>0.704690</td>\n",
       "      <td>0.893953</td>\n",
       "    </tr>\n",
       "    <tr>\n",
       "      <th>8</th>\n",
       "      <td>8.0</td>\n",
       "      <td>0.004559</td>\n",
       "      <td>0.283610</td>\n",
       "      <td>0.303150</td>\n",
       "      <td>0.266436</td>\n",
       "    </tr>\n",
       "    <tr>\n",
       "      <th>9</th>\n",
       "      <td>9.0</td>\n",
       "      <td>0.049931</td>\n",
       "      <td>0.515972</td>\n",
       "      <td>0.572640</td>\n",
       "      <td>0.469510</td>\n",
       "    </tr>\n",
       "    <tr>\n",
       "      <th>10</th>\n",
       "      <td>10.0</td>\n",
       "      <td>0.028475</td>\n",
       "      <td>0.554131</td>\n",
       "      <td>0.484836</td>\n",
       "      <td>0.646537</td>\n",
       "    </tr>\n",
       "    <tr>\n",
       "      <th>11</th>\n",
       "      <td>11.0</td>\n",
       "      <td>0.007241</td>\n",
       "      <td>0.466447</td>\n",
       "      <td>0.471111</td>\n",
       "      <td>0.461874</td>\n",
       "    </tr>\n",
       "  </tbody>\n",
       "</table>\n",
       "</div>"
      ],
      "text/plain": [
       "    class_id  counts*f1_score  f1_score  precision    recall\n",
       "0        0.0         0.087414  0.345465   0.924588  0.212417\n",
       "1        1.0         0.144617  0.684086   0.612020  0.775390\n",
       "2        2.0         0.313324  0.901476   0.851244  0.958008\n",
       "3        3.0         0.044598  0.095449   0.448071  0.053414\n",
       "4        4.0         0.024453  0.015132   0.333333  0.007742\n",
       "5        5.0         0.097574  0.841825   0.775688  0.920291\n",
       "6        6.0         0.019893  0.167260   0.331765  0.111816\n",
       "7        7.0         0.177920  0.788118   0.704690  0.893953\n",
       "8        8.0         0.004559  0.283610   0.303150  0.266436\n",
       "9        9.0         0.049931  0.515972   0.572640  0.469510\n",
       "10      10.0         0.028475  0.554131   0.484836  0.646537\n",
       "11      11.0         0.007241  0.466447   0.471111  0.461874"
      ]
     },
     "execution_count": 31,
     "metadata": {},
     "output_type": "execute_result"
    }
   ],
   "source": [
    "pred = lgb_model.predict(valid_x)\n",
    "df_analysis = pd.DataFrame()\n",
    "df_analysis['sid'] = data[valid_index]['sid']\n",
    "df_analysis['label'] = valid_y.values\n",
    "df_analysis['pred'] = pred\n",
    "df_analysis['label'] = df_analysis['label'].astype(int)\n",
    "dic_ = df_analysis['label'].value_counts(normalize=True)\n",
    "\n",
    "score_df = pd.DataFrame(\n",
    "    columns=['class_id', 'counts*f1_score', 'f1_score', 'precision', 'recall'])\n",
    "\n",
    "\n",
    "def get_weighted_fscore(y_pred, y_true):\n",
    "    f_score = 0\n",
    "    for i in range(12):\n",
    "        yt = y_true == i\n",
    "        yp = y_pred == i\n",
    "        f_score += dic_[i] * f1_score(y_true=yt, y_pred=yp)\n",
    "        score_df.loc[i] = [i, dic_[i], f1_score(y_true=yt, y_pred=yp), precision_score(\n",
    "            y_true=yt, y_pred=yp), recall_score(y_true=yt, y_pred=yp)]\n",
    "    print(f_score)\n",
    "    return score_df\n",
    "\n",
    "\n",
    "score_df = get_weighted_fscore(\n",
    "    y_true=df_analysis['label'], y_pred=df_analysis['pred'])\n",
    "score_df\n",
    "\n",
    "# 0.7095882458513125"
   ]
  },
  {
   "cell_type": "code",
   "execution_count": 32,
   "metadata": {
    "ExecuteTime": {
     "end_time": "2019-05-03T19:23:53.709648Z",
     "start_time": "2019-05-03T19:23:53.704702Z"
    }
   },
   "outputs": [
    {
     "data": {
      "text/plain": [
       "1.0"
      ]
     },
     "execution_count": 32,
     "metadata": {},
     "output_type": "execute_result"
    }
   ],
   "source": [
    "score_df['counts*f1_score'].sum()"
   ]
  },
  {
   "cell_type": "code",
   "execution_count": 33,
   "metadata": {
    "ExecuteTime": {
     "end_time": "2019-05-03T19:25:53.128745Z",
     "start_time": "2019-05-03T19:23:55.535930Z"
    },
    "colab": {},
    "colab_type": "code",
    "id": "xVhOpSZeCvX_"
   },
   "outputs": [
    {
     "name": "stdout",
     "output_type": "stream",
     "text": [
      "123\n",
      "fit over\n",
      "94358\n",
      "2     34105\n",
      "7     22316\n",
      "1     18018\n",
      "5     10912\n",
      "10     3429\n",
      "0      2052\n",
      "9      1913\n",
      "3       450\n",
      "11      416\n",
      "6       380\n",
      "8       314\n",
      "4        53\n",
      "Name: recommend_mode, dtype: int64\n"
     ]
    }
   ],
   "source": [
    "all_train_x = data[data.req_time <\n",
    "                   '2018-12-01'][feature].reset_index(drop=True)\n",
    "all_train_y = data[data.req_time <\n",
    "                   '2018-12-01'].click_mode.reset_index(drop=True)\n",
    "print(lgb_model.best_iteration_)\n",
    "lgb_model.n_estimators = lgb_model.best_iteration_\n",
    "lgb_model.fit(all_train_x, all_train_y, categorical_feature=cate_feature)\n",
    "print('fit over')\n",
    "result = pd.DataFrame()\n",
    "result['sid'] = data[test_index]['sid']\n",
    "result['recommend_mode'] = lgb_model.predict(test_x)\n",
    "result['recommend_mode'] = result['recommend_mode'].astype(int)\n",
    "print(len(result))\n",
    "print(result['recommend_mode'].value_counts())"
   ]
  },
  {
   "cell_type": "code",
   "execution_count": 34,
   "metadata": {
    "ExecuteTime": {
     "end_time": "2019-05-03T19:25:55.525940Z",
     "start_time": "2019-05-03T19:25:55.267876Z"
    },
    "colab": {},
    "colab_type": "code",
    "id": "XfZbGMgHCvYC"
   },
   "outputs": [],
   "source": [
    "result[['sid', 'recommend_mode']].to_csv(\n",
    "    project_path + 'Data/long_legs.csv', index=False)"
   ]
  },
  {
   "cell_type": "code",
   "execution_count": null,
   "metadata": {},
   "outputs": [],
   "source": []
  }
 ],
 "metadata": {
  "colab": {
   "collapsed_sections": [],
   "name": "Pipline.ipynb",
   "provenance": [],
   "version": "0.3.2"
  },
  "kernelspec": {
   "display_name": "Python 3",
   "language": "python",
   "name": "python3"
  },
  "language_info": {
   "codemirror_mode": {
    "name": "ipython",
    "version": 3
   },
   "file_extension": ".py",
   "mimetype": "text/x-python",
   "name": "python",
   "nbconvert_exporter": "python",
   "pygments_lexer": "ipython3",
   "version": "3.6.2"
  },
  "toc": {
   "base_numbering": 1,
   "nav_menu": {},
   "number_sections": true,
   "sideBar": true,
   "skip_h1_title": false,
   "title_cell": "Table of Contents",
   "title_sidebar": "Contents",
   "toc_cell": false,
   "toc_position": {},
   "toc_section_display": true,
   "toc_window_display": false
  },
  "varInspector": {
   "cols": {
    "lenName": 16,
    "lenType": 16,
    "lenVar": 40
   },
   "kernels_config": {
    "python": {
     "delete_cmd_postfix": "",
     "delete_cmd_prefix": "del ",
     "library": "var_list.py",
     "varRefreshCmd": "print(var_dic_list())"
    },
    "r": {
     "delete_cmd_postfix": ") ",
     "delete_cmd_prefix": "rm(",
     "library": "var_list.r",
     "varRefreshCmd": "cat(var_dic_list()) "
    }
   },
   "types_to_exclude": [
    "module",
    "function",
    "builtin_function_or_method",
    "instance",
    "_Feature"
   ],
   "window_display": false
  }
 },
 "nbformat": 4,
 "nbformat_minor": 1
}
