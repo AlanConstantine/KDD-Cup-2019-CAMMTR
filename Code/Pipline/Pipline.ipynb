{
 "cells": [
  {
   "cell_type": "code",
   "execution_count": 1,
   "metadata": {
    "ExecuteTime": {
     "end_time": "2019-05-03T19:11:26.205320Z",
     "start_time": "2019-05-03T19:11:26.202770Z"
    },
    "colab": {
     "base_uri": "https://localhost:8080/",
     "height": 52
    },
    "colab_type": "code",
    "executionInfo": {
     "elapsed": 75401,
     "status": "error",
     "timestamp": 1556727122761,
     "user": {
      "displayName": "Alan Lau",
      "photoUrl": "https://lh3.googleusercontent.com/-ZaOsrA7oyQw/AAAAAAAAAAI/AAAAAAAAAAc/PW0qJYFKbUY/s64/photo.jpg",
      "userId": "02808478473948384287"
     },
     "user_tz": -480
    },
    "id": "H4_rgcWjC1wQ",
    "outputId": "4f67fd54-1f4d-4f3d-c880-0db8b5ab9e3e"
   },
   "outputs": [],
   "source": [
    "# import getpass\n",
    "# from oauth2client.client import GoogleCredentials\n",
    "# from google.colab import auth\n",
    "# !apt-get install - y - qq software-properties-common python-software-properties module-init-tools\n",
    "# !add-apt-repository - y ppa: alessandro-strada/ppa 2 > &1 > /dev/null\n",
    "# !apt-get update - qq 2 > &1 > /dev/null\n",
    "# !apt-get - y install - qq google-drive-ocamlfuse fuse\n",
    "# auth.authenticate_user()\n",
    "# creds = GoogleCredentials.get_application_default()\n",
    "# !google-drive-ocamlfuse - headless - id = {creds.client_id} - secret = {creds.client_secret} < /dev/null 2 > &1 | grep URL\n",
    "# vcode = getpass.getpass()\n",
    "# !echo {vcode} | google-drive-ocamlfuse - headless - id = {creds.client_id} - secret = {creds.client_secret}"
   ]
  },
  {
   "cell_type": "code",
   "execution_count": 2,
   "metadata": {
    "ExecuteTime": {
     "end_time": "2019-05-03T19:11:26.210992Z",
     "start_time": "2019-05-03T19:11:26.208365Z"
    },
    "colab": {},
    "colab_type": "code",
    "id": "sAEXzMr_DOTo"
   },
   "outputs": [],
   "source": [
    "# !mkdir - p drive\n",
    "# !google-drive-ocamlfuse drive - o nonempty"
   ]
  },
  {
   "cell_type": "code",
   "execution_count": 3,
   "metadata": {
    "ExecuteTime": {
     "end_time": "2019-05-03T19:11:26.215698Z",
     "start_time": "2019-05-03T19:11:26.213315Z"
    },
    "colab": {},
    "colab_type": "code",
    "id": "MCDdayZDDVVs"
   },
   "outputs": [],
   "source": [
    "# import os\n",
    "# os.chdir('drive')"
   ]
  },
  {
   "cell_type": "code",
   "execution_count": 4,
   "metadata": {
    "ExecuteTime": {
     "end_time": "2019-05-03T19:11:26.221614Z",
     "start_time": "2019-05-03T19:11:26.218969Z"
    },
    "colab": {
     "base_uri": "https://localhost:8080/",
     "height": 34
    },
    "colab_type": "code",
    "executionInfo": {
     "elapsed": 3270,
     "status": "ok",
     "timestamp": 1556727041091,
     "user": {
      "displayName": "Alan Lau",
      "photoUrl": "https://lh3.googleusercontent.com/-ZaOsrA7oyQw/AAAAAAAAAAI/AAAAAAAAAAc/PW0qJYFKbUY/s64/photo.jpg",
      "userId": "02808478473948384287"
     },
     "user_tz": -480
    },
    "id": "6AH8_4oADX8R",
    "outputId": "de369089-fcfc-4d3d-8fbd-17517f9d4a92"
   },
   "outputs": [],
   "source": [
    "# !ls Competitions/KDD-Cup-2019-CAMMTR/Data"
   ]
  },
  {
   "cell_type": "code",
   "execution_count": 145,
   "metadata": {
    "ExecuteTime": {
     "end_time": "2019-05-06T15:21:03.190341Z",
     "start_time": "2019-05-06T15:21:03.099451Z"
    },
    "colab": {},
    "colab_type": "code",
    "id": "OxlyOW7bCvXc"
   },
   "outputs": [],
   "source": [
    "import ast\n",
    "from itertools import product\n",
    "\n",
    "from sklearn.decomposition import TruncatedSVD\n",
    "from sklearn.feature_extraction.text import TfidfVectorizer\n",
    "from sklearn.model_selection import StratifiedKFold\n",
    "from sklearn.metrics import f1_score\n",
    "from sklearn.metrics import accuracy_score, recall_score, precision_score\n",
    "from sklearn.metrics import accuracy_score\n",
    "\n",
    "import json\n",
    "from tqdm import tqdm\n",
    "import warnings\n",
    "import numpy as np\n",
    "import pandas as pd\n",
    "import lightgbm as lgb\n",
    "import os\n",
    "\n",
    "import seaborn as sns\n",
    "import matplotlib.pyplot as plt\n",
    "%matplotlib inline\n",
    "\n",
    "warnings.filterwarnings(\"ignore\")\n",
    "\n",
    "# project_path='./Competitions/KDD-Cup-2019-CAMMTR/'\n",
    "project_path = '../../'\n",
    "\n",
    "holidays = pd.Series(\n",
    "    json.load(open(project_path+r'Config/Holidays.json'))['holidays'])\n",
    "subwayinfo = pd.read_csv(project_path+r'Data/Beijing.csv')\n",
    "weatherinfo =pd.read_csv(project_path+r'Data/Weather.csv')"
   ]
  },
  {
   "cell_type": "markdown",
   "metadata": {
    "colab_type": "text",
    "id": "AJFW6SL_CvXf"
   },
   "source": [
    "# Feature engineering"
   ]
  },
  {
   "cell_type": "code",
   "execution_count": 146,
   "metadata": {
    "ExecuteTime": {
     "end_time": "2019-05-06T15:21:05.013586Z",
     "start_time": "2019-05-06T15:21:05.008809Z"
    },
    "colab": {},
    "colab_type": "code",
    "id": "kCAkXW4fCvXg"
   },
   "outputs": [],
   "source": [
    "def load_data(mainpath):\n",
    "    train_queries = pd.read_csv(\n",
    "        mainpath + 'train_queries.csv', parse_dates=['req_time'])\n",
    "    train_plans = pd.read_csv(mainpath + 'train_plans.csv',\n",
    "                              parse_dates=['plan_time'])\n",
    "    train_clicks = pd.read_csv(mainpath + 'train_clicks.csv')\n",
    "#     profiles = pd.read_csv(mainpath + 'profiles.csv')\n",
    "    test_queries = pd.read_csv(\n",
    "        mainpath + 'test_queries.csv', parse_dates=['req_time'])\n",
    "    test_plans = pd.read_csv(mainpath + 'test_plans.csv',\n",
    "                             parse_dates=['plan_time'])\n",
    "    return train_queries, train_plans, train_clicks, test_queries, test_plans"
   ]
  },
  {
   "cell_type": "code",
   "execution_count": 147,
   "metadata": {
    "ExecuteTime": {
     "end_time": "2019-05-06T15:21:07.348820Z",
     "start_time": "2019-05-06T15:21:07.344429Z"
    }
   },
   "outputs": [],
   "source": [
    "def read_profile_data():\n",
    "    profile_data = pd.read_csv(mainpath + 'profiles.csv')\n",
    "    profile_na = np.zeros(67)\n",
    "    profile_na[0] = -1\n",
    "    profile_na = pd.DataFrame(profile_na.reshape(1, -1))\n",
    "    profile_na.columns = profile_data.columns\n",
    "    profile_data = profile_data.append(profile_na)\n",
    "    return profile_data"
   ]
  },
  {
   "cell_type": "code",
   "execution_count": 148,
   "metadata": {
    "ExecuteTime": {
     "end_time": "2019-05-06T15:21:08.556015Z",
     "start_time": "2019-05-06T15:21:08.551352Z"
    },
    "colab": {},
    "colab_type": "code",
    "id": "iUQcoS3ACvXi"
   },
   "outputs": [],
   "source": [
    "def merge(train_queries, train_plans, train_clicks, test_queries, test_plans):\n",
    "    train = train_queries.merge(train_plans, 'left', ['sid'])\n",
    "    test = test_queries.merge(test_plans, 'left', ['sid'])\n",
    "    train = train.merge(train_clicks, 'left', ['sid'])\n",
    "    train['click_mode'] = train['click_mode'].fillna(0).astype(int)\n",
    "    data = pd.concat([train, test], ignore_index=True)\n",
    "#     data = data.merge(profiles, 'left', ['pid'])\n",
    "    return train, test, data"
   ]
  },
  {
   "cell_type": "code",
   "execution_count": 149,
   "metadata": {
    "ExecuteTime": {
     "end_time": "2019-05-06T15:21:12.148751Z",
     "start_time": "2019-05-06T15:21:12.123306Z"
    },
    "colab": {},
    "colab_type": "code",
    "id": "ezvgAZ46CvXj"
   },
   "outputs": [],
   "source": [
    "def gen_plan_feas(data):\n",
    "    n = data.shape[0]\n",
    "    mode_list_feas = np.zeros((n, 12))\n",
    "    max_dist, min_dist, mean_dist, std_dist = np.zeros(\n",
    "        (n,)), np.zeros((n,)), np.zeros((n,)), np.zeros((n,))\n",
    "\n",
    "    max_price, min_price, mean_price, std_price = np.zeros(\n",
    "        (n,)), np.zeros((n,)), np.zeros((n,)), np.zeros((n,))\n",
    "\n",
    "    max_eta, min_eta, mean_eta, std_eta = np.zeros(\n",
    "        (n,)), np.zeros((n,)), np.zeros((n,)), np.zeros((n,))\n",
    "\n",
    "    min_dist_mode, max_dist_mode, min_price_mode, max_price_mode, min_eta_mode, max_eta_mode, first_mode = \\\n",
    "        np.zeros((n,)), np.zeros((n,)), np.zeros((n,)), np.zeros(\n",
    "            (n,)), np.zeros((n,)), np.zeros((n,)), np.zeros((n,))\n",
    "\n",
    "    mode_texts = []\n",
    "    for i, plan in tqdm(enumerate(data['plans_json'].values)):\n",
    "        if len(plan) == 0:\n",
    "            cur_plan_list = []\n",
    "        else:\n",
    "            cur_plan_list = plan\n",
    "        if len(cur_plan_list) == 0:\n",
    "            mode_list_feas[i, 0] = 1\n",
    "            first_mode[i] = 0\n",
    "            max_dist[i] = -1\n",
    "            min_dist[i] = -1\n",
    "            mean_dist[i] = -1\n",
    "            std_dist[i] = -1\n",
    "            max_price[i] = -1\n",
    "            min_price[i] = -1\n",
    "            mean_price[i] = -1\n",
    "            std_price[i] = -1\n",
    "            max_eta[i] = -1\n",
    "            min_eta[i] = -1\n",
    "            mean_eta[i] = -1\n",
    "            std_eta[i] = -1\n",
    "            min_dist_mode[i] = -1\n",
    "            max_dist_mode[i] = -1\n",
    "            min_price_mode[i] = -1\n",
    "            max_price_mode[i] = -1\n",
    "            min_eta_mode[i] = -1\n",
    "            max_eta_mode[i] = -1\n",
    "            mode_texts.append('word_null')\n",
    "        else:\n",
    "            distance_list = []\n",
    "            price_list = []\n",
    "            eta_list = []\n",
    "            mode_list = []\n",
    "            for tmp_dit in cur_plan_list:\n",
    "                distance_list.append(int(tmp_dit['distance']))\n",
    "                if tmp_dit['price'] == '':\n",
    "                    price_list.append(0)\n",
    "                else:\n",
    "                    price_list.append(int(tmp_dit['price']))\n",
    "                eta_list.append(int(tmp_dit['eta']))\n",
    "                mode_list.append(int(tmp_dit['transport_mode']))\n",
    "            mode_texts.append(\n",
    "                ' '.join(['word_{}'.format(mode) for mode in mode_list]))\n",
    "            distance_list = np.array(distance_list)\n",
    "            price_list = np.array(price_list)\n",
    "            eta_list = np.array(eta_list)\n",
    "            mode_list = np.array(mode_list, dtype='int')\n",
    "            mode_list_feas[i, mode_list] = 1\n",
    "            distance_sort_idx = np.argsort(distance_list)\n",
    "            price_sort_idx = np.argsort(price_list)\n",
    "            eta_sort_idx = np.argsort(eta_list)\n",
    "            max_dist[i] = distance_list[distance_sort_idx[-1]]\n",
    "            min_dist[i] = distance_list[distance_sort_idx[0]]\n",
    "            mean_dist[i] = np.mean(distance_list)\n",
    "            std_dist[i] = np.std(distance_list)\n",
    "            max_price[i] = price_list[price_sort_idx[-1]]\n",
    "            min_price[i] = price_list[price_sort_idx[0]]\n",
    "            mean_price[i] = np.mean(price_list)\n",
    "            std_price[i] = np.std(price_list)\n",
    "            max_eta[i] = eta_list[eta_sort_idx[-1]]\n",
    "            min_eta[i] = eta_list[eta_sort_idx[0]]\n",
    "            mean_eta[i] = np.mean(eta_list)\n",
    "            std_eta[i] = np.std(eta_list)\n",
    "            first_mode[i] = mode_list[0]\n",
    "            max_dist_mode[i] = mode_list[distance_sort_idx[-1]]\n",
    "            min_dist_mode[i] = mode_list[distance_sort_idx[0]]\n",
    "            max_price_mode[i] = mode_list[price_sort_idx[-1]]\n",
    "            min_price_mode[i] = mode_list[price_sort_idx[0]]\n",
    "            max_eta_mode[i] = mode_list[eta_sort_idx[-1]]\n",
    "            min_eta_mode[i] = mode_list[eta_sort_idx[0]]\n",
    "    feature_data = pd.DataFrame(mode_list_feas)\n",
    "    feature_data.columns = ['mode_feas_{}'.format(i) for i in range(12)]\n",
    "    feature_data['max_dist'] = max_dist\n",
    "    feature_data['min_dist'] = min_dist\n",
    "    feature_data['mean_dist'] = mean_dist\n",
    "    feature_data['std_dist'] = std_dist\n",
    "    feature_data['max_price'] = max_price\n",
    "    feature_data['min_price'] = min_price\n",
    "    feature_data['mean_price'] = mean_price\n",
    "    feature_data['std_price'] = std_price\n",
    "    feature_data['max_eta'] = max_eta\n",
    "    feature_data['min_eta'] = min_eta\n",
    "    feature_data['mean_eta'] = mean_eta\n",
    "    feature_data['std_eta'] = std_eta\n",
    "    feature_data['max_dist_mode'] = max_dist_mode\n",
    "    feature_data['min_dist_mode'] = min_dist_mode\n",
    "    feature_data['max_price_mode'] = max_price_mode\n",
    "    feature_data['min_price_mode'] = min_price_mode\n",
    "    feature_data['max_eta_mode'] = max_eta_mode\n",
    "    feature_data['min_eta_mode'] = min_eta_mode\n",
    "    feature_data['first_mode'] = first_mode\n",
    "    print('mode tfidf...')\n",
    "    tfidf_enc = TfidfVectorizer(ngram_range=(1, 2))\n",
    "    tfidf_vec = tfidf_enc.fit_transform(mode_texts)\n",
    "    svd_enc = TruncatedSVD(n_components=10, n_iter=20, random_state=2019)\n",
    "    mode_svd = svd_enc.fit_transform(tfidf_vec)\n",
    "    mode_svd = pd.DataFrame(mode_svd)\n",
    "    mode_svd.columns = ['svd_mode_{}'.format(i) for i in range(10)]\n",
    "    plan_fea = pd.concat([feature_data, mode_svd], axis=1)\n",
    "    plan_fea['sid'] = data['sid'].values\n",
    "\n",
    "    return plan_fea"
   ]
  },
  {
   "cell_type": "code",
   "execution_count": 151,
   "metadata": {
    "ExecuteTime": {
     "end_time": "2019-05-06T15:21:43.061740Z",
     "start_time": "2019-05-06T15:21:43.055795Z"
    }
   },
   "outputs": [],
   "source": [
    "def gen_profile_feas(data):\n",
    "    profile_data = read_profile_data()\n",
    "    x = profile_data.drop(['pid'], axis=1).values\n",
    "    svd = TruncatedSVD(n_components=20, n_iter=20, random_state=2019)\n",
    "    svd_x = svd.fit_transform(x)\n",
    "    svd_feas = pd.DataFrame(svd_x)\n",
    "    svd_feas.columns = ['svd_fea_{}'.format(i) for i in range(20)]\n",
    "    svd_feas['pid'] = profile_data['pid'].values\n",
    "    data['pid'] = data['pid'].fillna(-1)\n",
    "    data = data.merge(svd_feas, on='pid', how='left')\n",
    "    return data"
   ]
  },
  {
   "cell_type": "code",
   "execution_count": 152,
   "metadata": {
    "ExecuteTime": {
     "end_time": "2019-05-06T15:21:44.857774Z",
     "start_time": "2019-05-06T15:21:44.854418Z"
    },
    "colab": {},
    "colab_type": "code",
    "id": "rM7o4e5JCvXn"
   },
   "outputs": [],
   "source": [
    "mainpath = project_path + r'Data/data_set_phase1/'"
   ]
  },
  {
   "cell_type": "code",
   "execution_count": 153,
   "metadata": {
    "ExecuteTime": {
     "end_time": "2019-05-06T15:21:50.217305Z",
     "start_time": "2019-05-06T15:21:45.980988Z"
    },
    "colab": {},
    "colab_type": "code",
    "id": "HxBaCBRxCvXo"
   },
   "outputs": [],
   "source": [
    "train_queries, train_plans, train_clicks, test_queries, test_plans = load_data(\n",
    "    mainpath)"
   ]
  },
  {
   "cell_type": "code",
   "execution_count": 159,
   "metadata": {
    "ExecuteTime": {
     "end_time": "2019-05-06T15:29:18.780124Z",
     "start_time": "2019-05-06T15:29:17.214927Z"
    },
    "colab": {},
    "colab_type": "code",
    "id": "wfxInGIJCvXq"
   },
   "outputs": [],
   "source": [
    "train, test, data = merge(train_queries, train_plans,\n",
    "                          train_clicks, test_queries, test_plans)"
   ]
  },
  {
   "cell_type": "code",
   "execution_count": 160,
   "metadata": {
    "ExecuteTime": {
     "end_time": "2019-05-06T15:29:22.227760Z",
     "start_time": "2019-05-06T15:29:20.165797Z"
    }
   },
   "outputs": [],
   "source": [
    "data=gen_profile_feas(data)"
   ]
  },
  {
   "cell_type": "code",
   "execution_count": 161,
   "metadata": {
    "ExecuteTime": {
     "end_time": "2019-05-06T15:29:23.894900Z",
     "start_time": "2019-05-06T15:29:23.886541Z"
    },
    "colab": {},
    "colab_type": "code",
    "id": "1QIdrjCiCvXw"
   },
   "outputs": [],
   "source": [
    "def feature_engineering(df):\n",
    "    df['time_diff'] = df['plan_time'].astype(\n",
    "        int) - df['req_time'].astype(int)\n",
    "\n",
    "    df['plans_json'] = data['plans'].fillna(\n",
    "        '[]').apply(lambda x: json.loads(x))\n",
    "    df_plans = gen_plan_feas(df)\n",
    "    plan_features = [col for col in df_plans.columns if col not in ['sid']]\n",
    "    df = df.merge(df_plans, on='sid', how='left')\n",
    "\n",
    "    df['req_time'] = pd.to_datetime(df['req_time'])\n",
    "    df['day_of_week'] = data['req_time'].dt.dayofweek\n",
    "    df['req_date'] = df['req_time'].dt.strftime('%m-%d')\n",
    "    df['req_hour'] = df['req_time'].dt.hour\n",
    "    df['req_minute'] = df['req_time'].dt.minute\n",
    "    df['if_holiday'] = (df['req_date'].isin(holidays)).astype(int)\n",
    "\n",
    "#     # Week day\n",
    "#     current_c = list(df.columns.values)\n",
    "#     weekdays = ['Monday', 'Tuesday', 'Wednesday',\n",
    "#                 'Thursday', 'Friday', 'Saturday', 'Sunday']\n",
    "#     current_c.extend(weekdays)\n",
    "#     df = df.reindex(columns=current_c, fill_value=0)\n",
    "#     for day_name in weekdays:\n",
    "#         df.loc[(df['day_of_week'] == day_name), [day_name]] = 1\n",
    "#     print('week day Done.')\n",
    "\n",
    "#     # Hour\n",
    "#     current_c = list(df.columns.values)\n",
    "#     oclock = [str(i)+'_oclock' for i in range(0, 24)]\n",
    "#     current_c.extend(oclock)\n",
    "#     df = df.reindex(columns=current_c, fill_value=0)\n",
    "#     for h in oclock:\n",
    "#         df.loc[(df['req_hour'] == int(h.split('_')[0])), [h]] = 1\n",
    "\n",
    "#     print('Hour Done.')\n",
    "\n",
    "\n",
    "\n",
    "#     df.drop(columns=['day_of_week', 'req_hour'], inplace=True)\n",
    "\n",
    "    df['o_lng'] = df['o'].apply(lambda x: float(x.split(',')[0]))\n",
    "    df['o_lat'] = df['o'].apply(lambda x: float(x.split(',')[1]))\n",
    "    df['d_lng'] = df['d'].apply(lambda x: float(x.split(',')[0]))\n",
    "    df['d_lat'] = df['d'].apply(lambda x: float(x.split(',')[1]))\n",
    "    df['od_manhattan_distance'] = abs(\n",
    "        df['o_lng']-df['d_lng'])+abs(df['o_lat']-df['d_lat'])\n",
    "\n",
    "    print('OD distance done.')\n",
    "\n",
    "    return df, plan_features"
   ]
  },
  {
   "cell_type": "code",
   "execution_count": 165,
   "metadata": {
    "ExecuteTime": {
     "end_time": "2019-05-06T15:50:10.998064Z",
     "start_time": "2019-05-06T15:48:05.613018Z"
    },
    "colab": {
     "base_uri": "https://localhost:8080/",
     "height": 164
    },
    "colab_type": "code",
    "executionInfo": {
     "elapsed": 2393,
     "status": "error",
     "timestamp": 1556727019156,
     "user": {
      "displayName": "Alan Lau",
      "photoUrl": "https://lh3.googleusercontent.com/-ZaOsrA7oyQw/AAAAAAAAAAI/AAAAAAAAAAc/PW0qJYFKbUY/s64/photo.jpg",
      "userId": "02808478473948384287"
     },
     "user_tz": -480
    },
    "id": "BplV1S9vCvXy",
    "outputId": "064ba387-36cc-4067-b32b-de7f2c86fa75"
   },
   "outputs": [
    {
     "name": "stderr",
     "output_type": "stream",
     "text": [
      "594358it [01:30, 6580.10it/s]\n"
     ]
    },
    {
     "name": "stdout",
     "output_type": "stream",
     "text": [
      "mode tfidf...\n",
      "OD distance done.\n"
     ]
    }
   ],
   "source": [
    "data, plan_features = feature_engineering(data)"
   ]
  },
  {
   "cell_type": "code",
   "execution_count": 166,
   "metadata": {
    "ExecuteTime": {
     "end_time": "2019-05-06T15:50:13.945377Z",
     "start_time": "2019-05-06T15:50:13.938881Z"
    }
   },
   "outputs": [
    {
     "data": {
      "text/plain": [
       "array(['click_mode', 'click_time', 'd', 'o', 'pid', 'plan_time', 'plans',\n",
       "       'req_time', 'sid', 'svd_fea_0', 'svd_fea_1', 'svd_fea_2',\n",
       "       'svd_fea_3', 'svd_fea_4', 'svd_fea_5', 'svd_fea_6', 'svd_fea_7',\n",
       "       'svd_fea_8', 'svd_fea_9', 'svd_fea_10', 'svd_fea_11', 'svd_fea_12',\n",
       "       'svd_fea_13', 'svd_fea_14', 'svd_fea_15', 'svd_fea_16',\n",
       "       'svd_fea_17', 'svd_fea_18', 'svd_fea_19', 'time_diff',\n",
       "       'plans_json', 'mode_feas_0', 'mode_feas_1', 'mode_feas_2',\n",
       "       'mode_feas_3', 'mode_feas_4', 'mode_feas_5', 'mode_feas_6',\n",
       "       'mode_feas_7', 'mode_feas_8', 'mode_feas_9', 'mode_feas_10',\n",
       "       'mode_feas_11', 'max_dist', 'min_dist', 'mean_dist', 'std_dist',\n",
       "       'max_price', 'min_price', 'mean_price', 'std_price', 'max_eta',\n",
       "       'min_eta', 'mean_eta', 'std_eta', 'max_dist_mode', 'min_dist_mode',\n",
       "       'max_price_mode', 'min_price_mode', 'max_eta_mode', 'min_eta_mode',\n",
       "       'first_mode', 'svd_mode_0', 'svd_mode_1', 'svd_mode_2',\n",
       "       'svd_mode_3', 'svd_mode_4', 'svd_mode_5', 'svd_mode_6',\n",
       "       'svd_mode_7', 'svd_mode_8', 'svd_mode_9', 'day_of_week',\n",
       "       'req_date', 'req_hour', 'req_minute', 'if_holiday', 'o_lng',\n",
       "       'o_lat', 'd_lng', 'd_lat', 'od_manhattan_distance'], dtype=object)"
      ]
     },
     "execution_count": 166,
     "metadata": {},
     "output_type": "execute_result"
    }
   ],
   "source": [
    "data.columns.values"
   ]
  },
  {
   "cell_type": "markdown",
   "metadata": {},
   "source": [
    "# Reduce memory"
   ]
  },
  {
   "cell_type": "code",
   "execution_count": 167,
   "metadata": {
    "ExecuteTime": {
     "end_time": "2019-05-06T15:50:22.650832Z",
     "start_time": "2019-05-06T15:50:22.641810Z"
    }
   },
   "outputs": [],
   "source": [
    "def mem_usage(pandas_obj):\n",
    "    if isinstance(pandas_obj, pd.DataFrame):\n",
    "        usage_b = pandas_obj.memory_usage(deep=True).sum()\n",
    "    else:  # 我们假设这不是一个df，而是一个 Series\n",
    "        usage_b = pandas_obj.memory_usage(deep=True)\n",
    "    usage_mb = usage_b / 1024 ** 2  # 将 bytes 转化成 megabytes\n",
    "    return \"{:03.2f} MB\".format(usage_mb)"
   ]
  },
  {
   "cell_type": "code",
   "execution_count": 168,
   "metadata": {
    "ExecuteTime": {
     "end_time": "2019-05-06T15:50:40.088828Z",
     "start_time": "2019-05-06T15:50:24.578264Z"
    }
   },
   "outputs": [
    {
     "name": "stdout",
     "output_type": "stream",
     "text": [
      "312.89 MB\n",
      "158.71 MB\n",
      "795.19 MB\n",
      "641.01 MB\n"
     ]
    }
   ],
   "source": [
    "data_float = data.select_dtypes(include=['float'])\n",
    "converted_float = data_float.apply(pd.to_numeric, downcast='float')\n",
    "\n",
    "print(mem_usage(data_float))\n",
    "print(mem_usage(converted_float))\n",
    "\n",
    "optimized_data = data.copy()\n",
    "\n",
    "optimized_data[converted_float.columns] = converted_float\n",
    "\n",
    "print(mem_usage(data))\n",
    "print(mem_usage(optimized_data))\n",
    "data = optimized_data"
   ]
  },
  {
   "cell_type": "markdown",
   "metadata": {
    "ExecuteTime": {
     "end_time": "2019-05-03T04:22:32.301017Z",
     "start_time": "2019-05-03T04:22:32.296715Z"
    }
   },
   "source": [
    "# Add Centroid distance"
   ]
  },
  {
   "cell_type": "code",
   "execution_count": 169,
   "metadata": {
    "ExecuteTime": {
     "end_time": "2019-05-06T15:50:45.830416Z",
     "start_time": "2019-05-06T15:50:45.391948Z"
    }
   },
   "outputs": [
    {
     "data": {
      "text/plain": [
       "(6525, 1)"
      ]
     },
     "execution_count": 169,
     "metadata": {},
     "output_type": "execute_result"
    }
   ],
   "source": [
    "o_co = data[['o']]\n",
    "d_co = data[['d']]\n",
    "\n",
    "o_co.columns = ['co']\n",
    "d_co.columns = ['co']\n",
    "\n",
    "all_co = pd.concat([d_co, o_co]).drop_duplicates()\n",
    "all_co.shape"
   ]
  },
  {
   "cell_type": "code",
   "execution_count": 170,
   "metadata": {
    "ExecuteTime": {
     "end_time": "2019-05-06T15:50:53.624032Z",
     "start_time": "2019-05-06T15:50:47.796158Z"
    }
   },
   "outputs": [],
   "source": [
    "all_co['lng'] = all_co['co'].apply(lambda x: float(x.split(',')[0]))\n",
    "all_co['lat'] = all_co['co'].apply(lambda x: float(x.split(',')[1]))"
   ]
  },
  {
   "cell_type": "code",
   "execution_count": 171,
   "metadata": {
    "ExecuteTime": {
     "end_time": "2019-05-06T15:50:56.404210Z",
     "start_time": "2019-05-06T15:50:56.393795Z"
    }
   },
   "outputs": [],
   "source": [
    "lng_mean = all_co['lng'].mean()\n",
    "lat_mean = all_co['lat'].mean()\n",
    "\n",
    "lng_mode = all_co['lng'].mode()[0]\n",
    "lat_mode = all_co['lat'].mode()[0]"
   ]
  },
  {
   "cell_type": "code",
   "execution_count": 172,
   "metadata": {
    "ExecuteTime": {
     "end_time": "2019-05-06T15:50:58.105023Z",
     "start_time": "2019-05-06T15:50:58.075244Z"
    }
   },
   "outputs": [],
   "source": [
    "data['o_main_centroid_mean_dis'] = abs(\n",
    "    data['o_lng']-lng_mean)+abs(data['o_lat']-lat_mean)\n",
    "data['d_main_centroid_mean_dis'] = abs(\n",
    "    data['d_lng']-lng_mean)+abs(data['d_lat']-lat_mean)\n",
    "\n",
    "data['o_main_centroid_mode_dis'] = abs(\n",
    "    data['o_lng']-lng_mean)+abs(data['o_lat']-lat_mean)\n",
    "data['d_main_centroid_mode_dis'] = abs(\n",
    "    data['d_lng']-lng_mode)+abs(data['d_lat']-lat_mode)"
   ]
  },
  {
   "cell_type": "code",
   "execution_count": 173,
   "metadata": {
    "ExecuteTime": {
     "end_time": "2019-05-06T15:51:00.359805Z",
     "start_time": "2019-05-06T15:50:59.703321Z"
    }
   },
   "outputs": [
    {
     "data": {
      "text/plain": [
       "6525"
      ]
     },
     "execution_count": 173,
     "metadata": {},
     "output_type": "execute_result"
    }
   ],
   "source": [
    "co_o=data[['o']]\n",
    "co_d=data[['d']]\n",
    "\n",
    "co_o.columns=['co']\n",
    "co_d.columns=['co']\n",
    "\n",
    "len(pd.concat([co_d,co_o])['co'].unique())"
   ]
  },
  {
   "cell_type": "markdown",
   "metadata": {
    "ExecuteTime": {
     "start_time": "2019-05-01T16:46:57.236Z"
    }
   },
   "source": [
    "# Add station distance feature"
   ]
  },
  {
   "cell_type": "code",
   "execution_count": 174,
   "metadata": {
    "ExecuteTime": {
     "end_time": "2019-05-06T15:57:46.176671Z",
     "start_time": "2019-05-06T15:51:01.961525Z"
    }
   },
   "outputs": [
    {
     "name": "stderr",
     "output_type": "stream",
     "text": [
      "100%|██████████| 6525/6525 [06:44<00:00, 16.15it/s]\n"
     ]
    }
   ],
   "source": [
    "data['o_nearest_dis'] = np.nan\n",
    "data['d_nearest_dis'] = np.nan\n",
    "\n",
    "\n",
    "co_o = data[['o']]\n",
    "co_d = data[['d']]\n",
    "\n",
    "co_o.columns = ['co']\n",
    "co_d.columns = ['co']\n",
    "\n",
    "all_co = pd.concat([co_d, co_o])['co'].unique()\n",
    "\n",
    "for co in tqdm(all_co):\n",
    "    lg, la = co.split(',')\n",
    "    min_dis = (abs(subwayinfo['station_longitude']-float(lg)) +\n",
    "               abs(subwayinfo['station_latitude']-float(la))).min()\n",
    "    data.loc[(data['o'] == co), 'o_nearest_dis'] = min_dis\n",
    "    data.loc[(data['d'] == co), 'd_nearest_dis'] = min_dis"
   ]
  },
  {
   "cell_type": "markdown",
   "metadata": {},
   "source": [
    "# Weather features"
   ]
  },
  {
   "cell_type": "code",
   "execution_count": 176,
   "metadata": {
    "ExecuteTime": {
     "end_time": "2019-05-06T15:58:18.696826Z",
     "start_time": "2019-05-06T15:58:18.692463Z"
    }
   },
   "outputs": [],
   "source": [
    "weatherinfo.rename(columns={'date': 'req_date'}, inplace=True)"
   ]
  },
  {
   "cell_type": "code",
   "execution_count": 177,
   "metadata": {
    "ExecuteTime": {
     "end_time": "2019-05-06T15:58:22.486128Z",
     "start_time": "2019-05-06T15:58:20.349960Z"
    }
   },
   "outputs": [],
   "source": [
    "data = data.merge(weatherinfo, on='req_date', how='left')"
   ]
  },
  {
   "cell_type": "code",
   "execution_count": 134,
   "metadata": {
    "ExecuteTime": {
     "end_time": "2019-05-06T14:43:18.523036Z",
     "start_time": "2019-05-06T14:43:18.518023Z"
    }
   },
   "outputs": [
    {
     "data": {
      "text/plain": [
       "array(['req_date', 'max_temp', 'min_temp', 'weather', 'wind', 'weather_q',\n",
       "       'weather_dy', 'weather_dyq', 'weather_qdy', 'weather_xq',\n",
       "       'weather_xydy'], dtype=object)"
      ]
     },
     "execution_count": 134,
     "metadata": {},
     "output_type": "execute_result"
    }
   ],
   "source": [
    "weatherinfo.columns.values"
   ]
  },
  {
   "cell_type": "code",
   "execution_count": 178,
   "metadata": {
    "ExecuteTime": {
     "end_time": "2019-05-06T15:58:24.469677Z",
     "start_time": "2019-05-06T15:58:24.463903Z"
    }
   },
   "outputs": [
    {
     "data": {
      "text/plain": [
       "array(['click_mode', 'click_time', 'd', 'o', 'pid', 'plan_time', 'plans',\n",
       "       'req_time', 'sid', 'svd_fea_0', 'svd_fea_1', 'svd_fea_2',\n",
       "       'svd_fea_3', 'svd_fea_4', 'svd_fea_5', 'svd_fea_6', 'svd_fea_7',\n",
       "       'svd_fea_8', 'svd_fea_9', 'svd_fea_10', 'svd_fea_11', 'svd_fea_12',\n",
       "       'svd_fea_13', 'svd_fea_14', 'svd_fea_15', 'svd_fea_16',\n",
       "       'svd_fea_17', 'svd_fea_18', 'svd_fea_19', 'time_diff',\n",
       "       'plans_json', 'mode_feas_0', 'mode_feas_1', 'mode_feas_2',\n",
       "       'mode_feas_3', 'mode_feas_4', 'mode_feas_5', 'mode_feas_6',\n",
       "       'mode_feas_7', 'mode_feas_8', 'mode_feas_9', 'mode_feas_10',\n",
       "       'mode_feas_11', 'max_dist', 'min_dist', 'mean_dist', 'std_dist',\n",
       "       'max_price', 'min_price', 'mean_price', 'std_price', 'max_eta',\n",
       "       'min_eta', 'mean_eta', 'std_eta', 'max_dist_mode', 'min_dist_mode',\n",
       "       'max_price_mode', 'min_price_mode', 'max_eta_mode', 'min_eta_mode',\n",
       "       'first_mode', 'svd_mode_0', 'svd_mode_1', 'svd_mode_2',\n",
       "       'svd_mode_3', 'svd_mode_4', 'svd_mode_5', 'svd_mode_6',\n",
       "       'svd_mode_7', 'svd_mode_8', 'svd_mode_9', 'day_of_week',\n",
       "       'req_date', 'req_hour', 'req_minute', 'if_holiday', 'o_lng',\n",
       "       'o_lat', 'd_lng', 'd_lat', 'od_manhattan_distance',\n",
       "       'o_main_centroid_mean_dis', 'd_main_centroid_mean_dis',\n",
       "       'o_main_centroid_mode_dis', 'd_main_centroid_mode_dis',\n",
       "       'o_nearest_dis', 'd_nearest_dis', 'max_temp', 'min_temp',\n",
       "       'weather', 'wind', 'weather_q', 'weather_dy', 'weather_dyq',\n",
       "       'weather_qdy', 'weather_xq', 'weather_xydy'], dtype=object)"
      ]
     },
     "execution_count": 178,
     "metadata": {},
     "output_type": "execute_result"
    }
   ],
   "source": [
    "data.columns.values"
   ]
  },
  {
   "cell_type": "markdown",
   "metadata": {},
   "source": [
    "# Select features"
   ]
  },
  {
   "cell_type": "code",
   "execution_count": 200,
   "metadata": {
    "ExecuteTime": {
     "end_time": "2019-05-06T16:22:30.303544Z",
     "start_time": "2019-05-06T16:22:30.292402Z"
    },
    "colab": {},
    "colab_type": "code",
    "id": "rsLlF6-UCvXz"
   },
   "outputs": [
    {
     "name": "stdout",
     "output_type": "stream",
     "text": [
      "Got 92 features\n"
     ]
    },
    {
     "data": {
      "text/plain": [
       "['o_lng',\n",
       " 'o_lat',\n",
       " 'd_lng',\n",
       " 'd_lat',\n",
       " 'o_main_centroid_mean_dis',\n",
       " 'd_main_centroid_mean_dis',\n",
       " 'o_main_centroid_mode_dis',\n",
       " 'd_main_centroid_mode_dis',\n",
       " 'od_manhattan_distance',\n",
       " 'o_nearest_dis',\n",
       " 'd_nearest_dis',\n",
       " 'svd_fea_0',\n",
       " 'svd_fea_1',\n",
       " 'svd_fea_2',\n",
       " 'svd_fea_3',\n",
       " 'svd_fea_4',\n",
       " 'svd_fea_5',\n",
       " 'svd_fea_6',\n",
       " 'svd_fea_7',\n",
       " 'svd_fea_8',\n",
       " 'svd_fea_9',\n",
       " 'svd_fea_10',\n",
       " 'svd_fea_11',\n",
       " 'svd_fea_12',\n",
       " 'svd_fea_13',\n",
       " 'svd_fea_14',\n",
       " 'svd_fea_15',\n",
       " 'svd_fea_16',\n",
       " 'svd_fea_17',\n",
       " 'svd_fea_18',\n",
       " 'svd_fea_19',\n",
       " 'mode_feas_0',\n",
       " 'mode_feas_1',\n",
       " 'mode_feas_2',\n",
       " 'mode_feas_3',\n",
       " 'mode_feas_4',\n",
       " 'mode_feas_5',\n",
       " 'mode_feas_6',\n",
       " 'mode_feas_7',\n",
       " 'mode_feas_8',\n",
       " 'mode_feas_9',\n",
       " 'mode_feas_10',\n",
       " 'mode_feas_11',\n",
       " 'max_dist',\n",
       " 'min_dist',\n",
       " 'mean_dist',\n",
       " 'std_dist',\n",
       " 'max_price',\n",
       " 'min_price',\n",
       " 'mean_price',\n",
       " 'std_price',\n",
       " 'max_eta',\n",
       " 'min_eta',\n",
       " 'mean_eta',\n",
       " 'std_eta',\n",
       " 'max_dist_mode',\n",
       " 'min_dist_mode',\n",
       " 'max_price_mode',\n",
       " 'min_price_mode',\n",
       " 'max_eta_mode',\n",
       " 'min_eta_mode',\n",
       " 'first_mode',\n",
       " 'svd_mode_0',\n",
       " 'svd_mode_1',\n",
       " 'svd_mode_2',\n",
       " 'svd_mode_3',\n",
       " 'svd_mode_4',\n",
       " 'svd_mode_5',\n",
       " 'svd_mode_6',\n",
       " 'svd_mode_7',\n",
       " 'svd_mode_8',\n",
       " 'svd_mode_9',\n",
       " 'if_holiday',\n",
       " 'pid',\n",
       " 'max_dist_mode',\n",
       " 'min_dist_mode',\n",
       " 'max_price_mode',\n",
       " 'min_price_mode',\n",
       " 'max_eta_mode',\n",
       " 'min_eta_mode',\n",
       " 'first_mode',\n",
       " 'day_of_week',\n",
       " 'req_hour',\n",
       " 'max_temp',\n",
       " 'min_temp',\n",
       " 'wind',\n",
       " 'weather_q',\n",
       " 'weather_dy',\n",
       " 'weather_dyq',\n",
       " 'weather_qdy',\n",
       " 'weather_xq',\n",
       " 'weather_xydy']"
      ]
     },
     "execution_count": 200,
     "metadata": {},
     "output_type": "execute_result"
    }
   ],
   "source": [
    "# profile_feature = ['p' + str(i) for i in range(66)]\n",
    "# profile_feature = ['svd_fea_0', 'svd_fea_1', 'svd_fea_2',\n",
    "#                    'svd_fea_3', 'svd_fea_4', 'svd_fea_5', 'svd_fea_6', 'svd_fea_7',\n",
    "#                    'svd_fea_8', 'svd_fea_9', 'svd_fea_10', 'svd_fea_11', 'svd_fea_12',\n",
    "#                    'svd_fea_13', 'svd_fea_14', 'svd_fea_15', 'svd_fea_16',\n",
    "#                    'svd_fea_17', 'svd_fea_18', 'svd_fea_19']\n",
    "\n",
    "profile_feature = ['svd_fea_'+str(i) for i in range(0, 20)]\n",
    "\n",
    "weather_feature = ['max_temp', 'min_temp', 'wind', 'weather_q',\n",
    "                   'weather_dy', 'weather_dyq', 'weather_qdy', 'weather_xq', 'weather_xydy']\n",
    "\n",
    "# origin_num_feature = ['o_lng', 'o_lat', 'd_lng', 'd_lat', 'od_manhattan_distance', 'o_nearest_dis', 'd_nearest_dis'] + profile_feature # 2: 0.687966; 2.2: 0.687717\n",
    "\n",
    "# origin_num_feature = ['o_lng', 'o_lat', 'd_lng', 'd_lat', 'o_main_centroid_mean_dis',\n",
    "#                       'd_main_centroid_mean_dis', 'o_main_centroid_mode_dis', 'd_main_centroid_mode_dis',\n",
    "#                       'od_manhattan_distance', 'o_nearest_dis', 'd_nearest_dis', 'req_month'] + profile_feature  # 3: 0.6875\n",
    "\n",
    "# origin_num_feature = ['o_lng', 'o_lat', 'd_lng', 'd_lat', 'od_manhattan_distance', 'o_nearest_dis', 'd_nearest_dis','req_month'] + profile_feature # 4: 0 .687618\n",
    "\n",
    "\n",
    "# origin_num_feature = ['o_lng', 'o_lat', 'd_lng', 'd_lat', 'o_main_centroid_mode_dis', 'd_main_centroid_mode_dis',\n",
    "#                       'od_manhattan_distance', 'o_nearest_dis', 'd_nearest_dis', 'req_month'] + profile_feature # 5: 0.687256\n",
    "\n",
    "\n",
    "# origin_num_feature = ['o_lng', 'o_lat', 'd_lng', 'd_lat', 'o_main_centroid_mode_dis', 'd_main_centroid_mode_dis',\n",
    "#                       'od_manhattan_distance', 'o_nearest_dis', 'd_nearest_dis'] + profile_feature # 6: 0.68773\n",
    "origin_num_feature = ['o_lng', 'o_lat', 'd_lng', 'd_lat', 'o_main_centroid_mean_dis',\n",
    "                      'd_main_centroid_mean_dis', 'o_main_centroid_mode_dis', 'd_main_centroid_mode_dis',\n",
    "                      'od_manhattan_distance', 'o_nearest_dis', 'd_nearest_dis'] + profile_feature\n",
    "\n",
    "cate_feature = ['pid','max_dist_mode', 'min_dist_mode', 'max_price_mode',\n",
    "                'min_price_mode', 'max_eta_mode', 'min_eta_mode', 'first_mode', 'day_of_week', 'req_hour']\n",
    "\n",
    "\n",
    "time_feature = ['if_holiday']\n",
    "feature = origin_num_feature + plan_features + \\\n",
    "    time_feature+cate_feature+weather_feature\n",
    "print('Got %s features' % str(len(feature)))\n",
    "feature"
   ]
  },
  {
   "cell_type": "markdown",
   "metadata": {},
   "source": [
    "# Fill nan"
   ]
  },
  {
   "cell_type": "code",
   "execution_count": null,
   "metadata": {
    "ExecuteTime": {
     "end_time": "2019-05-03T19:14:16.560271Z",
     "start_time": "2019-05-03T19:11:26.265Z"
    }
   },
   "outputs": [],
   "source": [
    "# for p in profile_feature:\n",
    "#     data[p].fillna(data[p].mode()[0], inplace=True)"
   ]
  },
  {
   "cell_type": "code",
   "execution_count": 190,
   "metadata": {
    "ExecuteTime": {
     "end_time": "2019-05-06T16:02:32.970374Z",
     "start_time": "2019-05-06T16:02:32.873836Z"
    }
   },
   "outputs": [],
   "source": []
  },
  {
   "cell_type": "markdown",
   "metadata": {
    "colab_type": "text",
    "id": "kYh6IcyBCvX1"
   },
   "source": [
    "# Data split"
   ]
  },
  {
   "cell_type": "code",
   "execution_count": 201,
   "metadata": {
    "ExecuteTime": {
     "end_time": "2019-05-06T16:22:35.269916Z",
     "start_time": "2019-05-06T16:22:33.234756Z"
    },
    "colab": {},
    "colab_type": "code",
    "id": "e_GiAJWUCvX1"
   },
   "outputs": [],
   "source": [
    "train_index = (data.req_time < '2018-11-23')\n",
    "train_x = data[train_index][feature].reset_index(drop=True)\n",
    "train_y = data[train_index].click_mode.reset_index(drop=True)\n",
    "\n",
    "valid_index = (data.req_time > '2018-11-23') & (data.req_time < '2018-12-01')\n",
    "valid_x = data[valid_index][feature].reset_index(drop=True)\n",
    "valid_y = data[valid_index].click_mode.reset_index(drop=True)\n",
    "\n",
    "\n",
    "all_index = (data.req_time < '2018-12-01')\n",
    "all_train_x = data[all_index][feature].reset_index(drop=True)\n",
    "all_train_y = data[all_index].click_mode.reset_index(drop=True)\n",
    "\n",
    "test_index = (data.req_time > '2018-12-01')\n",
    "test_x = data[test_index][feature].reset_index(drop=True)"
   ]
  },
  {
   "cell_type": "markdown",
   "metadata": {
    "colab_type": "text",
    "id": "J7lCjcXYCvX3"
   },
   "source": [
    "# Train"
   ]
  },
  {
   "cell_type": "code",
   "execution_count": 185,
   "metadata": {
    "ExecuteTime": {
     "end_time": "2019-05-06T16:01:09.841026Z",
     "start_time": "2019-05-06T16:01:09.835880Z"
    },
    "colab": {},
    "colab_type": "code",
    "id": "dmVtqDJHCvXl"
   },
   "outputs": [],
   "source": [
    "def f1_weighted(labels, preds):\n",
    "    preds = np.argmax(preds.reshape(12, -1), axis=0)\n",
    "    score = f1_score(y_true=labels, y_pred=preds, average='weighted')\n",
    "    return 'f1_weighted', score, True"
   ]
  },
  {
   "cell_type": "code",
   "execution_count": 205,
   "metadata": {
    "ExecuteTime": {
     "end_time": "2019-05-06T16:26:18.209596Z",
     "start_time": "2019-05-06T16:26:18.204889Z"
    },
    "colab": {},
    "colab_type": "code",
    "id": "IaN5aeUZCvX4"
   },
   "outputs": [],
   "source": [
    "lgb_model = lgb.LGBMClassifier(boosting_type=\"gbdt\",\n",
    "                               num_leaves=31,\n",
    "                               reg_alpha=10,\n",
    "                               reg_lambda=0.01,\n",
    "                               max_depth=-1,\n",
    "                               n_estimators=2000,\n",
    "                               objective='multiclass',\n",
    "                               subsample=0.8,\n",
    "                               colsample_bytree=0.8,\n",
    "                               subsample_freq=1,\n",
    "                               min_child_samples=50,\n",
    "                               learning_rate=0.05,\n",
    "                               random_state=2019,\n",
    "                               metric=\"multiclass\",\n",
    "                               \n",
    "#                                 'num_class': 12,\n",
    "#                                 'seed': 2019,\n",
    "#                                 'feature_fraction': 0.8,\n",
    "#                                 'bagging_fraction': 0.8,\n",
    "#                                 'bagging_freq': 4,\n",
    "                               n_jobs=-1)\n",
    "# 2: 0.687966\n",
    "# 3: 0.687585\n",
    "# 4: 0.687659\n",
    "# 5: 0.687256"
   ]
  },
  {
   "cell_type": "code",
   "execution_count": 206,
   "metadata": {
    "ExecuteTime": {
     "end_time": "2019-05-06T16:28:53.852297Z",
     "start_time": "2019-05-06T16:26:19.868621Z"
    }
   },
   "outputs": [
    {
     "name": "stdout",
     "output_type": "stream",
     "text": [
      "Training until validation scores don't improve for 100 rounds.\n",
      "[10]\tvalid_0's multi_logloss: 1.48084\tvalid_0's f1_weighted: 0.625193\n",
      "[20]\tvalid_0's multi_logloss: 1.24054\tvalid_0's f1_weighted: 0.67413\n",
      "[30]\tvalid_0's multi_logloss: 1.10809\tvalid_0's f1_weighted: 0.681765\n",
      "[40]\tvalid_0's multi_logloss: 1.0289\tvalid_0's f1_weighted: 0.683568\n",
      "[50]\tvalid_0's multi_logloss: 0.979259\tvalid_0's f1_weighted: 0.684467\n",
      "[60]\tvalid_0's multi_logloss: 0.946293\tvalid_0's f1_weighted: 0.685105\n",
      "[70]\tvalid_0's multi_logloss: 0.923875\tvalid_0's f1_weighted: 0.685671\n",
      "[80]\tvalid_0's multi_logloss: 0.907985\tvalid_0's f1_weighted: 0.685951\n",
      "[90]\tvalid_0's multi_logloss: 0.896529\tvalid_0's f1_weighted: 0.686133\n",
      "[100]\tvalid_0's multi_logloss: 0.888157\tvalid_0's f1_weighted: 0.686393\n",
      "[110]\tvalid_0's multi_logloss: 0.881937\tvalid_0's f1_weighted: 0.686454\n",
      "[120]\tvalid_0's multi_logloss: 0.877211\tvalid_0's f1_weighted: 0.686573\n",
      "[130]\tvalid_0's multi_logloss: 0.873689\tvalid_0's f1_weighted: 0.686858\n",
      "[140]\tvalid_0's multi_logloss: 0.871058\tvalid_0's f1_weighted: 0.687073\n",
      "[150]\tvalid_0's multi_logloss: 0.869152\tvalid_0's f1_weighted: 0.687042\n",
      "[160]\tvalid_0's multi_logloss: 0.867663\tvalid_0's f1_weighted: 0.687312\n",
      "[170]\tvalid_0's multi_logloss: 0.866559\tvalid_0's f1_weighted: 0.687324\n",
      "[180]\tvalid_0's multi_logloss: 0.865623\tvalid_0's f1_weighted: 0.687308\n",
      "[190]\tvalid_0's multi_logloss: 0.865104\tvalid_0's f1_weighted: 0.687246\n",
      "[200]\tvalid_0's multi_logloss: 0.864723\tvalid_0's f1_weighted: 0.687214\n",
      "[210]\tvalid_0's multi_logloss: 0.86479\tvalid_0's f1_weighted: 0.687124\n",
      "[220]\tvalid_0's multi_logloss: 0.864699\tvalid_0's f1_weighted: 0.686754\n",
      "[230]\tvalid_0's multi_logloss: 0.864597\tvalid_0's f1_weighted: 0.686748\n",
      "[240]\tvalid_0's multi_logloss: 0.864686\tvalid_0's f1_weighted: 0.686629\n",
      "[250]\tvalid_0's multi_logloss: 0.864869\tvalid_0's f1_weighted: 0.686505\n",
      "[260]\tvalid_0's multi_logloss: 0.865011\tvalid_0's f1_weighted: 0.686535\n",
      "[270]\tvalid_0's multi_logloss: 0.865183\tvalid_0's f1_weighted: 0.686629\n",
      "[280]\tvalid_0's multi_logloss: 0.865483\tvalid_0's f1_weighted: 0.686665\n",
      "Early stopping, best iteration is:\n",
      "[185]\tvalid_0's multi_logloss: 0.865369\tvalid_0's f1_weighted: 0.687525\n"
     ]
    },
    {
     "data": {
      "text/plain": [
       "LGBMClassifier(boosting_type='gbdt', class_weight=None, colsample_bytree=0.8,\n",
       "        importance_type='split', learning_rate=0.05, max_depth=-1,\n",
       "        metric='multiclass', min_child_samples=50, min_child_weight=0.001,\n",
       "        min_split_gain=0.0, n_estimators=2000, n_jobs=-1, num_leaves=31,\n",
       "        objective='multiclass', random_state=2019, reg_alpha=10,\n",
       "        reg_lambda=0.01, silent=True, subsample=0.8,\n",
       "        subsample_for_bin=200000, subsample_freq=1)"
      ]
     },
     "execution_count": 206,
     "metadata": {},
     "output_type": "execute_result"
    }
   ],
   "source": [
    "eval_set = [(valid_x, valid_y)]\n",
    "lgb_model.fit(train_x, train_y, eval_set=eval_set, eval_metric=f1_weighted,\n",
    "              categorical_feature=cate_feature, verbose=10, early_stopping_rounds=100)"
   ]
  },
  {
   "cell_type": "markdown",
   "metadata": {
    "colab_type": "text",
    "id": "sDIviFYVCvX6"
   },
   "source": [
    "# Feature importance"
   ]
  },
  {
   "cell_type": "code",
   "execution_count": 207,
   "metadata": {
    "ExecuteTime": {
     "end_time": "2019-05-06T16:30:06.643686Z",
     "start_time": "2019-05-06T16:30:06.620296Z"
    },
    "colab": {},
    "colab_type": "code",
    "id": "vXy7U40ECvX7"
   },
   "outputs": [
    {
     "data": {
      "text/html": [
       "<div>\n",
       "<style scoped>\n",
       "    .dataframe tbody tr th:only-of-type {\n",
       "        vertical-align: middle;\n",
       "    }\n",
       "\n",
       "    .dataframe tbody tr th {\n",
       "        vertical-align: top;\n",
       "    }\n",
       "\n",
       "    .dataframe thead th {\n",
       "        text-align: right;\n",
       "    }\n",
       "</style>\n",
       "<table border=\"1\" class=\"dataframe\">\n",
       "  <thead>\n",
       "    <tr style=\"text-align: right;\">\n",
       "      <th></th>\n",
       "      <th>features</th>\n",
       "      <th>importance</th>\n",
       "    </tr>\n",
       "  </thead>\n",
       "  <tbody>\n",
       "    <tr>\n",
       "      <th>73</th>\n",
       "      <td>pid</td>\n",
       "      <td>20775</td>\n",
       "    </tr>\n",
       "    <tr>\n",
       "      <th>82</th>\n",
       "      <td>req_hour</td>\n",
       "      <td>4650</td>\n",
       "    </tr>\n",
       "    <tr>\n",
       "      <th>80</th>\n",
       "      <td>first_mode</td>\n",
       "      <td>1526</td>\n",
       "    </tr>\n",
       "    <tr>\n",
       "      <th>9</th>\n",
       "      <td>o_nearest_dis</td>\n",
       "      <td>1284</td>\n",
       "    </tr>\n",
       "    <tr>\n",
       "      <th>54</th>\n",
       "      <td>std_eta</td>\n",
       "      <td>1128</td>\n",
       "    </tr>\n",
       "    <tr>\n",
       "      <th>12</th>\n",
       "      <td>svd_fea_1</td>\n",
       "      <td>1004</td>\n",
       "    </tr>\n",
       "    <tr>\n",
       "      <th>44</th>\n",
       "      <td>min_dist</td>\n",
       "      <td>955</td>\n",
       "    </tr>\n",
       "    <tr>\n",
       "      <th>64</th>\n",
       "      <td>svd_mode_2</td>\n",
       "      <td>953</td>\n",
       "    </tr>\n",
       "    <tr>\n",
       "      <th>7</th>\n",
       "      <td>d_main_centroid_mode_dis</td>\n",
       "      <td>951</td>\n",
       "    </tr>\n",
       "    <tr>\n",
       "      <th>67</th>\n",
       "      <td>svd_mode_5</td>\n",
       "      <td>905</td>\n",
       "    </tr>\n",
       "    <tr>\n",
       "      <th>4</th>\n",
       "      <td>o_main_centroid_mean_dis</td>\n",
       "      <td>882</td>\n",
       "    </tr>\n",
       "    <tr>\n",
       "      <th>18</th>\n",
       "      <td>svd_fea_7</td>\n",
       "      <td>859</td>\n",
       "    </tr>\n",
       "    <tr>\n",
       "      <th>10</th>\n",
       "      <td>d_nearest_dis</td>\n",
       "      <td>846</td>\n",
       "    </tr>\n",
       "    <tr>\n",
       "      <th>13</th>\n",
       "      <td>svd_fea_2</td>\n",
       "      <td>832</td>\n",
       "    </tr>\n",
       "    <tr>\n",
       "      <th>5</th>\n",
       "      <td>d_main_centroid_mean_dis</td>\n",
       "      <td>793</td>\n",
       "    </tr>\n",
       "    <tr>\n",
       "      <th>1</th>\n",
       "      <td>o_lat</td>\n",
       "      <td>782</td>\n",
       "    </tr>\n",
       "    <tr>\n",
       "      <th>65</th>\n",
       "      <td>svd_mode_3</td>\n",
       "      <td>765</td>\n",
       "    </tr>\n",
       "    <tr>\n",
       "      <th>0</th>\n",
       "      <td>o_lng</td>\n",
       "      <td>750</td>\n",
       "    </tr>\n",
       "    <tr>\n",
       "      <th>63</th>\n",
       "      <td>svd_mode_1</td>\n",
       "      <td>739</td>\n",
       "    </tr>\n",
       "    <tr>\n",
       "      <th>52</th>\n",
       "      <td>min_eta</td>\n",
       "      <td>737</td>\n",
       "    </tr>\n",
       "    <tr>\n",
       "      <th>71</th>\n",
       "      <td>svd_mode_9</td>\n",
       "      <td>713</td>\n",
       "    </tr>\n",
       "    <tr>\n",
       "      <th>66</th>\n",
       "      <td>svd_mode_4</td>\n",
       "      <td>711</td>\n",
       "    </tr>\n",
       "    <tr>\n",
       "      <th>2</th>\n",
       "      <td>d_lng</td>\n",
       "      <td>696</td>\n",
       "    </tr>\n",
       "    <tr>\n",
       "      <th>68</th>\n",
       "      <td>svd_mode_6</td>\n",
       "      <td>674</td>\n",
       "    </tr>\n",
       "    <tr>\n",
       "      <th>46</th>\n",
       "      <td>std_dist</td>\n",
       "      <td>662</td>\n",
       "    </tr>\n",
       "    <tr>\n",
       "      <th>83</th>\n",
       "      <td>max_temp</td>\n",
       "      <td>658</td>\n",
       "    </tr>\n",
       "    <tr>\n",
       "      <th>74</th>\n",
       "      <td>max_dist_mode</td>\n",
       "      <td>654</td>\n",
       "    </tr>\n",
       "    <tr>\n",
       "      <th>62</th>\n",
       "      <td>svd_mode_0</td>\n",
       "      <td>653</td>\n",
       "    </tr>\n",
       "    <tr>\n",
       "      <th>51</th>\n",
       "      <td>max_eta</td>\n",
       "      <td>633</td>\n",
       "    </tr>\n",
       "    <tr>\n",
       "      <th>3</th>\n",
       "      <td>d_lat</td>\n",
       "      <td>624</td>\n",
       "    </tr>\n",
       "    <tr>\n",
       "      <th>...</th>\n",
       "      <td>...</td>\n",
       "      <td>...</td>\n",
       "    </tr>\n",
       "    <tr>\n",
       "      <th>28</th>\n",
       "      <td>svd_fea_17</td>\n",
       "      <td>259</td>\n",
       "    </tr>\n",
       "    <tr>\n",
       "      <th>32</th>\n",
       "      <td>mode_feas_1</td>\n",
       "      <td>256</td>\n",
       "    </tr>\n",
       "    <tr>\n",
       "      <th>29</th>\n",
       "      <td>svd_fea_18</td>\n",
       "      <td>250</td>\n",
       "    </tr>\n",
       "    <tr>\n",
       "      <th>42</th>\n",
       "      <td>mode_feas_11</td>\n",
       "      <td>226</td>\n",
       "    </tr>\n",
       "    <tr>\n",
       "      <th>41</th>\n",
       "      <td>mode_feas_10</td>\n",
       "      <td>216</td>\n",
       "    </tr>\n",
       "    <tr>\n",
       "      <th>34</th>\n",
       "      <td>mode_feas_3</td>\n",
       "      <td>211</td>\n",
       "    </tr>\n",
       "    <tr>\n",
       "      <th>59</th>\n",
       "      <td>max_eta_mode</td>\n",
       "      <td>185</td>\n",
       "    </tr>\n",
       "    <tr>\n",
       "      <th>37</th>\n",
       "      <td>mode_feas_6</td>\n",
       "      <td>185</td>\n",
       "    </tr>\n",
       "    <tr>\n",
       "      <th>36</th>\n",
       "      <td>mode_feas_5</td>\n",
       "      <td>178</td>\n",
       "    </tr>\n",
       "    <tr>\n",
       "      <th>6</th>\n",
       "      <td>o_main_centroid_mode_dis</td>\n",
       "      <td>177</td>\n",
       "    </tr>\n",
       "    <tr>\n",
       "      <th>38</th>\n",
       "      <td>mode_feas_7</td>\n",
       "      <td>169</td>\n",
       "    </tr>\n",
       "    <tr>\n",
       "      <th>35</th>\n",
       "      <td>mode_feas_4</td>\n",
       "      <td>168</td>\n",
       "    </tr>\n",
       "    <tr>\n",
       "      <th>39</th>\n",
       "      <td>mode_feas_8</td>\n",
       "      <td>168</td>\n",
       "    </tr>\n",
       "    <tr>\n",
       "      <th>85</th>\n",
       "      <td>wind</td>\n",
       "      <td>141</td>\n",
       "    </tr>\n",
       "    <tr>\n",
       "      <th>55</th>\n",
       "      <td>max_dist_mode</td>\n",
       "      <td>113</td>\n",
       "    </tr>\n",
       "    <tr>\n",
       "      <th>77</th>\n",
       "      <td>min_price_mode</td>\n",
       "      <td>94</td>\n",
       "    </tr>\n",
       "    <tr>\n",
       "      <th>60</th>\n",
       "      <td>min_eta_mode</td>\n",
       "      <td>82</td>\n",
       "    </tr>\n",
       "    <tr>\n",
       "      <th>31</th>\n",
       "      <td>mode_feas_0</td>\n",
       "      <td>74</td>\n",
       "    </tr>\n",
       "    <tr>\n",
       "      <th>76</th>\n",
       "      <td>max_price_mode</td>\n",
       "      <td>69</td>\n",
       "    </tr>\n",
       "    <tr>\n",
       "      <th>56</th>\n",
       "      <td>min_dist_mode</td>\n",
       "      <td>69</td>\n",
       "    </tr>\n",
       "    <tr>\n",
       "      <th>90</th>\n",
       "      <td>weather_xq</td>\n",
       "      <td>62</td>\n",
       "    </tr>\n",
       "    <tr>\n",
       "      <th>88</th>\n",
       "      <td>weather_dyq</td>\n",
       "      <td>61</td>\n",
       "    </tr>\n",
       "    <tr>\n",
       "      <th>58</th>\n",
       "      <td>min_price_mode</td>\n",
       "      <td>57</td>\n",
       "    </tr>\n",
       "    <tr>\n",
       "      <th>72</th>\n",
       "      <td>if_holiday</td>\n",
       "      <td>35</td>\n",
       "    </tr>\n",
       "    <tr>\n",
       "      <th>57</th>\n",
       "      <td>max_price_mode</td>\n",
       "      <td>31</td>\n",
       "    </tr>\n",
       "    <tr>\n",
       "      <th>86</th>\n",
       "      <td>weather_q</td>\n",
       "      <td>27</td>\n",
       "    </tr>\n",
       "    <tr>\n",
       "      <th>87</th>\n",
       "      <td>weather_dy</td>\n",
       "      <td>15</td>\n",
       "    </tr>\n",
       "    <tr>\n",
       "      <th>91</th>\n",
       "      <td>weather_xydy</td>\n",
       "      <td>11</td>\n",
       "    </tr>\n",
       "    <tr>\n",
       "      <th>89</th>\n",
       "      <td>weather_qdy</td>\n",
       "      <td>9</td>\n",
       "    </tr>\n",
       "    <tr>\n",
       "      <th>48</th>\n",
       "      <td>min_price</td>\n",
       "      <td>7</td>\n",
       "    </tr>\n",
       "  </tbody>\n",
       "</table>\n",
       "<p>92 rows × 2 columns</p>\n",
       "</div>"
      ],
      "text/plain": [
       "                    features  importance\n",
       "73                       pid       20775\n",
       "82                  req_hour        4650\n",
       "80                first_mode        1526\n",
       "9              o_nearest_dis        1284\n",
       "54                   std_eta        1128\n",
       "12                 svd_fea_1        1004\n",
       "44                  min_dist         955\n",
       "64                svd_mode_2         953\n",
       "7   d_main_centroid_mode_dis         951\n",
       "67                svd_mode_5         905\n",
       "4   o_main_centroid_mean_dis         882\n",
       "18                 svd_fea_7         859\n",
       "10             d_nearest_dis         846\n",
       "13                 svd_fea_2         832\n",
       "5   d_main_centroid_mean_dis         793\n",
       "1                      o_lat         782\n",
       "65                svd_mode_3         765\n",
       "0                      o_lng         750\n",
       "63                svd_mode_1         739\n",
       "52                   min_eta         737\n",
       "71                svd_mode_9         713\n",
       "66                svd_mode_4         711\n",
       "2                      d_lng         696\n",
       "68                svd_mode_6         674\n",
       "46                  std_dist         662\n",
       "83                  max_temp         658\n",
       "74             max_dist_mode         654\n",
       "62                svd_mode_0         653\n",
       "51                   max_eta         633\n",
       "3                      d_lat         624\n",
       "..                       ...         ...\n",
       "28                svd_fea_17         259\n",
       "32               mode_feas_1         256\n",
       "29                svd_fea_18         250\n",
       "42              mode_feas_11         226\n",
       "41              mode_feas_10         216\n",
       "34               mode_feas_3         211\n",
       "59              max_eta_mode         185\n",
       "37               mode_feas_6         185\n",
       "36               mode_feas_5         178\n",
       "6   o_main_centroid_mode_dis         177\n",
       "38               mode_feas_7         169\n",
       "35               mode_feas_4         168\n",
       "39               mode_feas_8         168\n",
       "85                      wind         141\n",
       "55             max_dist_mode         113\n",
       "77            min_price_mode          94\n",
       "60              min_eta_mode          82\n",
       "31               mode_feas_0          74\n",
       "76            max_price_mode          69\n",
       "56             min_dist_mode          69\n",
       "90                weather_xq          62\n",
       "88               weather_dyq          61\n",
       "58            min_price_mode          57\n",
       "72                if_holiday          35\n",
       "57            max_price_mode          31\n",
       "86                 weather_q          27\n",
       "87                weather_dy          15\n",
       "91              weather_xydy          11\n",
       "89               weather_qdy           9\n",
       "48                 min_price           7\n",
       "\n",
       "[92 rows x 2 columns]"
      ]
     },
     "execution_count": 207,
     "metadata": {},
     "output_type": "execute_result"
    }
   ],
   "source": [
    "imp = pd.DataFrame()\n",
    "imp['features'] = feature\n",
    "imp['importance'] = lgb_model.feature_importances_\n",
    "imp = imp.sort_values('importance', ascending=False)\n",
    "imp"
   ]
  },
  {
   "cell_type": "code",
   "execution_count": 208,
   "metadata": {
    "ExecuteTime": {
     "end_time": "2019-05-06T16:30:22.470029Z",
     "start_time": "2019-05-06T16:30:17.850529Z"
    }
   },
   "outputs": [
    {
     "data": {
      "image/png": "[encoded data removed]",
      "text/plain": [
       "<Figure size 1440x7200 with 1 Axes>"
      ]
     },
     "metadata": {
      "needs_background": "light"
     },
     "output_type": "display_data"
    }
   ],
   "source": [
    "plt.figure(figsize=(20, 100))\n",
    "sns.barplot(x=\"importance\",\n",
    "            y=\"features\",\n",
    "            data=imp)\n",
    "plt.title('LightGBM Features (avg over folds)')\n",
    "plt.tight_layout()"
   ]
  },
  {
   "cell_type": "markdown",
   "metadata": {
    "colab_type": "text",
    "id": "8UAV2I0HCvX8"
   },
   "source": [
    "# Predict"
   ]
  },
  {
   "cell_type": "code",
   "execution_count": 209,
   "metadata": {
    "ExecuteTime": {
     "end_time": "2019-05-06T16:30:31.201869Z",
     "start_time": "2019-05-06T16:30:24.033298Z"
    },
    "colab": {},
    "colab_type": "code",
    "id": "6FQLgnBzCvX9"
   },
   "outputs": [
    {
     "name": "stdout",
     "output_type": "stream",
     "text": [
      "0.6875251157298713\n"
     ]
    },
    {
     "data": {
      "text/html": [
       "<div>\n",
       "<style scoped>\n",
       "    .dataframe tbody tr th:only-of-type {\n",
       "        vertical-align: middle;\n",
       "    }\n",
       "\n",
       "    .dataframe tbody tr th {\n",
       "        vertical-align: top;\n",
       "    }\n",
       "\n",
       "    .dataframe thead th {\n",
       "        text-align: right;\n",
       "    }\n",
       "</style>\n",
       "<table border=\"1\" class=\"dataframe\">\n",
       "  <thead>\n",
       "    <tr style=\"text-align: right;\">\n",
       "      <th></th>\n",
       "      <th>class_id</th>\n",
       "      <th>counts*f1_score</th>\n",
       "      <th>f1_score</th>\n",
       "      <th>precision</th>\n",
       "      <th>recall</th>\n",
       "    </tr>\n",
       "  </thead>\n",
       "  <tbody>\n",
       "    <tr>\n",
       "      <th>0</th>\n",
       "      <td>0.0</td>\n",
       "      <td>0.087414</td>\n",
       "      <td>0.346273</td>\n",
       "      <td>0.950567</td>\n",
       "      <td>0.211695</td>\n",
       "    </tr>\n",
       "    <tr>\n",
       "      <th>1</th>\n",
       "      <td>1.0</td>\n",
       "      <td>0.144617</td>\n",
       "      <td>0.683433</td>\n",
       "      <td>0.610164</td>\n",
       "      <td>0.776699</td>\n",
       "    </tr>\n",
       "    <tr>\n",
       "      <th>2</th>\n",
       "      <td>2.0</td>\n",
       "      <td>0.313324</td>\n",
       "      <td>0.901292</td>\n",
       "      <td>0.850480</td>\n",
       "      <td>0.958562</td>\n",
       "    </tr>\n",
       "    <tr>\n",
       "      <th>3</th>\n",
       "      <td>3.0</td>\n",
       "      <td>0.044598</td>\n",
       "      <td>0.104050</td>\n",
       "      <td>0.436031</td>\n",
       "      <td>0.059073</td>\n",
       "    </tr>\n",
       "    <tr>\n",
       "      <th>4</th>\n",
       "      <td>4.0</td>\n",
       "      <td>0.024453</td>\n",
       "      <td>0.017733</td>\n",
       "      <td>0.482759</td>\n",
       "      <td>0.009032</td>\n",
       "    </tr>\n",
       "    <tr>\n",
       "      <th>5</th>\n",
       "      <td>5.0</td>\n",
       "      <td>0.097574</td>\n",
       "      <td>0.840750</td>\n",
       "      <td>0.771255</td>\n",
       "      <td>0.924010</td>\n",
       "    </tr>\n",
       "    <tr>\n",
       "      <th>6</th>\n",
       "      <td>6.0</td>\n",
       "      <td>0.019893</td>\n",
       "      <td>0.143131</td>\n",
       "      <td>0.368421</td>\n",
       "      <td>0.088818</td>\n",
       "    </tr>\n",
       "    <tr>\n",
       "      <th>7</th>\n",
       "      <td>7.0</td>\n",
       "      <td>0.177920</td>\n",
       "      <td>0.787613</td>\n",
       "      <td>0.704434</td>\n",
       "      <td>0.893066</td>\n",
       "    </tr>\n",
       "    <tr>\n",
       "      <th>8</th>\n",
       "      <td>8.0</td>\n",
       "      <td>0.004559</td>\n",
       "      <td>0.241584</td>\n",
       "      <td>0.282407</td>\n",
       "      <td>0.211073</td>\n",
       "    </tr>\n",
       "    <tr>\n",
       "      <th>9</th>\n",
       "      <td>9.0</td>\n",
       "      <td>0.049931</td>\n",
       "      <td>0.514999</td>\n",
       "      <td>0.570715</td>\n",
       "      <td>0.469194</td>\n",
       "    </tr>\n",
       "    <tr>\n",
       "      <th>10</th>\n",
       "      <td>10.0</td>\n",
       "      <td>0.028475</td>\n",
       "      <td>0.555871</td>\n",
       "      <td>0.485325</td>\n",
       "      <td>0.650416</td>\n",
       "    </tr>\n",
       "    <tr>\n",
       "      <th>11</th>\n",
       "      <td>11.0</td>\n",
       "      <td>0.007241</td>\n",
       "      <td>0.454343</td>\n",
       "      <td>0.464692</td>\n",
       "      <td>0.444444</td>\n",
       "    </tr>\n",
       "  </tbody>\n",
       "</table>\n",
       "</div>"
      ],
      "text/plain": [
       "    class_id  counts*f1_score  f1_score  precision    recall\n",
       "0        0.0         0.087414  0.346273   0.950567  0.211695\n",
       "1        1.0         0.144617  0.683433   0.610164  0.776699\n",
       "2        2.0         0.313324  0.901292   0.850480  0.958562\n",
       "3        3.0         0.044598  0.104050   0.436031  0.059073\n",
       "4        4.0         0.024453  0.017733   0.482759  0.009032\n",
       "5        5.0         0.097574  0.840750   0.771255  0.924010\n",
       "6        6.0         0.019893  0.143131   0.368421  0.088818\n",
       "7        7.0         0.177920  0.787613   0.704434  0.893066\n",
       "8        8.0         0.004559  0.241584   0.282407  0.211073\n",
       "9        9.0         0.049931  0.514999   0.570715  0.469194\n",
       "10      10.0         0.028475  0.555871   0.485325  0.650416\n",
       "11      11.0         0.007241  0.454343   0.464692  0.444444"
      ]
     },
     "execution_count": 209,
     "metadata": {},
     "output_type": "execute_result"
    }
   ],
   "source": [
    "pred = lgb_model.predict(valid_x)\n",
    "df_analysis = pd.DataFrame()\n",
    "df_analysis['sid'] = data[valid_index]['sid']\n",
    "df_analysis['label'] = valid_y.values\n",
    "df_analysis['pred'] = pred\n",
    "df_analysis['label'] = df_analysis['label'].astype(int)\n",
    "dic_ = df_analysis['label'].value_counts(normalize=True)\n",
    "\n",
    "score_df = pd.DataFrame(\n",
    "    columns=['class_id', 'counts*f1_score', 'f1_score', 'precision', 'recall'])\n",
    "\n",
    "\n",
    "def get_weighted_fscore(y_pred, y_true):\n",
    "    f_score = 0\n",
    "    for i in range(12):\n",
    "        yt = y_true == i\n",
    "        yp = y_pred == i\n",
    "        f_score += dic_[i] * f1_score(y_true=yt, y_pred=yp)\n",
    "        score_df.loc[i] = [i, dic_[i], f1_score(y_true=yt, y_pred=yp), precision_score(\n",
    "            y_true=yt, y_pred=yp), recall_score(y_true=yt, y_pred=yp)]\n",
    "    print(f_score)\n",
    "    return score_df\n",
    "\n",
    "\n",
    "score_df = get_weighted_fscore(\n",
    "    y_true=df_analysis['label'], y_pred=df_analysis['pred'])\n",
    "score_df\n",
    "\n",
    "# 0.7095882458513125\n",
    "# 0.6881122981481186\n",
    "# 0.6876586015532968\n",
    "# 0.6877299824446942"
   ]
  },
  {
   "cell_type": "code",
   "execution_count": 32,
   "metadata": {
    "ExecuteTime": {
     "end_time": "2019-05-03T19:23:53.709648Z",
     "start_time": "2019-05-03T19:23:53.704702Z"
    }
   },
   "outputs": [
    {
     "data": {
      "text/plain": [
       "1.0"
      ]
     },
     "execution_count": 32,
     "metadata": {},
     "output_type": "execute_result"
    }
   ],
   "source": [
    "score_df['counts*f1_score'].sum()"
   ]
  },
  {
   "cell_type": "code",
   "execution_count": 210,
   "metadata": {
    "ExecuteTime": {
     "end_time": "2019-05-06T16:32:32.547325Z",
     "start_time": "2019-05-06T16:30:37.793289Z"
    },
    "colab": {},
    "colab_type": "code",
    "id": "xVhOpSZeCvX_"
   },
   "outputs": [
    {
     "name": "stdout",
     "output_type": "stream",
     "text": [
      "185\n",
      "fit over\n",
      "94358\n",
      "2     34094\n",
      "7     22405\n",
      "1     18024\n",
      "5     10911\n",
      "10     3444\n",
      "0      1977\n",
      "9      1943\n",
      "3       472\n",
      "11      430\n",
      "6       312\n",
      "8       288\n",
      "4        58\n",
      "Name: recommend_mode, dtype: int64\n"
     ]
    }
   ],
   "source": [
    "all_train_x = data[data.req_time <\n",
    "                   '2018-12-01'][feature].reset_index(drop=True)\n",
    "all_train_y = data[data.req_time <\n",
    "                   '2018-12-01'].click_mode.reset_index(drop=True)\n",
    "print(lgb_model.best_iteration_)\n",
    "lgb_model.n_estimators = lgb_model.best_iteration_\n",
    "lgb_model.fit(all_train_x, all_train_y, categorical_feature=cate_feature)\n",
    "print('fit over')\n",
    "result = pd.DataFrame()\n",
    "result['sid'] = data[test_index]['sid']\n",
    "result['recommend_mode'] = lgb_model.predict(test_x)\n",
    "result['recommend_mode'] = result['recommend_mode'].astype(int)\n",
    "print(len(result))\n",
    "print(result['recommend_mode'].value_counts())"
   ]
  },
  {
   "cell_type": "code",
   "execution_count": 211,
   "metadata": {
    "ExecuteTime": {
     "end_time": "2019-05-06T16:32:38.947680Z",
     "start_time": "2019-05-06T16:32:38.670619Z"
    },
    "colab": {},
    "colab_type": "code",
    "id": "XfZbGMgHCvYC"
   },
   "outputs": [],
   "source": [
    "result[['sid', 'recommend_mode']].to_csv(\n",
    "    project_path + 'Data/submit.csv', index=False)"
   ]
  },
  {
   "cell_type": "code",
   "execution_count": null,
   "metadata": {},
   "outputs": [],
   "source": []
  }
 ],
 "metadata": {
  "colab": {
   "collapsed_sections": [],
   "name": "Pipline.ipynb",
   "provenance": [],
   "version": "0.3.2"
  },
  "kernelspec": {
   "display_name": "Python 3",
   "language": "python",
   "name": "python3"
  },
  "language_info": {
   "codemirror_mode": {
    "name": "ipython",
    "version": 3
   },
   "file_extension": ".py",
   "mimetype": "text/x-python",
   "name": "python",
   "nbconvert_exporter": "python",
   "pygments_lexer": "ipython3",
   "version": "3.6.2"
  },
  "toc": {
   "base_numbering": 1,
   "nav_menu": {},
   "number_sections": true,
   "sideBar": true,
   "skip_h1_title": false,
   "title_cell": "Table of Contents",
   "title_sidebar": "Contents",
   "toc_cell": false,
   "toc_position": {},
   "toc_section_display": true,
   "toc_window_display": false
  },
  "varInspector": {
   "cols": {
    "lenName": 16,
    "lenType": 16,
    "lenVar": 40
   },
   "kernels_config": {
    "python": {
     "delete_cmd_postfix": "",
     "delete_cmd_prefix": "del ",
     "library": "var_list.py",
     "varRefreshCmd": "print(var_dic_list())"
    },
    "r": {
     "delete_cmd_postfix": ") ",
     "delete_cmd_prefix": "rm(",
     "library": "var_list.r",
     "varRefreshCmd": "cat(var_dic_list()) "
    }
   },
   "types_to_exclude": [
    "module",
    "function",
    "builtin_function_or_method",
    "instance",
    "_Feature"
   ],
   "window_display": false
  }
 },
 "nbformat": 4,
 "nbformat_minor": 1
}
