{
 "cells": [
  {
   "cell_type": "code",
   "execution_count": 134,
   "metadata": {
    "ExecuteTime": {
     "end_time": "2019-05-01T12:00:15.029805Z",
     "start_time": "2019-05-01T12:00:15.003490Z"
    }
   },
   "outputs": [],
   "source": [
    "from IPython.display import display\n",
    "import matplotlib.pyplot as plt\n",
    "import pandas as pd\n",
    "import numpy as np\n",
    "import seaborn as sns\n",
    "import matplotlib as mpl\n",
    "import warnings\n",
    "import time\n",
    "import json\n",
    "\n",
    "warnings.filterwarnings(\"ignore\")\n",
    "\n",
    "\n",
    "plt.style.use(\"fivethirtyeight\")\n",
    "\n",
    "sns.set_style({'font.sans-serif': ['simsun', 'Arial']})\n",
    "sns.set_style('darkgrid', {'font.sans-serif': ['simhei', 'Arial']})\n",
    "%matplotlib inline\n",
    "\n",
    "holidays = pd.Series(json.load(open(r'../../Data/Holidays.json'))['holidays'])\n",
    "subwayinfo = pd.read_csv(r'../../Data/BeijingSubway.csv')"
   ]
  },
  {
   "cell_type": "code",
   "execution_count": 128,
   "metadata": {
    "ExecuteTime": {
     "end_time": "2019-05-01T11:59:07.573107Z",
     "start_time": "2019-05-01T11:59:06.953303Z"
    }
   },
   "outputs": [],
   "source": [
    "df_copy = pd.read_csv(\n",
    "    r'../../Data/data_set_phase1/train_queries.csv')\n",
    "df = df_copy.copy()"
   ]
  },
  {
   "cell_type": "code",
   "execution_count": 129,
   "metadata": {
    "ExecuteTime": {
     "end_time": "2019-05-01T11:59:07.586476Z",
     "start_time": "2019-05-01T11:59:07.575468Z"
    }
   },
   "outputs": [
    {
     "data": {
      "text/html": [
       "<div>\n",
       "<style scoped>\n",
       "    .dataframe tbody tr th:only-of-type {\n",
       "        vertical-align: middle;\n",
       "    }\n",
       "\n",
       "    .dataframe tbody tr th {\n",
       "        vertical-align: top;\n",
       "    }\n",
       "\n",
       "    .dataframe thead th {\n",
       "        text-align: right;\n",
       "    }\n",
       "</style>\n",
       "<table border=\"1\" class=\"dataframe\">\n",
       "  <thead>\n",
       "    <tr style=\"text-align: right;\">\n",
       "      <th></th>\n",
       "      <th>sid</th>\n",
       "      <th>pid</th>\n",
       "      <th>req_time</th>\n",
       "      <th>o</th>\n",
       "      <th>d</th>\n",
       "    </tr>\n",
       "  </thead>\n",
       "  <tbody>\n",
       "    <tr>\n",
       "      <th>0</th>\n",
       "      <td>3000821</td>\n",
       "      <td>NaN</td>\n",
       "      <td>2018-11-02 17:54:30</td>\n",
       "      <td>116.29,39.97</td>\n",
       "      <td>116.32,39.96</td>\n",
       "    </tr>\n",
       "    <tr>\n",
       "      <th>1</th>\n",
       "      <td>3085857</td>\n",
       "      <td>210736.0</td>\n",
       "      <td>2018-11-16 10:53:10</td>\n",
       "      <td>116.39,39.84</td>\n",
       "      <td>116.33,39.79</td>\n",
       "    </tr>\n",
       "    <tr>\n",
       "      <th>2</th>\n",
       "      <td>2944522</td>\n",
       "      <td>NaN</td>\n",
       "      <td>2018-10-06 10:33:58</td>\n",
       "      <td>116.31,39.93</td>\n",
       "      <td>116.27,40.00</td>\n",
       "    </tr>\n",
       "    <tr>\n",
       "      <th>3</th>\n",
       "      <td>559931</td>\n",
       "      <td>202427.0</td>\n",
       "      <td>2018-11-23 14:54:11</td>\n",
       "      <td>116.27,39.88</td>\n",
       "      <td>116.39,39.90</td>\n",
       "    </tr>\n",
       "    <tr>\n",
       "      <th>4</th>\n",
       "      <td>2819352</td>\n",
       "      <td>172251.0</td>\n",
       "      <td>2018-10-30 11:48:41</td>\n",
       "      <td>116.34,39.96</td>\n",
       "      <td>116.37,39.86</td>\n",
       "    </tr>\n",
       "  </tbody>\n",
       "</table>\n",
       "</div>"
      ],
      "text/plain": [
       "       sid       pid             req_time             o             d\n",
       "0  3000821       NaN  2018-11-02 17:54:30  116.29,39.97  116.32,39.96\n",
       "1  3085857  210736.0  2018-11-16 10:53:10  116.39,39.84  116.33,39.79\n",
       "2  2944522       NaN  2018-10-06 10:33:58  116.31,39.93  116.27,40.00\n",
       "3   559931  202427.0  2018-11-23 14:54:11  116.27,39.88  116.39,39.90\n",
       "4  2819352  172251.0  2018-10-30 11:48:41  116.34,39.96  116.37,39.86"
      ]
     },
     "execution_count": 129,
     "metadata": {},
     "output_type": "execute_result"
    }
   ],
   "source": [
    "df.head()"
   ]
  },
  {
   "cell_type": "markdown",
   "metadata": {},
   "source": [
    "# Datetime"
   ]
  },
  {
   "cell_type": "code",
   "execution_count": 130,
   "metadata": {
    "ExecuteTime": {
     "end_time": "2019-05-01T11:59:13.007035Z",
     "start_time": "2019-05-01T11:59:07.590239Z"
    }
   },
   "outputs": [],
   "source": [
    "df['req_time'] = pd.to_datetime(df['req_time'])\n",
    "df['day_of_week'] = df['req_time'].dt.day_name()\n",
    "df['req_date'] = df['req_time'].dt.strftime('%m-%d')\n",
    "df['req_hour'] = df['req_time'].dt.hour\n",
    "df['req_minute'] = df['req_time'].dt.minute\n",
    "df['if_holiday'] = (df['req_date'].isin(holidays)).astype(int)\n",
    "\n",
    "# Week day\n",
    "current_c = list(df.columns.values)\n",
    "weekdays = ['Monday', 'Tuesday', 'Wednesday',\n",
    "            'Thursday', 'Friday', 'Saturday', 'Sunday']\n",
    "current_c.extend(weekdays)\n",
    "df = df.reindex(columns=current_c, fill_value=0)\n",
    "for day_name in weekdays:\n",
    "    df.loc[(df['day_of_week'] == day_name), [day_name]] = 1\n",
    "\n",
    "# Hour\n",
    "current_c = list(df.columns.values)\n",
    "oclock = [str(i)+'_oclock' for i in range(0, 24)]\n",
    "current_c.extend(oclock)\n",
    "df = df.reindex(columns=current_c, fill_value=0)\n",
    "for h in oclock:\n",
    "    df.loc[(df['req_hour'] == int(h.split('_')[0])), [h]] = 1"
   ]
  },
  {
   "cell_type": "code",
   "execution_count": 131,
   "metadata": {
    "ExecuteTime": {
     "end_time": "2019-05-01T11:59:13.103245Z",
     "start_time": "2019-05-01T11:59:13.010734Z"
    }
   },
   "outputs": [],
   "source": [
    "df.drop(columns=['req_time', 'day_of_week',\n",
    "                 'req_date', 'req_hour'], inplace=True)"
   ]
  },
  {
   "cell_type": "markdown",
   "metadata": {},
   "source": [
    "# Distance"
   ]
  },
  {
   "cell_type": "code",
   "execution_count": 135,
   "metadata": {
    "ExecuteTime": {
     "end_time": "2019-05-01T12:00:21.888451Z",
     "start_time": "2019-05-01T12:00:20.542575Z"
    }
   },
   "outputs": [],
   "source": [
    "df['o_lng'] = df['o'].apply(lambda x: float(x.split(',')[0]))\n",
    "df['o_lat'] = df['o'].apply(lambda x: float(x.split(',')[1]))\n",
    "df['d_lng'] = df['d'].apply(lambda x: float(x.split(',')[0]))\n",
    "df['d_lat'] = df['d'].apply(lambda x: float(x.split(',')[1]))\n",
    "df['od_manhattan_distance'] = abs(\n",
    "    df['o_lng']-df['d_lng'])+abs(df['o_lat']-df['d_lat'])"
   ]
  },
  {
   "cell_type": "code",
   "execution_count": 140,
   "metadata": {
    "ExecuteTime": {
     "end_time": "2019-05-01T12:10:18.318812Z",
     "start_time": "2019-05-01T12:10:18.305091Z"
    }
   },
   "outputs": [],
   "source": [
    "df['o_nearest_dis'] = np.nan\n",
    "df['d_nearest_dis'] = np.nan"
   ]
  },
  {
   "cell_type": "code",
   "execution_count": 141,
   "metadata": {
    "ExecuteTime": {
     "end_time": "2019-05-01T12:10:23.296339Z",
     "start_time": "2019-05-01T12:10:23.261076Z"
    }
   },
   "outputs": [
    {
     "data": {
      "text/html": [
       "<div>\n",
       "<style scoped>\n",
       "    .dataframe tbody tr th:only-of-type {\n",
       "        vertical-align: middle;\n",
       "    }\n",
       "\n",
       "    .dataframe tbody tr th {\n",
       "        vertical-align: top;\n",
       "    }\n",
       "\n",
       "    .dataframe thead th {\n",
       "        text-align: right;\n",
       "    }\n",
       "</style>\n",
       "<table border=\"1\" class=\"dataframe\">\n",
       "  <thead>\n",
       "    <tr style=\"text-align: right;\">\n",
       "      <th></th>\n",
       "      <th>sid</th>\n",
       "      <th>pid</th>\n",
       "      <th>o</th>\n",
       "      <th>d</th>\n",
       "      <th>req_minute</th>\n",
       "      <th>if_holiday</th>\n",
       "      <th>Monday</th>\n",
       "      <th>Tuesday</th>\n",
       "      <th>Wednesday</th>\n",
       "      <th>Thursday</th>\n",
       "      <th>...</th>\n",
       "      <th>21_oclock</th>\n",
       "      <th>22_oclock</th>\n",
       "      <th>23_oclock</th>\n",
       "      <th>o_lng</th>\n",
       "      <th>o_lat</th>\n",
       "      <th>d_lng</th>\n",
       "      <th>d_lat</th>\n",
       "      <th>od_manhattan_distance</th>\n",
       "      <th>o_nearest_dis</th>\n",
       "      <th>d_nearest_dis</th>\n",
       "    </tr>\n",
       "  </thead>\n",
       "  <tbody>\n",
       "    <tr>\n",
       "      <th>0</th>\n",
       "      <td>3000821</td>\n",
       "      <td>NaN</td>\n",
       "      <td>116.29,39.97</td>\n",
       "      <td>116.32,39.96</td>\n",
       "      <td>54</td>\n",
       "      <td>0</td>\n",
       "      <td>0</td>\n",
       "      <td>0</td>\n",
       "      <td>0</td>\n",
       "      <td>0</td>\n",
       "      <td>...</td>\n",
       "      <td>0</td>\n",
       "      <td>0</td>\n",
       "      <td>0</td>\n",
       "      <td>116.29</td>\n",
       "      <td>39.97</td>\n",
       "      <td>116.32</td>\n",
       "      <td>39.96</td>\n",
       "      <td>0.04</td>\n",
       "      <td>NaN</td>\n",
       "      <td>NaN</td>\n",
       "    </tr>\n",
       "    <tr>\n",
       "      <th>1</th>\n",
       "      <td>3085857</td>\n",
       "      <td>210736.0</td>\n",
       "      <td>116.39,39.84</td>\n",
       "      <td>116.33,39.79</td>\n",
       "      <td>53</td>\n",
       "      <td>0</td>\n",
       "      <td>0</td>\n",
       "      <td>0</td>\n",
       "      <td>0</td>\n",
       "      <td>0</td>\n",
       "      <td>...</td>\n",
       "      <td>0</td>\n",
       "      <td>0</td>\n",
       "      <td>0</td>\n",
       "      <td>116.39</td>\n",
       "      <td>39.84</td>\n",
       "      <td>116.33</td>\n",
       "      <td>39.79</td>\n",
       "      <td>0.11</td>\n",
       "      <td>NaN</td>\n",
       "      <td>NaN</td>\n",
       "    </tr>\n",
       "    <tr>\n",
       "      <th>2</th>\n",
       "      <td>2944522</td>\n",
       "      <td>NaN</td>\n",
       "      <td>116.31,39.93</td>\n",
       "      <td>116.27,40.00</td>\n",
       "      <td>33</td>\n",
       "      <td>1</td>\n",
       "      <td>0</td>\n",
       "      <td>0</td>\n",
       "      <td>0</td>\n",
       "      <td>0</td>\n",
       "      <td>...</td>\n",
       "      <td>0</td>\n",
       "      <td>0</td>\n",
       "      <td>0</td>\n",
       "      <td>116.31</td>\n",
       "      <td>39.93</td>\n",
       "      <td>116.27</td>\n",
       "      <td>40.00</td>\n",
       "      <td>0.11</td>\n",
       "      <td>NaN</td>\n",
       "      <td>NaN</td>\n",
       "    </tr>\n",
       "    <tr>\n",
       "      <th>3</th>\n",
       "      <td>559931</td>\n",
       "      <td>202427.0</td>\n",
       "      <td>116.27,39.88</td>\n",
       "      <td>116.39,39.90</td>\n",
       "      <td>54</td>\n",
       "      <td>0</td>\n",
       "      <td>0</td>\n",
       "      <td>0</td>\n",
       "      <td>0</td>\n",
       "      <td>0</td>\n",
       "      <td>...</td>\n",
       "      <td>0</td>\n",
       "      <td>0</td>\n",
       "      <td>0</td>\n",
       "      <td>116.27</td>\n",
       "      <td>39.88</td>\n",
       "      <td>116.39</td>\n",
       "      <td>39.90</td>\n",
       "      <td>0.14</td>\n",
       "      <td>NaN</td>\n",
       "      <td>NaN</td>\n",
       "    </tr>\n",
       "    <tr>\n",
       "      <th>4</th>\n",
       "      <td>2819352</td>\n",
       "      <td>172251.0</td>\n",
       "      <td>116.34,39.96</td>\n",
       "      <td>116.37,39.86</td>\n",
       "      <td>48</td>\n",
       "      <td>0</td>\n",
       "      <td>0</td>\n",
       "      <td>1</td>\n",
       "      <td>0</td>\n",
       "      <td>0</td>\n",
       "      <td>...</td>\n",
       "      <td>0</td>\n",
       "      <td>0</td>\n",
       "      <td>0</td>\n",
       "      <td>116.34</td>\n",
       "      <td>39.96</td>\n",
       "      <td>116.37</td>\n",
       "      <td>39.86</td>\n",
       "      <td>0.13</td>\n",
       "      <td>NaN</td>\n",
       "      <td>NaN</td>\n",
       "    </tr>\n",
       "  </tbody>\n",
       "</table>\n",
       "<p>5 rows × 44 columns</p>\n",
       "</div>"
      ],
      "text/plain": [
       "       sid       pid             o             d  req_minute  if_holiday  \\\n",
       "0  3000821       NaN  116.29,39.97  116.32,39.96          54           0   \n",
       "1  3085857  210736.0  116.39,39.84  116.33,39.79          53           0   \n",
       "2  2944522       NaN  116.31,39.93  116.27,40.00          33           1   \n",
       "3   559931  202427.0  116.27,39.88  116.39,39.90          54           0   \n",
       "4  2819352  172251.0  116.34,39.96  116.37,39.86          48           0   \n",
       "\n",
       "   Monday  Tuesday  Wednesday  Thursday  ...  21_oclock  22_oclock  23_oclock  \\\n",
       "0       0        0          0         0  ...          0          0          0   \n",
       "1       0        0          0         0  ...          0          0          0   \n",
       "2       0        0          0         0  ...          0          0          0   \n",
       "3       0        0          0         0  ...          0          0          0   \n",
       "4       0        1          0         0  ...          0          0          0   \n",
       "\n",
       "    o_lng  o_lat   d_lng  d_lat  od_manhattan_distance  o_nearest_dis  \\\n",
       "0  116.29  39.97  116.32  39.96                   0.04            NaN   \n",
       "1  116.39  39.84  116.33  39.79                   0.11            NaN   \n",
       "2  116.31  39.93  116.27  40.00                   0.11            NaN   \n",
       "3  116.27  39.88  116.39  39.90                   0.14            NaN   \n",
       "4  116.34  39.96  116.37  39.86                   0.13            NaN   \n",
       "\n",
       "   d_nearest_dis  \n",
       "0            NaN  \n",
       "1            NaN  \n",
       "2            NaN  \n",
       "3            NaN  \n",
       "4            NaN  \n",
       "\n",
       "[5 rows x 44 columns]"
      ]
     },
     "execution_count": 141,
     "metadata": {},
     "output_type": "execute_result"
    }
   ],
   "source": [
    "df.head()"
   ]
  },
  {
   "cell_type": "code",
   "execution_count": 149,
   "metadata": {
    "ExecuteTime": {
     "end_time": "2019-05-01T12:40:06.234173Z",
     "start_time": "2019-05-01T12:17:06.453542Z"
    }
   },
   "outputs": [
    {
     "name": "stderr",
     "output_type": "stream",
     "text": [
      "\n",
      "KeyboardInterrupt\n",
      "\n"
     ]
    }
   ],
   "source": [
    "# for index in df.index:\n",
    "#     df[index, 'o_nearest_dis'] = (abs(subwayinfo['station_longitude']-df.loc[index]\n",
    "#                                       ['o_lng'])+abs(subwayinfo['station_latitude']-df.loc[index]['o_lat'])).min()\n",
    "#     df[index, 'd_nearest_dis'] = (abs(subwayinfo['station_longitude']-df.loc[index]\n",
    "#                                       ['d_lng'])+abs(subwayinfo['station_latitude']-df.loc[index]['d_lat'])).min()"
   ]
  },
  {
   "cell_type": "code",
   "execution_count": null,
   "metadata": {},
   "outputs": [],
   "source": []
  }
 ],
 "metadata": {
  "kernelspec": {
   "display_name": "Python 3",
   "language": "python",
   "name": "python3"
  },
  "language_info": {
   "codemirror_mode": {
    "name": "ipython",
    "version": 3
   },
   "file_extension": ".py",
   "mimetype": "text/x-python",
   "name": "python",
   "nbconvert_exporter": "python",
   "pygments_lexer": "ipython3",
   "version": "3.6.8"
  },
  "toc": {
   "base_numbering": 1,
   "nav_menu": {},
   "number_sections": true,
   "sideBar": true,
   "skip_h1_title": false,
   "title_cell": "Table of Contents",
   "title_sidebar": "Contents",
   "toc_cell": false,
   "toc_position": {},
   "toc_section_display": true,
   "toc_window_display": false
  },
  "varInspector": {
   "cols": {
    "lenName": 16,
    "lenType": 16,
    "lenVar": 40
   },
   "kernels_config": {
    "python": {
     "delete_cmd_postfix": "",
     "delete_cmd_prefix": "del ",
     "library": "var_list.py",
     "varRefreshCmd": "print(var_dic_list())"
    },
    "r": {
     "delete_cmd_postfix": ") ",
     "delete_cmd_prefix": "rm(",
     "library": "var_list.r",
     "varRefreshCmd": "cat(var_dic_list()) "
    }
   },
   "types_to_exclude": [
    "module",
    "function",
    "builtin_function_or_method",
    "instance",
    "_Feature"
   ],
   "window_display": false
  }
 },
 "nbformat": 4,
 "nbformat_minor": 2
}
