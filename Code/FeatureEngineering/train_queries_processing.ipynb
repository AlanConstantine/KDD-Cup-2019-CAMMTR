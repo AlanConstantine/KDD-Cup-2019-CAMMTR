{
 "cells": [
  {
   "cell_type": "code",
   "execution_count": 1,
   "metadata": {
    "ExecuteTime": {
     "end_time": "2019-05-01T13:34:01.071406Z",
     "start_time": "2019-05-01T13:33:52.741421Z"
    }
   },
   "outputs": [],
   "source": [
    "from IPython.display import display\n",
    "import matplotlib.pyplot as plt\n",
    "import pandas as pd\n",
    "import numpy as np\n",
    "import seaborn as sns\n",
    "import matplotlib as mpl\n",
    "import warnings\n",
    "import time\n",
    "import json\n",
    "\n",
    "warnings.filterwarnings(\"ignore\")\n",
    "\n",
    "\n",
    "plt.style.use(\"fivethirtyeight\")\n",
    "\n",
    "sns.set_style({'font.sans-serif': ['simsun', 'Arial']})\n",
    "sns.set_style('darkgrid', {'font.sans-serif': ['simhei', 'Arial']})\n",
    "%matplotlib inline\n",
    "\n",
    "holidays = pd.Series(json.load(open(r'../../Data/Holidays.json'))['holidays'])\n",
    "subwayinfo = pd.read_csv(r'../../Data/BeijingSubway.csv')"
   ]
  },
  {
   "cell_type": "code",
   "execution_count": 2,
   "metadata": {
    "ExecuteTime": {
     "end_time": "2019-05-01T13:34:01.957898Z",
     "start_time": "2019-05-01T13:34:01.075464Z"
    }
   },
   "outputs": [],
   "source": [
    "df_copy = pd.read_csv(\n",
    "    r'../../Data/data_set_phase1/train_queries.csv')\n",
    "df = df_copy.copy()"
   ]
  },
  {
   "cell_type": "markdown",
   "metadata": {},
   "source": [
    "# Datetime"
   ]
  },
  {
   "cell_type": "code",
   "execution_count": 4,
   "metadata": {
    "ExecuteTime": {
     "end_time": "2019-05-01T13:34:07.575682Z",
     "start_time": "2019-05-01T13:34:02.152759Z"
    }
   },
   "outputs": [],
   "source": [
    "df['req_time'] = pd.to_datetime(df['req_time'])\n",
    "df['day_of_week'] = df['req_time'].dt.day_name()\n",
    "df['req_date'] = df['req_time'].dt.strftime('%m-%d')\n",
    "df['req_hour'] = df['req_time'].dt.hour\n",
    "df['req_minute'] = df['req_time'].dt.minute\n",
    "df['if_holiday'] = (df['req_date'].isin(holidays)).astype(int)\n",
    "\n",
    "# Week day\n",
    "current_c = list(df.columns.values)\n",
    "weekdays = ['Monday', 'Tuesday', 'Wednesday',\n",
    "            'Thursday', 'Friday', 'Saturday', 'Sunday']\n",
    "current_c.extend(weekdays)\n",
    "df = df.reindex(columns=current_c, fill_value=0)\n",
    "for day_name in weekdays:\n",
    "    df.loc[(df['day_of_week'] == day_name), [day_name]] = 1\n",
    "\n",
    "# Hour\n",
    "current_c = list(df.columns.values)\n",
    "oclock = [str(i)+'_oclock' for i in range(0, 24)]\n",
    "current_c.extend(oclock)\n",
    "df = df.reindex(columns=current_c, fill_value=0)\n",
    "for h in oclock:\n",
    "    df.loc[(df['req_hour'] == int(h.split('_')[0])), [h]] = 1"
   ]
  },
  {
   "cell_type": "code",
   "execution_count": null,
   "metadata": {
    "ExecuteTime": {
     "start_time": "2019-05-01T13:33:52.620Z"
    }
   },
   "outputs": [],
   "source": [
    "df.drop(columns=['day_of_week','req_date', 'req_hour'], inplace=True)"
   ]
  },
  {
   "cell_type": "markdown",
   "metadata": {},
   "source": [
    "# Distance"
   ]
  },
  {
   "cell_type": "code",
   "execution_count": null,
   "metadata": {
    "ExecuteTime": {
     "start_time": "2019-05-01T13:33:52.621Z"
    }
   },
   "outputs": [],
   "source": [
    "df['o_lng'] = df['o'].apply(lambda x: float(x.split(',')[0]))\n",
    "df['o_lat'] = df['o'].apply(lambda x: float(x.split(',')[1]))\n",
    "df['d_lng'] = df['d'].apply(lambda x: float(x.split(',')[0]))\n",
    "df['d_lat'] = df['d'].apply(lambda x: float(x.split(',')[1]))\n",
    "df['od_manhattan_distance'] = abs(\n",
    "    df['o_lng']-df['d_lng'])+abs(df['o_lat']-df['d_lat'])"
   ]
  },
  {
   "cell_type": "code",
   "execution_count": null,
   "metadata": {
    "ExecuteTime": {
     "start_time": "2019-05-01T13:33:52.623Z"
    }
   },
   "outputs": [],
   "source": [
    "df['o_nearest_dis'] = np.nan\n",
    "df['d_nearest_dis'] = np.nan"
   ]
  },
  {
   "cell_type": "code",
   "execution_count": null,
   "metadata": {
    "ExecuteTime": {
     "start_time": "2019-05-01T13:33:52.624Z"
    }
   },
   "outputs": [],
   "source": [
    "for index in df.index:\n",
    "    df[index, 'o_nearest_dis'] = (abs(subwayinfo['station_longitude']-df.loc[index]\n",
    "                                      ['o_lng'])+abs(subwayinfo['station_latitude']-df.loc[index]['o_lat'])).min()\n",
    "    df[index, 'd_nearest_dis'] = (abs(subwayinfo['station_longitude']-df.loc[index]\n",
    "                                      ['d_lng'])+abs(subwayinfo['station_latitude']-df.loc[index]['d_lat'])).min()"
   ]
  },
  {
   "cell_type": "code",
   "execution_count": null,
   "metadata": {
    "ExecuteTime": {
     "start_time": "2019-05-01T13:33:52.626Z"
    }
   },
   "outputs": [],
   "source": [
    "df.head()"
   ]
  },
  {
   "cell_type": "code",
   "execution_count": null,
   "metadata": {},
   "outputs": [],
   "source": []
  }
 ],
 "metadata": {
  "kernelspec": {
   "display_name": "Python 3",
   "language": "python",
   "name": "python3"
  },
  "language_info": {
   "codemirror_mode": {
    "name": "ipython",
    "version": 3
   },
   "file_extension": ".py",
   "mimetype": "text/x-python",
   "name": "python",
   "nbconvert_exporter": "python",
   "pygments_lexer": "ipython3",
   "version": "3.5.2"
  },
  "toc": {
   "base_numbering": 1,
   "nav_menu": {},
   "number_sections": true,
   "sideBar": true,
   "skip_h1_title": false,
   "title_cell": "Table of Contents",
   "title_sidebar": "Contents",
   "toc_cell": false,
   "toc_position": {},
   "toc_section_display": true,
   "toc_window_display": false
  },
  "varInspector": {
   "cols": {
    "lenName": 16,
    "lenType": 16,
    "lenVar": 40
   },
   "kernels_config": {
    "python": {
     "delete_cmd_postfix": "",
     "delete_cmd_prefix": "del ",
     "library": "var_list.py",
     "varRefreshCmd": "print(var_dic_list())"
    },
    "r": {
     "delete_cmd_postfix": ") ",
     "delete_cmd_prefix": "rm(",
     "library": "var_list.r",
     "varRefreshCmd": "cat(var_dic_list()) "
    }
   },
   "types_to_exclude": [
    "module",
    "function",
    "builtin_function_or_method",
    "instance",
    "_Feature"
   ],
   "window_display": false
  }
 },
 "nbformat": 4,
 "nbformat_minor": 2
}
